{
 "cells": [
  {
   "cell_type": "markdown",
   "metadata": {},
   "source": [
    "# Análisis Exploratorio"
   ]
  },
  {
   "cell_type": "markdown",
   "metadata": {},
   "source": [
    "## Lectura de datos"
   ]
  },
  {
   "cell_type": "markdown",
   "metadata": {},
   "source": [
    "Comenzaremos importando todas las librerías necesarias para realizar el análisis exploratorio."
   ]
  },
  {
   "cell_type": "code",
   "execution_count": 2,
   "metadata": {},
   "outputs": [],
   "source": [
    "import pandas as pd\n",
    "import numpy as np\n",
    "import matplotlib.pyplot as plt\n",
    "import seaborn as sns"
   ]
  },
  {
   "cell_type": "markdown",
   "metadata": {},
   "source": [
    "A continuación, leemos los datos "
   ]
  },
  {
   "cell_type": "code",
   "execution_count": 66,
   "metadata": {},
   "outputs": [],
   "source": [
    "data = pd.read_excel(\"data/datos.xlsx\" )"
   ]
  },
  {
   "cell_type": "code",
   "execution_count": 69,
   "metadata": {},
   "outputs": [
    {
     "data": {
      "text/html": [
       "<div>\n",
       "<style scoped>\n",
       "    .dataframe tbody tr th:only-of-type {\n",
       "        vertical-align: middle;\n",
       "    }\n",
       "\n",
       "    .dataframe tbody tr th {\n",
       "        vertical-align: top;\n",
       "    }\n",
       "\n",
       "    .dataframe thead th {\n",
       "        text-align: right;\n",
       "    }\n",
       "</style>\n",
       "<table border=\"1\" class=\"dataframe\">\n",
       "  <thead>\n",
       "    <tr style=\"text-align: right;\">\n",
       "      <th></th>\n",
       "      <th>Patient nuber</th>\n",
       "      <th>Materna age [years]</th>\n",
       "      <th>Pre-pregnancy weight [kg]</th>\n",
       "      <th>Maternal hight [m]</th>\n",
       "      <th>BMI [kg/m²]</th>\n",
       "      <th>Art ut. D-resistance index [RI]</th>\n",
       "      <th>Art ut. D-pulsatility index [PI]</th>\n",
       "      <th>Art ut. D-Peak Systolic Velocity [PSV]</th>\n",
       "      <th>Art ut. L-resistance index [RI]</th>\n",
       "      <th>Art ut. L-pulsatility index [PI]</th>\n",
       "      <th>...</th>\n",
       "      <th>Mean PI</th>\n",
       "      <th>Mean PSV</th>\n",
       "      <th>Bilateral notch</th>\n",
       "      <th>Gestational age at delivery [weeks]</th>\n",
       "      <th>Parity</th>\n",
       "      <th>Birth weight [g]</th>\n",
       "      <th>S-Flt1 [µg/L]</th>\n",
       "      <th>S-PLGF [µg/L]</th>\n",
       "      <th>sFLT/PLGF</th>\n",
       "      <th>Class</th>\n",
       "    </tr>\n",
       "  </thead>\n",
       "  <tbody>\n",
       "    <tr>\n",
       "      <td>0</td>\n",
       "      <td>2 DM</td>\n",
       "      <td>37</td>\n",
       "      <td>58.0</td>\n",
       "      <td>1.70</td>\n",
       "      <td>20.069204</td>\n",
       "      <td>0.43</td>\n",
       "      <td>0.56</td>\n",
       "      <td>65.3</td>\n",
       "      <td>0.49</td>\n",
       "      <td>0.60</td>\n",
       "      <td>...</td>\n",
       "      <td>0.580</td>\n",
       "      <td>59.6</td>\n",
       "      <td>0</td>\n",
       "      <td>37.285714</td>\n",
       "      <td>1</td>\n",
       "      <td>3060</td>\n",
       "      <td>11511</td>\n",
       "      <td>102.8</td>\n",
       "      <td>111.974708</td>\n",
       "      <td>Control</td>\n",
       "    </tr>\n",
       "    <tr>\n",
       "      <td>1</td>\n",
       "      <td>650387</td>\n",
       "      <td>35</td>\n",
       "      <td>46.0</td>\n",
       "      <td>1.64</td>\n",
       "      <td>17.102915</td>\n",
       "      <td>0.40</td>\n",
       "      <td>0.54</td>\n",
       "      <td>62.5</td>\n",
       "      <td>0.67</td>\n",
       "      <td>0.73</td>\n",
       "      <td>...</td>\n",
       "      <td>0.635</td>\n",
       "      <td>67.7</td>\n",
       "      <td>0</td>\n",
       "      <td>36.714286</td>\n",
       "      <td>3</td>\n",
       "      <td>2780</td>\n",
       "      <td>3146</td>\n",
       "      <td>752.8</td>\n",
       "      <td>4.179065</td>\n",
       "      <td>Control</td>\n",
       "    </tr>\n",
       "    <tr>\n",
       "      <td>2</td>\n",
       "      <td>650394</td>\n",
       "      <td>34</td>\n",
       "      <td>64.0</td>\n",
       "      <td>1.75</td>\n",
       "      <td>20.897959</td>\n",
       "      <td>0.41</td>\n",
       "      <td>0.60</td>\n",
       "      <td>59.7</td>\n",
       "      <td>0.53</td>\n",
       "      <td>0.62</td>\n",
       "      <td>...</td>\n",
       "      <td>0.610</td>\n",
       "      <td>61.0</td>\n",
       "      <td>0</td>\n",
       "      <td>35.142857</td>\n",
       "      <td>1</td>\n",
       "      <td>2450</td>\n",
       "      <td>3858</td>\n",
       "      <td>203.2</td>\n",
       "      <td>18.986220</td>\n",
       "      <td>Control</td>\n",
       "    </tr>\n",
       "    <tr>\n",
       "      <td>3</td>\n",
       "      <td>678474</td>\n",
       "      <td>31</td>\n",
       "      <td>49.0</td>\n",
       "      <td>1.52</td>\n",
       "      <td>21.208449</td>\n",
       "      <td>0.65</td>\n",
       "      <td>0.97</td>\n",
       "      <td>61.5</td>\n",
       "      <td>0.59</td>\n",
       "      <td>0.99</td>\n",
       "      <td>...</td>\n",
       "      <td>0.980</td>\n",
       "      <td>64.8</td>\n",
       "      <td>0</td>\n",
       "      <td>36.428571</td>\n",
       "      <td>2</td>\n",
       "      <td>2490</td>\n",
       "      <td>995</td>\n",
       "      <td>1051.0</td>\n",
       "      <td>0.946717</td>\n",
       "      <td>Control</td>\n",
       "    </tr>\n",
       "    <tr>\n",
       "      <td>4</td>\n",
       "      <td>653633</td>\n",
       "      <td>31</td>\n",
       "      <td>66.0</td>\n",
       "      <td>1.60</td>\n",
       "      <td>25.781250</td>\n",
       "      <td>0.62</td>\n",
       "      <td>0.88</td>\n",
       "      <td>58.1</td>\n",
       "      <td>0.59</td>\n",
       "      <td>0.76</td>\n",
       "      <td>...</td>\n",
       "      <td>0.820</td>\n",
       "      <td>58.6</td>\n",
       "      <td>0</td>\n",
       "      <td>32.142857</td>\n",
       "      <td>1</td>\n",
       "      <td>1905</td>\n",
       "      <td>1667</td>\n",
       "      <td>1440.0</td>\n",
       "      <td>1.157639</td>\n",
       "      <td>Control</td>\n",
       "    </tr>\n",
       "  </tbody>\n",
       "</table>\n",
       "<p>5 rows × 22 columns</p>\n",
       "</div>"
      ],
      "text/plain": [
       "  Patient nuber  Materna age [years]  Pre-pregnancy weight [kg]  \\\n",
       "0          2 DM                   37                       58.0   \n",
       "1        650387                   35                       46.0   \n",
       "2        650394                   34                       64.0   \n",
       "3        678474                   31                       49.0   \n",
       "4        653633                   31                       66.0   \n",
       "\n",
       "    Maternal hight [m]  BMI [kg/m²]  Art ut. D-resistance index [RI]  \\\n",
       "0                 1.70    20.069204                             0.43   \n",
       "1                 1.64    17.102915                             0.40   \n",
       "2                 1.75    20.897959                             0.41   \n",
       "3                 1.52    21.208449                             0.65   \n",
       "4                 1.60    25.781250                             0.62   \n",
       "\n",
       "   Art ut. D-pulsatility index [PI]  Art ut. D-Peak Systolic Velocity [PSV]  \\\n",
       "0                              0.56                                    65.3   \n",
       "1                              0.54                                    62.5   \n",
       "2                              0.60                                    59.7   \n",
       "3                              0.97                                    61.5   \n",
       "4                              0.88                                    58.1   \n",
       "\n",
       "   Art ut. L-resistance index [RI]  Art ut. L-pulsatility index [PI]  ...  \\\n",
       "0                             0.49                              0.60  ...   \n",
       "1                             0.67                              0.73  ...   \n",
       "2                             0.53                              0.62  ...   \n",
       "3                             0.59                              0.99  ...   \n",
       "4                             0.59                              0.76  ...   \n",
       "\n",
       "   Mean PI  Mean PSV  Bilateral notch  Gestational age at delivery [weeks]  \\\n",
       "0    0.580      59.6                0                            37.285714   \n",
       "1    0.635      67.7                0                            36.714286   \n",
       "2    0.610      61.0                0                            35.142857   \n",
       "3    0.980      64.8                0                            36.428571   \n",
       "4    0.820      58.6                0                            32.142857   \n",
       "\n",
       "   Parity  Birth weight [g]  S-Flt1 [µg/L] S-PLGF [µg/L]   sFLT/PLGF    Class  \n",
       "0       1              3060          11511         102.8  111.974708  Control  \n",
       "1       3              2780           3146         752.8    4.179065  Control  \n",
       "2       1              2450           3858         203.2   18.986220  Control  \n",
       "3       2              2490            995        1051.0    0.946717  Control  \n",
       "4       1              1905           1667        1440.0    1.157639  Control  \n",
       "\n",
       "[5 rows x 22 columns]"
      ]
     },
     "execution_count": 69,
     "metadata": {},
     "output_type": "execute_result"
    }
   ],
   "source": [
    "data.head()"
   ]
  },
  {
   "cell_type": "code",
   "execution_count": 70,
   "metadata": {},
   "outputs": [
    {
     "data": {
      "text/plain": [
       "Index(['Patient nuber', 'Materna age [years]', 'Pre-pregnancy weight [kg]',\n",
       "       ' Maternal hight [m]', 'BMI [kg/m²]', 'Art ut. D-resistance index [RI]',\n",
       "       'Art ut. D-pulsatility index [PI]',\n",
       "       'Art ut. D-Peak Systolic Velocity [PSV]',\n",
       "       'Art ut. L-resistance index [RI]', 'Art ut. L-pulsatility index [PI]',\n",
       "       'Art ut. L-Peak Systolic Velocity [PSV]', 'Mean RI', 'Mean PI',\n",
       "       'Mean PSV', 'Bilateral notch', 'Gestational age at delivery [weeks]',\n",
       "       'Parity', 'Birth weight [g]', 'S-Flt1 [µg/L]', 'S-PLGF [µg/L]',\n",
       "       'sFLT/PLGF', 'Class'],\n",
       "      dtype='object')"
      ]
     },
     "execution_count": 70,
     "metadata": {},
     "output_type": "execute_result"
    }
   ],
   "source": [
    "data.columns"
   ]
  },
  {
   "cell_type": "markdown",
   "metadata": {},
   "source": [
    "Vamos a eliminar la columna de **ID** ya que se trata solo de un número utilizado para identificar a cada paciente "
   ]
  },
  {
   "cell_type": "code",
   "execution_count": 71,
   "metadata": {},
   "outputs": [],
   "source": [
    "data.drop('Patient nuber', axis=1, inplace=True)"
   ]
  },
  {
   "cell_type": "markdown",
   "metadata": {},
   "source": [
    "Además, vamos a renombrar las  columnas del dataframe para facilitar el acceso a ellas. "
   ]
  },
  {
   "cell_type": "code",
   "execution_count": 72,
   "metadata": {},
   "outputs": [],
   "source": [
    "data.columns=[\"age\", \"weight\", \"height\", \"BMI\", \"R-RI\", \"R-PI\", \"R-PSV\", \"L-RI\", \"L-PI\", \"L-PSV\", \"meanRI\", \"meanPI\", \"meanPSV\", \"bilateralNotch\", \"age_delivery\", \"parity\", \"birth_weight\", \"S-Flt1\", \"S-PLGF\", \"sFLT/PLGF\", \"class\"] "
   ]
  },
  {
   "cell_type": "code",
   "execution_count": 8,
   "metadata": {},
   "outputs": [
    {
     "data": {
      "text/html": [
       "<div>\n",
       "<style scoped>\n",
       "    .dataframe tbody tr th:only-of-type {\n",
       "        vertical-align: middle;\n",
       "    }\n",
       "\n",
       "    .dataframe tbody tr th {\n",
       "        vertical-align: top;\n",
       "    }\n",
       "\n",
       "    .dataframe thead th {\n",
       "        text-align: right;\n",
       "    }\n",
       "</style>\n",
       "<table border=\"1\" class=\"dataframe\">\n",
       "  <thead>\n",
       "    <tr style=\"text-align: right;\">\n",
       "      <th></th>\n",
       "      <th>age</th>\n",
       "      <th>weight</th>\n",
       "      <th>height</th>\n",
       "      <th>BMI</th>\n",
       "      <th>R-RI</th>\n",
       "      <th>R-PI</th>\n",
       "      <th>R-PSV</th>\n",
       "      <th>L-RI</th>\n",
       "      <th>L-PI</th>\n",
       "      <th>L-PSV</th>\n",
       "      <th>...</th>\n",
       "      <th>meanPI</th>\n",
       "      <th>meanPSV</th>\n",
       "      <th>bilateralNotch</th>\n",
       "      <th>age_delivery</th>\n",
       "      <th>parity</th>\n",
       "      <th>birth_weight</th>\n",
       "      <th>S-Flt1</th>\n",
       "      <th>S-PLGF</th>\n",
       "      <th>sFLT/PLGF</th>\n",
       "      <th>class</th>\n",
       "    </tr>\n",
       "  </thead>\n",
       "  <tbody>\n",
       "    <tr>\n",
       "      <td>0</td>\n",
       "      <td>37</td>\n",
       "      <td>58.0</td>\n",
       "      <td>1.70</td>\n",
       "      <td>20.069204</td>\n",
       "      <td>0.43</td>\n",
       "      <td>0.56</td>\n",
       "      <td>65.3</td>\n",
       "      <td>0.49</td>\n",
       "      <td>0.60</td>\n",
       "      <td>53.9</td>\n",
       "      <td>...</td>\n",
       "      <td>0.580</td>\n",
       "      <td>59.6</td>\n",
       "      <td>0</td>\n",
       "      <td>37.285714</td>\n",
       "      <td>1</td>\n",
       "      <td>3060</td>\n",
       "      <td>11511</td>\n",
       "      <td>102.8</td>\n",
       "      <td>111.974708</td>\n",
       "      <td>Control</td>\n",
       "    </tr>\n",
       "    <tr>\n",
       "      <td>1</td>\n",
       "      <td>35</td>\n",
       "      <td>46.0</td>\n",
       "      <td>1.64</td>\n",
       "      <td>17.102915</td>\n",
       "      <td>0.40</td>\n",
       "      <td>0.54</td>\n",
       "      <td>62.5</td>\n",
       "      <td>0.67</td>\n",
       "      <td>0.73</td>\n",
       "      <td>72.9</td>\n",
       "      <td>...</td>\n",
       "      <td>0.635</td>\n",
       "      <td>67.7</td>\n",
       "      <td>0</td>\n",
       "      <td>36.714286</td>\n",
       "      <td>3</td>\n",
       "      <td>2780</td>\n",
       "      <td>3146</td>\n",
       "      <td>752.8</td>\n",
       "      <td>4.179065</td>\n",
       "      <td>Control</td>\n",
       "    </tr>\n",
       "    <tr>\n",
       "      <td>2</td>\n",
       "      <td>34</td>\n",
       "      <td>64.0</td>\n",
       "      <td>1.75</td>\n",
       "      <td>20.897959</td>\n",
       "      <td>0.41</td>\n",
       "      <td>0.60</td>\n",
       "      <td>59.7</td>\n",
       "      <td>0.53</td>\n",
       "      <td>0.62</td>\n",
       "      <td>62.3</td>\n",
       "      <td>...</td>\n",
       "      <td>0.610</td>\n",
       "      <td>61.0</td>\n",
       "      <td>0</td>\n",
       "      <td>35.142857</td>\n",
       "      <td>1</td>\n",
       "      <td>2450</td>\n",
       "      <td>3858</td>\n",
       "      <td>203.2</td>\n",
       "      <td>18.986220</td>\n",
       "      <td>Control</td>\n",
       "    </tr>\n",
       "    <tr>\n",
       "      <td>3</td>\n",
       "      <td>31</td>\n",
       "      <td>49.0</td>\n",
       "      <td>1.52</td>\n",
       "      <td>21.208449</td>\n",
       "      <td>0.65</td>\n",
       "      <td>0.97</td>\n",
       "      <td>61.5</td>\n",
       "      <td>0.59</td>\n",
       "      <td>0.99</td>\n",
       "      <td>68.1</td>\n",
       "      <td>...</td>\n",
       "      <td>0.980</td>\n",
       "      <td>64.8</td>\n",
       "      <td>0</td>\n",
       "      <td>36.428571</td>\n",
       "      <td>2</td>\n",
       "      <td>2490</td>\n",
       "      <td>995</td>\n",
       "      <td>1051.0</td>\n",
       "      <td>0.946717</td>\n",
       "      <td>Control</td>\n",
       "    </tr>\n",
       "    <tr>\n",
       "      <td>4</td>\n",
       "      <td>31</td>\n",
       "      <td>66.0</td>\n",
       "      <td>1.60</td>\n",
       "      <td>25.781250</td>\n",
       "      <td>0.62</td>\n",
       "      <td>0.88</td>\n",
       "      <td>58.1</td>\n",
       "      <td>0.59</td>\n",
       "      <td>0.76</td>\n",
       "      <td>59.1</td>\n",
       "      <td>...</td>\n",
       "      <td>0.820</td>\n",
       "      <td>58.6</td>\n",
       "      <td>0</td>\n",
       "      <td>32.142857</td>\n",
       "      <td>1</td>\n",
       "      <td>1905</td>\n",
       "      <td>1667</td>\n",
       "      <td>1440.0</td>\n",
       "      <td>1.157639</td>\n",
       "      <td>Control</td>\n",
       "    </tr>\n",
       "  </tbody>\n",
       "</table>\n",
       "<p>5 rows × 21 columns</p>\n",
       "</div>"
      ],
      "text/plain": [
       "   age  weight  height        BMI  R-RI  R-PI  R-PSV  L-RI  L-PI  L-PSV  ...  \\\n",
       "0   37    58.0    1.70  20.069204  0.43  0.56   65.3  0.49  0.60   53.9  ...   \n",
       "1   35    46.0    1.64  17.102915  0.40  0.54   62.5  0.67  0.73   72.9  ...   \n",
       "2   34    64.0    1.75  20.897959  0.41  0.60   59.7  0.53  0.62   62.3  ...   \n",
       "3   31    49.0    1.52  21.208449  0.65  0.97   61.5  0.59  0.99   68.1  ...   \n",
       "4   31    66.0    1.60  25.781250  0.62  0.88   58.1  0.59  0.76   59.1  ...   \n",
       "\n",
       "   meanPI  meanPSV  bilateralNotch  age_delivery  parity  birth_weight S-Flt1  \\\n",
       "0   0.580     59.6               0     37.285714       1          3060  11511   \n",
       "1   0.635     67.7               0     36.714286       3          2780   3146   \n",
       "2   0.610     61.0               0     35.142857       1          2450   3858   \n",
       "3   0.980     64.8               0     36.428571       2          2490    995   \n",
       "4   0.820     58.6               0     32.142857       1          1905   1667   \n",
       "\n",
       "   S-PLGF   sFLT/PLGF    class  \n",
       "0   102.8  111.974708  Control  \n",
       "1   752.8    4.179065  Control  \n",
       "2   203.2   18.986220  Control  \n",
       "3  1051.0    0.946717  Control  \n",
       "4  1440.0    1.157639  Control  \n",
       "\n",
       "[5 rows x 21 columns]"
      ]
     },
     "execution_count": 8,
     "metadata": {},
     "output_type": "execute_result"
    }
   ],
   "source": [
    "data.head(5)"
   ]
  },
  {
   "cell_type": "markdown",
   "metadata": {},
   "source": [
    "Veamos qué dimensiones tiene el dataset:"
   ]
  },
  {
   "cell_type": "code",
   "execution_count": 9,
   "metadata": {},
   "outputs": [
    {
     "data": {
      "text/plain": [
       "(95, 21)"
      ]
     },
     "execution_count": 9,
     "metadata": {},
     "output_type": "execute_result"
    }
   ],
   "source": [
    "data.shape"
   ]
  },
  {
   "cell_type": "markdown",
   "metadata": {},
   "source": [
    "Como se puede observar, está compuesto por 21 atributos (columnas) y 95 instancias (filas). Veamos ahora la descripción estadística de los datos numéricos."
   ]
  },
  {
   "cell_type": "code",
   "execution_count": 10,
   "metadata": {},
   "outputs": [
    {
     "data": {
      "text/html": [
       "<div>\n",
       "<style scoped>\n",
       "    .dataframe tbody tr th:only-of-type {\n",
       "        vertical-align: middle;\n",
       "    }\n",
       "\n",
       "    .dataframe tbody tr th {\n",
       "        vertical-align: top;\n",
       "    }\n",
       "\n",
       "    .dataframe thead th {\n",
       "        text-align: right;\n",
       "    }\n",
       "</style>\n",
       "<table border=\"1\" class=\"dataframe\">\n",
       "  <thead>\n",
       "    <tr style=\"text-align: right;\">\n",
       "      <th></th>\n",
       "      <th>age</th>\n",
       "      <th>weight</th>\n",
       "      <th>height</th>\n",
       "      <th>BMI</th>\n",
       "      <th>R-RI</th>\n",
       "      <th>R-PI</th>\n",
       "      <th>R-PSV</th>\n",
       "      <th>L-RI</th>\n",
       "      <th>L-PI</th>\n",
       "      <th>L-PSV</th>\n",
       "      <th>meanRI</th>\n",
       "      <th>meanPI</th>\n",
       "      <th>meanPSV</th>\n",
       "      <th>bilateralNotch</th>\n",
       "      <th>age_delivery</th>\n",
       "      <th>parity</th>\n",
       "      <th>S-Flt1</th>\n",
       "      <th>S-PLGF</th>\n",
       "      <th>sFLT/PLGF</th>\n",
       "    </tr>\n",
       "  </thead>\n",
       "  <tbody>\n",
       "    <tr>\n",
       "      <td>count</td>\n",
       "      <td>95.000000</td>\n",
       "      <td>94.000000</td>\n",
       "      <td>94.000000</td>\n",
       "      <td>92.000000</td>\n",
       "      <td>95.000000</td>\n",
       "      <td>95.000000</td>\n",
       "      <td>95.000000</td>\n",
       "      <td>95.000000</td>\n",
       "      <td>95.000000</td>\n",
       "      <td>95.000000</td>\n",
       "      <td>95.000000</td>\n",
       "      <td>95.00000</td>\n",
       "      <td>93.000000</td>\n",
       "      <td>95.000000</td>\n",
       "      <td>95.000000</td>\n",
       "      <td>95.000000</td>\n",
       "      <td>95.000000</td>\n",
       "      <td>95.000000</td>\n",
       "      <td>95.000000</td>\n",
       "    </tr>\n",
       "    <tr>\n",
       "      <td>mean</td>\n",
       "      <td>32.147368</td>\n",
       "      <td>67.531915</td>\n",
       "      <td>1.655638</td>\n",
       "      <td>24.616912</td>\n",
       "      <td>0.639474</td>\n",
       "      <td>1.063158</td>\n",
       "      <td>60.809053</td>\n",
       "      <td>0.655895</td>\n",
       "      <td>1.102842</td>\n",
       "      <td>61.128000</td>\n",
       "      <td>0.647684</td>\n",
       "      <td>1.08300</td>\n",
       "      <td>61.022151</td>\n",
       "      <td>0.600000</td>\n",
       "      <td>33.871278</td>\n",
       "      <td>1.536842</td>\n",
       "      <td>13156.200000</td>\n",
       "      <td>302.825789</td>\n",
       "      <td>243.129174</td>\n",
       "    </tr>\n",
       "    <tr>\n",
       "      <td>std</td>\n",
       "      <td>5.084328</td>\n",
       "      <td>14.354724</td>\n",
       "      <td>0.062554</td>\n",
       "      <td>4.800613</td>\n",
       "      <td>0.126444</td>\n",
       "      <td>0.501891</td>\n",
       "      <td>6.709441</td>\n",
       "      <td>0.108437</td>\n",
       "      <td>0.470865</td>\n",
       "      <td>6.076082</td>\n",
       "      <td>0.112455</td>\n",
       "      <td>0.47324</td>\n",
       "      <td>5.705277</td>\n",
       "      <td>0.674773</td>\n",
       "      <td>4.417592</td>\n",
       "      <td>0.920344</td>\n",
       "      <td>13824.935398</td>\n",
       "      <td>383.390465</td>\n",
       "      <td>351.790952</td>\n",
       "    </tr>\n",
       "    <tr>\n",
       "      <td>min</td>\n",
       "      <td>21.000000</td>\n",
       "      <td>46.000000</td>\n",
       "      <td>1.500000</td>\n",
       "      <td>17.102915</td>\n",
       "      <td>0.400000</td>\n",
       "      <td>0.450000</td>\n",
       "      <td>47.800000</td>\n",
       "      <td>0.430000</td>\n",
       "      <td>0.520000</td>\n",
       "      <td>46.800000</td>\n",
       "      <td>0.420000</td>\n",
       "      <td>0.54000</td>\n",
       "      <td>50.200000</td>\n",
       "      <td>0.000000</td>\n",
       "      <td>22.000000</td>\n",
       "      <td>1.000000</td>\n",
       "      <td>995.000000</td>\n",
       "      <td>10.050000</td>\n",
       "      <td>0.946717</td>\n",
       "    </tr>\n",
       "    <tr>\n",
       "      <td>25%</td>\n",
       "      <td>29.000000</td>\n",
       "      <td>58.000000</td>\n",
       "      <td>1.620000</td>\n",
       "      <td>21.441041</td>\n",
       "      <td>0.560000</td>\n",
       "      <td>0.645000</td>\n",
       "      <td>56.700000</td>\n",
       "      <td>0.590000</td>\n",
       "      <td>0.695000</td>\n",
       "      <td>57.800000</td>\n",
       "      <td>0.570000</td>\n",
       "      <td>0.67000</td>\n",
       "      <td>57.600000</td>\n",
       "      <td>0.000000</td>\n",
       "      <td>31.000000</td>\n",
       "      <td>1.000000</td>\n",
       "      <td>3623.500000</td>\n",
       "      <td>54.020000</td>\n",
       "      <td>7.367625</td>\n",
       "    </tr>\n",
       "    <tr>\n",
       "      <td>50%</td>\n",
       "      <td>32.000000</td>\n",
       "      <td>65.000000</td>\n",
       "      <td>1.660000</td>\n",
       "      <td>23.529412</td>\n",
       "      <td>0.670000</td>\n",
       "      <td>0.870000</td>\n",
       "      <td>59.100000</td>\n",
       "      <td>0.670000</td>\n",
       "      <td>0.890000</td>\n",
       "      <td>60.200000</td>\n",
       "      <td>0.670000</td>\n",
       "      <td>0.93500</td>\n",
       "      <td>60.200000</td>\n",
       "      <td>0.000000</td>\n",
       "      <td>34.142857</td>\n",
       "      <td>1.000000</td>\n",
       "      <td>9530.000000</td>\n",
       "      <td>105.900000</td>\n",
       "      <td>119.728305</td>\n",
       "    </tr>\n",
       "    <tr>\n",
       "      <td>75%</td>\n",
       "      <td>36.000000</td>\n",
       "      <td>74.000000</td>\n",
       "      <td>1.700000</td>\n",
       "      <td>26.241408</td>\n",
       "      <td>0.735000</td>\n",
       "      <td>1.485000</td>\n",
       "      <td>63.250000</td>\n",
       "      <td>0.755000</td>\n",
       "      <td>1.530000</td>\n",
       "      <td>64.100000</td>\n",
       "      <td>0.750000</td>\n",
       "      <td>1.46750</td>\n",
       "      <td>62.450000</td>\n",
       "      <td>1.000000</td>\n",
       "      <td>37.428571</td>\n",
       "      <td>2.000000</td>\n",
       "      <td>17947.000000</td>\n",
       "      <td>448.550000</td>\n",
       "      <td>362.884861</td>\n",
       "    </tr>\n",
       "    <tr>\n",
       "      <td>max</td>\n",
       "      <td>47.000000</td>\n",
       "      <td>113.000000</td>\n",
       "      <td>1.800000</td>\n",
       "      <td>39.682540</td>\n",
       "      <td>0.840000</td>\n",
       "      <td>2.490000</td>\n",
       "      <td>89.800000</td>\n",
       "      <td>0.830000</td>\n",
       "      <td>2.280000</td>\n",
       "      <td>89.800000</td>\n",
       "      <td>0.835000</td>\n",
       "      <td>2.21500</td>\n",
       "      <td>88.650000</td>\n",
       "      <td>2.000000</td>\n",
       "      <td>41.142857</td>\n",
       "      <td>6.000000</td>\n",
       "      <td>74283.000000</td>\n",
       "      <td>1607.000000</td>\n",
       "      <td>2297.421203</td>\n",
       "    </tr>\n",
       "  </tbody>\n",
       "</table>\n",
       "</div>"
      ],
      "text/plain": [
       "             age      weight     height        BMI       R-RI       R-PI  \\\n",
       "count  95.000000   94.000000  94.000000  92.000000  95.000000  95.000000   \n",
       "mean   32.147368   67.531915   1.655638  24.616912   0.639474   1.063158   \n",
       "std     5.084328   14.354724   0.062554   4.800613   0.126444   0.501891   \n",
       "min    21.000000   46.000000   1.500000  17.102915   0.400000   0.450000   \n",
       "25%    29.000000   58.000000   1.620000  21.441041   0.560000   0.645000   \n",
       "50%    32.000000   65.000000   1.660000  23.529412   0.670000   0.870000   \n",
       "75%    36.000000   74.000000   1.700000  26.241408   0.735000   1.485000   \n",
       "max    47.000000  113.000000   1.800000  39.682540   0.840000   2.490000   \n",
       "\n",
       "           R-PSV       L-RI       L-PI      L-PSV     meanRI    meanPI  \\\n",
       "count  95.000000  95.000000  95.000000  95.000000  95.000000  95.00000   \n",
       "mean   60.809053   0.655895   1.102842  61.128000   0.647684   1.08300   \n",
       "std     6.709441   0.108437   0.470865   6.076082   0.112455   0.47324   \n",
       "min    47.800000   0.430000   0.520000  46.800000   0.420000   0.54000   \n",
       "25%    56.700000   0.590000   0.695000  57.800000   0.570000   0.67000   \n",
       "50%    59.100000   0.670000   0.890000  60.200000   0.670000   0.93500   \n",
       "75%    63.250000   0.755000   1.530000  64.100000   0.750000   1.46750   \n",
       "max    89.800000   0.830000   2.280000  89.800000   0.835000   2.21500   \n",
       "\n",
       "         meanPSV  bilateralNotch  age_delivery     parity        S-Flt1  \\\n",
       "count  93.000000       95.000000     95.000000  95.000000     95.000000   \n",
       "mean   61.022151        0.600000     33.871278   1.536842  13156.200000   \n",
       "std     5.705277        0.674773      4.417592   0.920344  13824.935398   \n",
       "min    50.200000        0.000000     22.000000   1.000000    995.000000   \n",
       "25%    57.600000        0.000000     31.000000   1.000000   3623.500000   \n",
       "50%    60.200000        0.000000     34.142857   1.000000   9530.000000   \n",
       "75%    62.450000        1.000000     37.428571   2.000000  17947.000000   \n",
       "max    88.650000        2.000000     41.142857   6.000000  74283.000000   \n",
       "\n",
       "            S-PLGF    sFLT/PLGF  \n",
       "count    95.000000    95.000000  \n",
       "mean    302.825789   243.129174  \n",
       "std     383.390465   351.790952  \n",
       "min      10.050000     0.946717  \n",
       "25%      54.020000     7.367625  \n",
       "50%     105.900000   119.728305  \n",
       "75%     448.550000   362.884861  \n",
       "max    1607.000000  2297.421203  "
      ]
     },
     "execution_count": 10,
     "metadata": {},
     "output_type": "execute_result"
    }
   ],
   "source": [
    "data.describe()"
   ]
  },
  {
   "cell_type": "code",
   "execution_count": 137,
   "metadata": {},
   "outputs": [
    {
     "data": {
      "text/html": [
       "<div>\n",
       "<style scoped>\n",
       "    .dataframe tbody tr th:only-of-type {\n",
       "        vertical-align: middle;\n",
       "    }\n",
       "\n",
       "    .dataframe tbody tr th {\n",
       "        vertical-align: top;\n",
       "    }\n",
       "\n",
       "    .dataframe thead th {\n",
       "        text-align: right;\n",
       "    }\n",
       "</style>\n",
       "<table border=\"1\" class=\"dataframe\">\n",
       "  <thead>\n",
       "    <tr style=\"text-align: right;\">\n",
       "      <th></th>\n",
       "      <th>age</th>\n",
       "      <th>weight</th>\n",
       "      <th>height</th>\n",
       "      <th>BMI</th>\n",
       "      <th>R-RI</th>\n",
       "      <th>R-PI</th>\n",
       "      <th>R-PSV</th>\n",
       "      <th>L-RI</th>\n",
       "      <th>L-PI</th>\n",
       "      <th>L-PSV</th>\n",
       "      <th>meanRI</th>\n",
       "      <th>meanPI</th>\n",
       "      <th>meanPSV</th>\n",
       "      <th>bilateralNotch</th>\n",
       "      <th>age_delivery</th>\n",
       "      <th>parity</th>\n",
       "      <th>birth_weight</th>\n",
       "      <th>S-Flt1</th>\n",
       "      <th>S-PLGF</th>\n",
       "      <th>sFLT/PLGF</th>\n",
       "    </tr>\n",
       "  </thead>\n",
       "  <tbody>\n",
       "    <tr>\n",
       "      <td>count</td>\n",
       "      <td>95.000000</td>\n",
       "      <td>94.000000</td>\n",
       "      <td>94.000000</td>\n",
       "      <td>92.000000</td>\n",
       "      <td>95.000000</td>\n",
       "      <td>95.000000</td>\n",
       "      <td>95.000000</td>\n",
       "      <td>95.000000</td>\n",
       "      <td>95.000000</td>\n",
       "      <td>95.000000</td>\n",
       "      <td>95.000000</td>\n",
       "      <td>95.00000</td>\n",
       "      <td>93.000000</td>\n",
       "      <td>95.000000</td>\n",
       "      <td>95.000000</td>\n",
       "      <td>95.000000</td>\n",
       "      <td>95.000000</td>\n",
       "      <td>95.000000</td>\n",
       "      <td>95.000000</td>\n",
       "      <td>95.000000</td>\n",
       "    </tr>\n",
       "    <tr>\n",
       "      <td>mean</td>\n",
       "      <td>32.147368</td>\n",
       "      <td>67.531915</td>\n",
       "      <td>1.655638</td>\n",
       "      <td>24.616912</td>\n",
       "      <td>0.639474</td>\n",
       "      <td>1.063158</td>\n",
       "      <td>60.809053</td>\n",
       "      <td>0.655895</td>\n",
       "      <td>1.102842</td>\n",
       "      <td>61.128000</td>\n",
       "      <td>0.647684</td>\n",
       "      <td>1.08300</td>\n",
       "      <td>61.022151</td>\n",
       "      <td>0.600000</td>\n",
       "      <td>33.871278</td>\n",
       "      <td>1.536842</td>\n",
       "      <td>2028.621053</td>\n",
       "      <td>13156.200000</td>\n",
       "      <td>302.825789</td>\n",
       "      <td>243.129174</td>\n",
       "    </tr>\n",
       "    <tr>\n",
       "      <td>std</td>\n",
       "      <td>5.084328</td>\n",
       "      <td>14.354724</td>\n",
       "      <td>0.062554</td>\n",
       "      <td>4.800613</td>\n",
       "      <td>0.126444</td>\n",
       "      <td>0.501891</td>\n",
       "      <td>6.709441</td>\n",
       "      <td>0.108437</td>\n",
       "      <td>0.470865</td>\n",
       "      <td>6.076082</td>\n",
       "      <td>0.112455</td>\n",
       "      <td>0.47324</td>\n",
       "      <td>5.705277</td>\n",
       "      <td>0.674773</td>\n",
       "      <td>4.417592</td>\n",
       "      <td>0.920344</td>\n",
       "      <td>1064.507440</td>\n",
       "      <td>13824.935398</td>\n",
       "      <td>383.390465</td>\n",
       "      <td>351.790952</td>\n",
       "    </tr>\n",
       "    <tr>\n",
       "      <td>min</td>\n",
       "      <td>21.000000</td>\n",
       "      <td>46.000000</td>\n",
       "      <td>1.500000</td>\n",
       "      <td>17.102915</td>\n",
       "      <td>0.400000</td>\n",
       "      <td>0.450000</td>\n",
       "      <td>47.800000</td>\n",
       "      <td>0.430000</td>\n",
       "      <td>0.520000</td>\n",
       "      <td>46.800000</td>\n",
       "      <td>0.420000</td>\n",
       "      <td>0.54000</td>\n",
       "      <td>50.200000</td>\n",
       "      <td>0.000000</td>\n",
       "      <td>22.000000</td>\n",
       "      <td>1.000000</td>\n",
       "      <td>0.000000</td>\n",
       "      <td>995.000000</td>\n",
       "      <td>10.050000</td>\n",
       "      <td>0.946717</td>\n",
       "    </tr>\n",
       "    <tr>\n",
       "      <td>25%</td>\n",
       "      <td>29.000000</td>\n",
       "      <td>58.000000</td>\n",
       "      <td>1.620000</td>\n",
       "      <td>21.441041</td>\n",
       "      <td>0.560000</td>\n",
       "      <td>0.645000</td>\n",
       "      <td>56.700000</td>\n",
       "      <td>0.590000</td>\n",
       "      <td>0.695000</td>\n",
       "      <td>57.800000</td>\n",
       "      <td>0.570000</td>\n",
       "      <td>0.67000</td>\n",
       "      <td>57.600000</td>\n",
       "      <td>0.000000</td>\n",
       "      <td>31.000000</td>\n",
       "      <td>1.000000</td>\n",
       "      <td>1137.500000</td>\n",
       "      <td>3623.500000</td>\n",
       "      <td>54.020000</td>\n",
       "      <td>7.367625</td>\n",
       "    </tr>\n",
       "    <tr>\n",
       "      <td>50%</td>\n",
       "      <td>32.000000</td>\n",
       "      <td>65.000000</td>\n",
       "      <td>1.660000</td>\n",
       "      <td>23.529412</td>\n",
       "      <td>0.670000</td>\n",
       "      <td>0.870000</td>\n",
       "      <td>59.100000</td>\n",
       "      <td>0.670000</td>\n",
       "      <td>0.890000</td>\n",
       "      <td>60.200000</td>\n",
       "      <td>0.670000</td>\n",
       "      <td>0.93500</td>\n",
       "      <td>60.200000</td>\n",
       "      <td>0.000000</td>\n",
       "      <td>34.142857</td>\n",
       "      <td>1.000000</td>\n",
       "      <td>1910.000000</td>\n",
       "      <td>9530.000000</td>\n",
       "      <td>105.900000</td>\n",
       "      <td>119.728305</td>\n",
       "    </tr>\n",
       "    <tr>\n",
       "      <td>75%</td>\n",
       "      <td>36.000000</td>\n",
       "      <td>74.000000</td>\n",
       "      <td>1.700000</td>\n",
       "      <td>26.241408</td>\n",
       "      <td>0.735000</td>\n",
       "      <td>1.485000</td>\n",
       "      <td>63.250000</td>\n",
       "      <td>0.755000</td>\n",
       "      <td>1.530000</td>\n",
       "      <td>64.100000</td>\n",
       "      <td>0.750000</td>\n",
       "      <td>1.46750</td>\n",
       "      <td>62.450000</td>\n",
       "      <td>1.000000</td>\n",
       "      <td>37.428571</td>\n",
       "      <td>2.000000</td>\n",
       "      <td>2945.000000</td>\n",
       "      <td>17947.000000</td>\n",
       "      <td>448.550000</td>\n",
       "      <td>362.884861</td>\n",
       "    </tr>\n",
       "    <tr>\n",
       "      <td>max</td>\n",
       "      <td>47.000000</td>\n",
       "      <td>113.000000</td>\n",
       "      <td>1.800000</td>\n",
       "      <td>39.682540</td>\n",
       "      <td>0.840000</td>\n",
       "      <td>2.490000</td>\n",
       "      <td>89.800000</td>\n",
       "      <td>0.830000</td>\n",
       "      <td>2.280000</td>\n",
       "      <td>89.800000</td>\n",
       "      <td>0.835000</td>\n",
       "      <td>2.21500</td>\n",
       "      <td>88.650000</td>\n",
       "      <td>2.000000</td>\n",
       "      <td>41.142857</td>\n",
       "      <td>6.000000</td>\n",
       "      <td>4040.000000</td>\n",
       "      <td>74283.000000</td>\n",
       "      <td>1607.000000</td>\n",
       "      <td>2297.421203</td>\n",
       "    </tr>\n",
       "  </tbody>\n",
       "</table>\n",
       "</div>"
      ],
      "text/plain": [
       "             age      weight     height        BMI       R-RI       R-PI  \\\n",
       "count  95.000000   94.000000  94.000000  92.000000  95.000000  95.000000   \n",
       "mean   32.147368   67.531915   1.655638  24.616912   0.639474   1.063158   \n",
       "std     5.084328   14.354724   0.062554   4.800613   0.126444   0.501891   \n",
       "min    21.000000   46.000000   1.500000  17.102915   0.400000   0.450000   \n",
       "25%    29.000000   58.000000   1.620000  21.441041   0.560000   0.645000   \n",
       "50%    32.000000   65.000000   1.660000  23.529412   0.670000   0.870000   \n",
       "75%    36.000000   74.000000   1.700000  26.241408   0.735000   1.485000   \n",
       "max    47.000000  113.000000   1.800000  39.682540   0.840000   2.490000   \n",
       "\n",
       "           R-PSV       L-RI       L-PI      L-PSV     meanRI    meanPI  \\\n",
       "count  95.000000  95.000000  95.000000  95.000000  95.000000  95.00000   \n",
       "mean   60.809053   0.655895   1.102842  61.128000   0.647684   1.08300   \n",
       "std     6.709441   0.108437   0.470865   6.076082   0.112455   0.47324   \n",
       "min    47.800000   0.430000   0.520000  46.800000   0.420000   0.54000   \n",
       "25%    56.700000   0.590000   0.695000  57.800000   0.570000   0.67000   \n",
       "50%    59.100000   0.670000   0.890000  60.200000   0.670000   0.93500   \n",
       "75%    63.250000   0.755000   1.530000  64.100000   0.750000   1.46750   \n",
       "max    89.800000   0.830000   2.280000  89.800000   0.835000   2.21500   \n",
       "\n",
       "         meanPSV  bilateralNotch  age_delivery     parity  birth_weight  \\\n",
       "count  93.000000       95.000000     95.000000  95.000000     95.000000   \n",
       "mean   61.022151        0.600000     33.871278   1.536842   2028.621053   \n",
       "std     5.705277        0.674773      4.417592   0.920344   1064.507440   \n",
       "min    50.200000        0.000000     22.000000   1.000000      0.000000   \n",
       "25%    57.600000        0.000000     31.000000   1.000000   1137.500000   \n",
       "50%    60.200000        0.000000     34.142857   1.000000   1910.000000   \n",
       "75%    62.450000        1.000000     37.428571   2.000000   2945.000000   \n",
       "max    88.650000        2.000000     41.142857   6.000000   4040.000000   \n",
       "\n",
       "             S-Flt1       S-PLGF    sFLT/PLGF  \n",
       "count     95.000000    95.000000    95.000000  \n",
       "mean   13156.200000   302.825789   243.129174  \n",
       "std    13824.935398   383.390465   351.790952  \n",
       "min      995.000000    10.050000     0.946717  \n",
       "25%     3623.500000    54.020000     7.367625  \n",
       "50%     9530.000000   105.900000   119.728305  \n",
       "75%    17947.000000   448.550000   362.884861  \n",
       "max    74283.000000  1607.000000  2297.421203  "
      ]
     },
     "execution_count": 137,
     "metadata": {},
     "output_type": "execute_result"
    }
   ],
   "source": [
    "data.describe()"
   ]
  },
  {
   "cell_type": "markdown",
   "metadata": {},
   "source": [
    "## Filas duplicadas y valores ausentes"
   ]
  },
  {
   "cell_type": "markdown",
   "metadata": {},
   "source": [
    "Comprobamos si existen filas duplicadas."
   ]
  },
  {
   "cell_type": "code",
   "execution_count": 11,
   "metadata": {},
   "outputs": [
    {
     "name": "stdout",
     "output_type": "stream",
     "text": [
      "number of duplicate rows:  (0, 21)\n"
     ]
    }
   ],
   "source": [
    "duplicate_rows_df = data[data.duplicated()]\n",
    "print(\"number of duplicate rows: \", duplicate_rows_df.shape)"
   ]
  },
  {
   "cell_type": "markdown",
   "metadata": {},
   "source": [
    "No existen filas duplicadas. Ahora comprobamos el número de valores nulos por cada columna."
   ]
  },
  {
   "cell_type": "code",
   "execution_count": 12,
   "metadata": {},
   "outputs": [
    {
     "data": {
      "text/plain": [
       "age               0\n",
       "weight            1\n",
       "height            1\n",
       "BMI               3\n",
       "R-RI              0\n",
       "R-PI              0\n",
       "R-PSV             0\n",
       "L-RI              0\n",
       "L-PI              0\n",
       "L-PSV             0\n",
       "meanRI            0\n",
       "meanPI            0\n",
       "meanPSV           2\n",
       "bilateralNotch    0\n",
       "age_delivery      0\n",
       "parity            0\n",
       "birth_weight      0\n",
       "S-Flt1            0\n",
       "S-PLGF            0\n",
       "sFLT/PLGF         0\n",
       "class             0\n",
       "dtype: int64"
      ]
     },
     "execution_count": 12,
     "metadata": {},
     "output_type": "execute_result"
    }
   ],
   "source": [
    "data.isnull().sum()"
   ]
  },
  {
   "cell_type": "markdown",
   "metadata": {},
   "source": [
    "Existen valores nulos en las columnas **weight, height, BMI** y **meanPSV**. Veámos las filas que contienen valores nulos."
   ]
  },
  {
   "cell_type": "code",
   "execution_count": 13,
   "metadata": {},
   "outputs": [],
   "source": [
    "nulos = data[data.isnull().any(1)]"
   ]
  },
  {
   "cell_type": "code",
   "execution_count": 14,
   "metadata": {},
   "outputs": [
    {
     "data": {
      "text/html": [
       "<div>\n",
       "<style scoped>\n",
       "    .dataframe tbody tr th:only-of-type {\n",
       "        vertical-align: middle;\n",
       "    }\n",
       "\n",
       "    .dataframe tbody tr th {\n",
       "        vertical-align: top;\n",
       "    }\n",
       "\n",
       "    .dataframe thead th {\n",
       "        text-align: right;\n",
       "    }\n",
       "</style>\n",
       "<table border=\"1\" class=\"dataframe\">\n",
       "  <thead>\n",
       "    <tr style=\"text-align: right;\">\n",
       "      <th></th>\n",
       "      <th>age</th>\n",
       "      <th>weight</th>\n",
       "      <th>height</th>\n",
       "      <th>BMI</th>\n",
       "      <th>R-RI</th>\n",
       "      <th>R-PI</th>\n",
       "      <th>R-PSV</th>\n",
       "      <th>L-RI</th>\n",
       "      <th>L-PI</th>\n",
       "      <th>L-PSV</th>\n",
       "      <th>...</th>\n",
       "      <th>meanPI</th>\n",
       "      <th>meanPSV</th>\n",
       "      <th>bilateralNotch</th>\n",
       "      <th>age_delivery</th>\n",
       "      <th>parity</th>\n",
       "      <th>birth_weight</th>\n",
       "      <th>S-Flt1</th>\n",
       "      <th>S-PLGF</th>\n",
       "      <th>sFLT/PLGF</th>\n",
       "      <th>class</th>\n",
       "    </tr>\n",
       "  </thead>\n",
       "  <tbody>\n",
       "    <tr>\n",
       "      <td>58</td>\n",
       "      <td>43</td>\n",
       "      <td>66.0</td>\n",
       "      <td>1.52</td>\n",
       "      <td>NaN</td>\n",
       "      <td>0.63</td>\n",
       "      <td>0.60</td>\n",
       "      <td>67.4</td>\n",
       "      <td>0.59</td>\n",
       "      <td>0.67</td>\n",
       "      <td>62.9</td>\n",
       "      <td>...</td>\n",
       "      <td>0.635</td>\n",
       "      <td>65.15</td>\n",
       "      <td>0</td>\n",
       "      <td>32.714286</td>\n",
       "      <td>1</td>\n",
       "      <td>1480</td>\n",
       "      <td>27390</td>\n",
       "      <td>153.60</td>\n",
       "      <td>178.320312</td>\n",
       "      <td>IUGR_PE</td>\n",
       "    </tr>\n",
       "    <tr>\n",
       "      <td>59</td>\n",
       "      <td>36</td>\n",
       "      <td>52.0</td>\n",
       "      <td>1.64</td>\n",
       "      <td>NaN</td>\n",
       "      <td>0.67</td>\n",
       "      <td>0.81</td>\n",
       "      <td>57.9</td>\n",
       "      <td>0.69</td>\n",
       "      <td>0.89</td>\n",
       "      <td>61.4</td>\n",
       "      <td>...</td>\n",
       "      <td>0.850</td>\n",
       "      <td>59.65</td>\n",
       "      <td>1</td>\n",
       "      <td>34.714286</td>\n",
       "      <td>1</td>\n",
       "      <td>1280</td>\n",
       "      <td>29805</td>\n",
       "      <td>79.73</td>\n",
       "      <td>373.824157</td>\n",
       "      <td>IUGR_PE</td>\n",
       "    </tr>\n",
       "    <tr>\n",
       "      <td>61</td>\n",
       "      <td>26</td>\n",
       "      <td>NaN</td>\n",
       "      <td>NaN</td>\n",
       "      <td>NaN</td>\n",
       "      <td>0.84</td>\n",
       "      <td>2.02</td>\n",
       "      <td>68.8</td>\n",
       "      <td>0.83</td>\n",
       "      <td>2.28</td>\n",
       "      <td>59.4</td>\n",
       "      <td>...</td>\n",
       "      <td>2.150</td>\n",
       "      <td>64.10</td>\n",
       "      <td>1</td>\n",
       "      <td>28.000000</td>\n",
       "      <td>1</td>\n",
       "      <td>MFIU</td>\n",
       "      <td>10015</td>\n",
       "      <td>42.64</td>\n",
       "      <td>234.873358</td>\n",
       "      <td>IUGR</td>\n",
       "    </tr>\n",
       "    <tr>\n",
       "      <td>93</td>\n",
       "      <td>30</td>\n",
       "      <td>53.0</td>\n",
       "      <td>1.57</td>\n",
       "      <td>21.501886</td>\n",
       "      <td>0.49</td>\n",
       "      <td>0.52</td>\n",
       "      <td>60.4</td>\n",
       "      <td>0.51</td>\n",
       "      <td>0.56</td>\n",
       "      <td>58.1</td>\n",
       "      <td>...</td>\n",
       "      <td>0.540</td>\n",
       "      <td>NaN</td>\n",
       "      <td>0</td>\n",
       "      <td>34.142857</td>\n",
       "      <td>1</td>\n",
       "      <td>1570</td>\n",
       "      <td>10535</td>\n",
       "      <td>34.97</td>\n",
       "      <td>301.258221</td>\n",
       "      <td>PE</td>\n",
       "    </tr>\n",
       "    <tr>\n",
       "      <td>94</td>\n",
       "      <td>26</td>\n",
       "      <td>74.0</td>\n",
       "      <td>1.65</td>\n",
       "      <td>27.180900</td>\n",
       "      <td>0.69</td>\n",
       "      <td>0.62</td>\n",
       "      <td>54.9</td>\n",
       "      <td>0.73</td>\n",
       "      <td>0.71</td>\n",
       "      <td>60.5</td>\n",
       "      <td>...</td>\n",
       "      <td>0.665</td>\n",
       "      <td>NaN</td>\n",
       "      <td>2</td>\n",
       "      <td>30.428571</td>\n",
       "      <td>1</td>\n",
       "      <td>1180</td>\n",
       "      <td>12154</td>\n",
       "      <td>15.84</td>\n",
       "      <td>767.297980</td>\n",
       "      <td>PE</td>\n",
       "    </tr>\n",
       "  </tbody>\n",
       "</table>\n",
       "<p>5 rows × 21 columns</p>\n",
       "</div>"
      ],
      "text/plain": [
       "    age  weight  height        BMI  R-RI  R-PI  R-PSV  L-RI  L-PI  L-PSV  ...  \\\n",
       "58   43    66.0    1.52        NaN  0.63  0.60   67.4  0.59  0.67   62.9  ...   \n",
       "59   36    52.0    1.64        NaN  0.67  0.81   57.9  0.69  0.89   61.4  ...   \n",
       "61   26     NaN     NaN        NaN  0.84  2.02   68.8  0.83  2.28   59.4  ...   \n",
       "93   30    53.0    1.57  21.501886  0.49  0.52   60.4  0.51  0.56   58.1  ...   \n",
       "94   26    74.0    1.65  27.180900  0.69  0.62   54.9  0.73  0.71   60.5  ...   \n",
       "\n",
       "    meanPI  meanPSV  bilateralNotch  age_delivery  parity  birth_weight  \\\n",
       "58   0.635    65.15               0     32.714286       1          1480   \n",
       "59   0.850    59.65               1     34.714286       1          1280   \n",
       "61   2.150    64.10               1     28.000000       1          MFIU   \n",
       "93   0.540      NaN               0     34.142857       1          1570   \n",
       "94   0.665      NaN               2     30.428571       1          1180   \n",
       "\n",
       "   S-Flt1  S-PLGF   sFLT/PLGF    class  \n",
       "58  27390  153.60  178.320312  IUGR_PE  \n",
       "59  29805   79.73  373.824157  IUGR_PE  \n",
       "61  10015   42.64  234.873358     IUGR  \n",
       "93  10535   34.97  301.258221       PE  \n",
       "94  12154   15.84  767.297980       PE  \n",
       "\n",
       "[5 rows x 21 columns]"
      ]
     },
     "execution_count": 14,
     "metadata": {},
     "output_type": "execute_result"
    }
   ],
   "source": [
    "nulos"
   ]
  },
  {
   "cell_type": "markdown",
   "metadata": {},
   "source": [
    "Vemos que en las filas 58 y 59 falta el valor de la columna **BMI**. El **BMI** indica el índice masa corporal, que se calcula dividiendo el peso entre la altura al cuadrado. Estos dos valores ausentes serán calculados usando las columnas **weight y height**.  \n",
    "En la columna 61, falta tanto el **BMI** como **weight** y **height**. Para las columnas **weight** y **height**, calcularemos el valor medio de cada columna y lo sustituiremos por el valor nulo. En cuanto el valor ausente del **BMI**, haremos como en el primer caso y lo sustituiremos por el valor de **weight** dividido entre el valor de **height** al cuadrado correspondiente.  \n",
    "Por último, en la fila 93 y 94 tienen ausente el valor de **meanPSV**. El valor de esta columna corresponde con el valor medio de las columnas **R-PSV** y **L-PSV**. Calcularemos este valor medio para sustituir al valor NaN."
   ]
  },
  {
   "cell_type": "markdown",
   "metadata": {},
   "source": [
    "## Clase"
   ]
  },
  {
   "cell_type": "markdown",
   "metadata": {},
   "source": [
    "En este apartado, vamos a estudiar la clase del dataset."
   ]
  },
  {
   "cell_type": "code",
   "execution_count": 73,
   "metadata": {},
   "outputs": [
    {
     "data": {
      "text/plain": [
       "array(['Control', 'IUGR_PE', 'IUGR', 'PE'], dtype=object)"
      ]
     },
     "execution_count": 73,
     "metadata": {},
     "output_type": "execute_result"
    }
   ],
   "source": [
    "data[\"class\"].unique()"
   ]
  },
  {
   "cell_type": "code",
   "execution_count": 74,
   "metadata": {},
   "outputs": [
    {
     "data": {
      "text/plain": [
       "IUGR_PE    32\n",
       "Control    29\n",
       "PE         22\n",
       "IUGR       12\n",
       "Name: class, dtype: int64"
      ]
     },
     "execution_count": 74,
     "metadata": {},
     "output_type": "execute_result"
    }
   ],
   "source": [
    "data[\"class\"].value_counts()"
   ]
  },
  {
   "cell_type": "markdown",
   "metadata": {},
   "source": [
    "La clase puede tener cuatro valores distintos: *Control, IUGR_PE, IUGR y PE*. Por lo tanto, nos encontramos frente a un problema de clasificación multiclase. "
   ]
  },
  {
   "cell_type": "markdown",
   "metadata": {},
   "source": [
    "| Variable | Descripción |Número de pacientes|\n",
    "| :- | :- | :- |\n",
    "| IUGR_PE | Preeclampsia y restricción intrauterina del incremento | 32 |\n",
    "| Control| No padece ninguna de las dos enfermedades | 29 |\n",
    "| PE    | Preeclampsia | 22 |\n",
    "| IUGR    | Restricción intrauterina del incremento | 12 |"
   ]
  },
  {
   "cell_type": "markdown",
   "metadata": {},
   "source": [
    "Visualicemos cómo sería la distribución de la clase."
   ]
  },
  {
   "cell_type": "code",
   "execution_count": 78,
   "metadata": {},
   "outputs": [
    {
     "data": {
      "image/png": "[encoded data removed]",
      "text/plain": [
       "<Figure size 432x288 with 1 Axes>"
      ]
     },
     "metadata": {
      "needs_background": "light"
     },
     "output_type": "display_data"
    }
   ],
   "source": [
    "data[\"class\"].hist(grid=False)\n",
    "plt.xlabel(\"Estado de salud\")\n",
    "plt.ylabel(\"Número de pacientes\")\n",
    "plt.show()"
   ]
  },
  {
   "cell_type": "markdown",
   "metadata": {},
   "source": [
    "Vemos que la clase se encuentra desbalanceada (sobre todo para el valor IUGR)."
   ]
  },
  {
   "cell_type": "markdown",
   "metadata": {},
   "source": [
    "## Tipo de variables"
   ]
  },
  {
   "cell_type": "markdown",
   "metadata": {},
   "source": [
    "Vamos a estudiar qué tipos de variables tenemos en el dataset. "
   ]
  },
  {
   "cell_type": "code",
   "execution_count": 18,
   "metadata": {},
   "outputs": [
    {
     "name": "stdout",
     "output_type": "stream",
     "text": [
      "<class 'pandas.core.frame.DataFrame'>\n",
      "RangeIndex: 95 entries, 0 to 94\n",
      "Data columns (total 21 columns):\n",
      "age               95 non-null int64\n",
      "weight            94 non-null float64\n",
      "height            94 non-null float64\n",
      "BMI               92 non-null float64\n",
      "R-RI              95 non-null float64\n",
      "R-PI              95 non-null float64\n",
      "R-PSV             95 non-null float64\n",
      "L-RI              95 non-null float64\n",
      "L-PI              95 non-null float64\n",
      "L-PSV             95 non-null float64\n",
      "meanRI            95 non-null float64\n",
      "meanPI            95 non-null float64\n",
      "meanPSV           93 non-null float64\n",
      "bilateralNotch    95 non-null int64\n",
      "age_delivery      95 non-null float64\n",
      "parity            95 non-null int64\n",
      "birth_weight      95 non-null object\n",
      "S-Flt1            95 non-null int64\n",
      "S-PLGF            95 non-null float64\n",
      "sFLT/PLGF         95 non-null float64\n",
      "class             95 non-null object\n",
      "dtypes: float64(15), int64(4), object(2)\n",
      "memory usage: 15.7+ KB\n"
     ]
    }
   ],
   "source": [
    "data.info()"
   ]
  },
  {
   "cell_type": "markdown",
   "metadata": {},
   "source": [
    "Como se puede observar, hemos obtenido que dos variables son de tipo _object_. Veámos esto en más profundidad "
   ]
  },
  {
   "cell_type": "code",
   "execution_count": 19,
   "metadata": {},
   "outputs": [
    {
     "data": {
      "text/plain": [
       "['birth_weight', 'class']"
      ]
     },
     "execution_count": 19,
     "metadata": {},
     "output_type": "execute_result"
    }
   ],
   "source": [
    "cat_vars = [var for var in data.columns if data[var].dtype == 'O']\n",
    "cat_vars"
   ]
  },
  {
   "cell_type": "markdown",
   "metadata": {},
   "source": [
    "La columna **class** es efectivamente categórica, pero la variable **birth_weight** debería ser del tipo _float_ ya que se trata del peso del neonato. Veámos qué está ocurriendo. Para ello, vamos a ver los distintos valores que puede adoptar el peso del neonato."
   ]
  },
  {
   "cell_type": "code",
   "execution_count": 79,
   "metadata": {},
   "outputs": [
    {
     "data": {
      "text/plain": [
       "array([3060, 2780, 2450, 2490, 1905, 2180, 1910, 2600, 3110, 1510, 3550,\n",
       "       3310, 3600, 2860, 2650, 3575, 1890, 3090, 3700, 2890, 2430, 3890,\n",
       "       3750, 3250, 3560, 1790, 3610, 1250, 3500, 430, 1470, 2050, 1700,\n",
       "       1680, 1930, 500, 1760, 530, 1210, 985, 780, 1200, 980, 1140, 1950,\n",
       "       965, 830, 810, 2460, 1800, 1970, 2810, 2120, 3175, 1050, 1345,\n",
       "       1480, 1280, 1150, 'MFIU', 890, 2940, 1840, 720, 1135, 650, 2160,\n",
       "       930, 3070, 220, 4040, 3800, 1690, 3170, 3040, 37, 1610, 2100, 1020,\n",
       "       4000, 3030, 850, 3300, 2950, 2440, 427, 2930, 1570, 1180],\n",
       "      dtype=object)"
      ]
     },
     "execution_count": 79,
     "metadata": {},
     "output_type": "execute_result"
    }
   ],
   "source": [
    "data[\"birth_weight\"].unique()"
   ]
  },
  {
   "cell_type": "markdown",
   "metadata": {},
   "source": [
    "Vemos que uno de los valores es **MFIU**. Este valor es de tipo String, y había provocado que se detectara la columna del tipo object. MFIU significa **muerte fetal intrauterina**. Vamos a cambiar este valor por el valor 0, y vamos a transformar el atributo en numérico."
   ]
  },
  {
   "cell_type": "code",
   "execution_count": 80,
   "metadata": {},
   "outputs": [
    {
     "name": "stdout",
     "output_type": "stream",
     "text": [
      "<class 'pandas.core.frame.DataFrame'>\n",
      "RangeIndex: 95 entries, 0 to 94\n",
      "Data columns (total 21 columns):\n",
      "age               95 non-null int64\n",
      "weight            94 non-null float64\n",
      "height            94 non-null float64\n",
      "BMI               92 non-null float64\n",
      "R-RI              95 non-null float64\n",
      "R-PI              95 non-null float64\n",
      "R-PSV             95 non-null float64\n",
      "L-RI              95 non-null float64\n",
      "L-PI              95 non-null float64\n",
      "L-PSV             95 non-null float64\n",
      "meanRI            95 non-null float64\n",
      "meanPI            95 non-null float64\n",
      "meanPSV           93 non-null float64\n",
      "bilateralNotch    95 non-null int64\n",
      "age_delivery      95 non-null float64\n",
      "parity            95 non-null int64\n",
      "birth_weight      95 non-null int64\n",
      "S-Flt1            95 non-null int64\n",
      "S-PLGF            95 non-null float64\n",
      "sFLT/PLGF         95 non-null float64\n",
      "class             95 non-null object\n",
      "dtypes: float64(15), int64(5), object(1)\n",
      "memory usage: 15.7+ KB\n"
     ]
    }
   ],
   "source": [
    "data.loc[data.birth_weight=='MFIU','birth_weight']=0\n",
    "\n",
    "data[\"birth_weight\"]= pd.to_numeric(data[\"birth_weight\"])\n",
    "\n",
    "data.info()"
   ]
  },
  {
   "cell_type": "markdown",
   "metadata": {},
   "source": [
    "En cuanto a las variables numéricas, veamos cuáles son continuas y cuáles discretas."
   ]
  },
  {
   "cell_type": "code",
   "execution_count": 85,
   "metadata": {},
   "outputs": [
    {
     "data": {
      "text/plain": [
       "['age', 'bilateralNotch', 'parity', 'birth_weight', 'S-Flt1']"
      ]
     },
     "execution_count": 85,
     "metadata": {},
     "output_type": "execute_result"
    }
   ],
   "source": [
    "disc_vars = [var for var in data.columns if data[var].dtype == 'int64']\n",
    "disc_vars"
   ]
  },
  {
   "cell_type": "markdown",
   "metadata": {},
   "source": [
    "La variable **S-Flt1** debería ser del tipo float. "
   ]
  },
  {
   "cell_type": "code",
   "execution_count": 86,
   "metadata": {},
   "outputs": [],
   "source": [
    "data[\"S-Flt1\"]= data[\"S-Flt1\"].astype(float)"
   ]
  },
  {
   "cell_type": "code",
   "execution_count": 87,
   "metadata": {},
   "outputs": [
    {
     "data": {
      "text/plain": [
       "['weight',\n",
       " 'height',\n",
       " 'BMI',\n",
       " 'R-RI',\n",
       " 'R-PI',\n",
       " 'R-PSV',\n",
       " 'L-RI',\n",
       " 'L-PI',\n",
       " 'L-PSV',\n",
       " 'meanRI',\n",
       " 'meanPI',\n",
       " 'meanPSV',\n",
       " 'age_delivery',\n",
       " 'S-Flt1',\n",
       " 'S-PLGF',\n",
       " 'sFLT/PLGF']"
      ]
     },
     "execution_count": 87,
     "metadata": {},
     "output_type": "execute_result"
    }
   ],
   "source": [
    "cont_vars = [var for var in data.columns if data[var].dtype == 'float64']\n",
    "cont_vars"
   ]
  },
  {
   "cell_type": "markdown",
   "metadata": {},
   "source": [
    "## Análisis variables temporales"
   ]
  },
  {
   "cell_type": "code",
   "execution_count": 23,
   "metadata": {},
   "outputs": [
    {
     "data": {
      "text/html": [
       "<div>\n",
       "<style scoped>\n",
       "    .dataframe tbody tr th:only-of-type {\n",
       "        vertical-align: middle;\n",
       "    }\n",
       "\n",
       "    .dataframe tbody tr th {\n",
       "        vertical-align: top;\n",
       "    }\n",
       "\n",
       "    .dataframe thead th {\n",
       "        text-align: right;\n",
       "    }\n",
       "</style>\n",
       "<table border=\"1\" class=\"dataframe\">\n",
       "  <thead>\n",
       "    <tr style=\"text-align: right;\">\n",
       "      <th></th>\n",
       "      <th>age_delivery</th>\n",
       "    </tr>\n",
       "    <tr>\n",
       "      <th>class</th>\n",
       "      <th></th>\n",
       "    </tr>\n",
       "  </thead>\n",
       "  <tbody>\n",
       "    <tr>\n",
       "      <td>Control</td>\n",
       "      <td>36.921182</td>\n",
       "    </tr>\n",
       "    <tr>\n",
       "      <td>IUGR</td>\n",
       "      <td>31.666667</td>\n",
       "    </tr>\n",
       "    <tr>\n",
       "      <td>IUGR_PE</td>\n",
       "      <td>31.903571</td>\n",
       "    </tr>\n",
       "    <tr>\n",
       "      <td>PE</td>\n",
       "      <td>33.915584</td>\n",
       "    </tr>\n",
       "  </tbody>\n",
       "</table>\n",
       "</div>"
      ],
      "text/plain": [
       "         age_delivery\n",
       "class                \n",
       "Control     36.921182\n",
       "IUGR        31.666667\n",
       "IUGR_PE     31.903571\n",
       "PE          33.915584"
      ]
     },
     "execution_count": 23,
     "metadata": {},
     "output_type": "execute_result"
    }
   ],
   "source": [
    "aux= data[[\"class\", 'age_delivery']]\n",
    "aux\n",
    "aux.groupby(\"class\").mean()"
   ]
  },
  {
   "cell_type": "markdown",
   "metadata": {},
   "source": []
  },
  {
   "cell_type": "code",
   "execution_count": 24,
   "metadata": {},
   "outputs": [
    {
     "data": {
      "image/png": "[encoded data removed]",
      "text/plain": [
       "<Figure size 720x720 with 2 Axes>"
      ]
     },
     "metadata": {
      "needs_background": "light"
     },
     "output_type": "display_data"
    }
   ],
   "source": [
    "fig, ax = plt.subplots(figsize=(10, 10))# plot heatmap\n",
    "corr = data.corr()\n",
    "graph=sns.heatmap(corr, cmap=\"Blues\", linewidth=3, square= True,cbar_kws={\"shrink\": .8})\n",
    "\n",
    "title = 'Matriz de correlación\\n'\n",
    "bottom, top = graph.get_ylim()\n",
    "ax.set_ylim(bottom + 0.5, top - 0.5)\n",
    "plt.title(title, fontsize=18)\n",
    "plt.show()"
   ]
  },
  {
   "cell_type": "code",
   "execution_count": 25,
   "metadata": {},
   "outputs": [],
   "source": [
    "corr_matrix = data.corr().abs()\n",
    "\n",
    "#the matrix is symmetric so we need to extract upper triangle matrix without diagonal (k = 1)\n",
    "\n",
    "sol = (corr_matrix.where(np.triu(np.ones(corr_matrix.shape), k=1).astype(np.bool))\n",
    "                  .stack()\n",
    "                  .sort_values(ascending=False))"
   ]
  },
  {
   "cell_type": "code",
   "execution_count": 26,
   "metadata": {},
   "outputs": [
    {
     "data": {
      "text/html": [
       "<div>\n",
       "<style scoped>\n",
       "    .dataframe tbody tr th:only-of-type {\n",
       "        vertical-align: middle;\n",
       "    }\n",
       "\n",
       "    .dataframe tbody tr th {\n",
       "        vertical-align: top;\n",
       "    }\n",
       "\n",
       "    .dataframe thead th {\n",
       "        text-align: right;\n",
       "    }\n",
       "</style>\n",
       "<table border=\"1\" class=\"dataframe\">\n",
       "  <thead>\n",
       "    <tr style=\"text-align: right;\">\n",
       "      <th></th>\n",
       "      <th></th>\n",
       "      <th>Correlación</th>\n",
       "    </tr>\n",
       "  </thead>\n",
       "  <tbody>\n",
       "    <tr>\n",
       "      <td>R-PI</td>\n",
       "      <td>meanPI</td>\n",
       "      <td>0.974681</td>\n",
       "    </tr>\n",
       "    <tr>\n",
       "      <td>L-PI</td>\n",
       "      <td>meanPI</td>\n",
       "      <td>0.971184</td>\n",
       "    </tr>\n",
       "    <tr>\n",
       "      <td>R-RI</td>\n",
       "      <td>meanRI</td>\n",
       "      <td>0.963732</td>\n",
       "    </tr>\n",
       "    <tr>\n",
       "      <td>L-RI</td>\n",
       "      <td>meanRI</td>\n",
       "      <td>0.950348</td>\n",
       "    </tr>\n",
       "    <tr>\n",
       "      <td>weight</td>\n",
       "      <td>BMI</td>\n",
       "      <td>0.931485</td>\n",
       "    </tr>\n",
       "    <tr>\n",
       "      <td>R-PSV</td>\n",
       "      <td>meanPSV</td>\n",
       "      <td>0.896657</td>\n",
       "    </tr>\n",
       "    <tr>\n",
       "      <td>R-PI</td>\n",
       "      <td>L-PI</td>\n",
       "      <td>0.893303</td>\n",
       "    </tr>\n",
       "    <tr>\n",
       "      <td>L-PSV</td>\n",
       "      <td>meanPSV</td>\n",
       "      <td>0.873123</td>\n",
       "    </tr>\n",
       "    <tr>\n",
       "      <td>R-RI</td>\n",
       "      <td>L-RI</td>\n",
       "      <td>0.832834</td>\n",
       "    </tr>\n",
       "    <tr>\n",
       "      <td>meanRI</td>\n",
       "      <td>meanPI</td>\n",
       "      <td>0.830788</td>\n",
       "    </tr>\n",
       "    <tr>\n",
       "      <td>L-PI</td>\n",
       "      <td>meanRI</td>\n",
       "      <td>0.823635</td>\n",
       "    </tr>\n",
       "    <tr>\n",
       "      <td>L-RI</td>\n",
       "      <td>L-PI</td>\n",
       "      <td>0.820391</td>\n",
       "    </tr>\n",
       "    <tr>\n",
       "      <td rowspan=\"2\" valign=\"top\">R-RI</td>\n",
       "      <td>R-PI</td>\n",
       "      <td>0.808331</td>\n",
       "    </tr>\n",
       "    <tr>\n",
       "      <td>meanPI</td>\n",
       "      <td>0.807461</td>\n",
       "    </tr>\n",
       "    <tr>\n",
       "      <td>R-PI</td>\n",
       "      <td>meanRI</td>\n",
       "      <td>0.794004</td>\n",
       "    </tr>\n",
       "  </tbody>\n",
       "</table>\n",
       "</div>"
      ],
      "text/plain": [
       "                Correlación\n",
       "R-PI   meanPI      0.974681\n",
       "L-PI   meanPI      0.971184\n",
       "R-RI   meanRI      0.963732\n",
       "L-RI   meanRI      0.950348\n",
       "weight BMI         0.931485\n",
       "R-PSV  meanPSV     0.896657\n",
       "R-PI   L-PI        0.893303\n",
       "L-PSV  meanPSV     0.873123\n",
       "R-RI   L-RI        0.832834\n",
       "meanRI meanPI      0.830788\n",
       "L-PI   meanRI      0.823635\n",
       "L-RI   L-PI        0.820391\n",
       "R-RI   R-PI        0.808331\n",
       "       meanPI      0.807461\n",
       "R-PI   meanRI      0.794004"
      ]
     },
     "execution_count": 26,
     "metadata": {},
     "output_type": "execute_result"
    }
   ],
   "source": [
    "correlacion =pd.DataFrame(sol, columns=[\"Correlación\"])\n",
    "correlacion.head(15)"
   ]
  },
  {
   "cell_type": "code",
   "execution_count": null,
   "metadata": {},
   "outputs": [],
   "source": []
  },
  {
   "cell_type": "markdown",
   "metadata": {},
   "source": [
    "METER UNAS GRÁFICAS CON LA RELACIÓN DE LA SEMANA EN LA QUE SE HA DADO A LUZ Y EL PESO DEL NEONATO, EN FUNCIÓN DE LA CLASSE Y PONER UNA LINEA CON LA MEDIA"
   ]
  },
  {
   "cell_type": "markdown",
   "metadata": {},
   "source": [
    "GRÁFICA CON LA EDAD DE LAS EMBARAZADAS EN FUNCIÓN DE SI TIENE UNA AFECCIÓN¿???\n",
    "\n",
    "PESO DEL BEBE Y SI TIENE UNA ENFERMEDAD O NO\n"
   ]
  },
  {
   "cell_type": "code",
   "execution_count": 119,
   "metadata": {},
   "outputs": [
    {
     "data": {
      "text/html": [
       "<div>\n",
       "<style scoped>\n",
       "    .dataframe tbody tr th:only-of-type {\n",
       "        vertical-align: middle;\n",
       "    }\n",
       "\n",
       "    .dataframe tbody tr th {\n",
       "        vertical-align: top;\n",
       "    }\n",
       "\n",
       "    .dataframe thead th {\n",
       "        text-align: right;\n",
       "    }\n",
       "</style>\n",
       "<table border=\"1\" class=\"dataframe\">\n",
       "  <thead>\n",
       "    <tr style=\"text-align: right;\">\n",
       "      <th></th>\n",
       "      <th>age</th>\n",
       "      <th>weight</th>\n",
       "      <th>height</th>\n",
       "      <th>BMI</th>\n",
       "      <th>R-RI</th>\n",
       "      <th>R-PI</th>\n",
       "      <th>R-PSV</th>\n",
       "      <th>L-RI</th>\n",
       "      <th>L-PI</th>\n",
       "      <th>L-PSV</th>\n",
       "      <th>...</th>\n",
       "      <th>meanPI</th>\n",
       "      <th>meanPSV</th>\n",
       "      <th>bilateralNotch</th>\n",
       "      <th>age_delivery</th>\n",
       "      <th>parity</th>\n",
       "      <th>birth_weight</th>\n",
       "      <th>S-Flt1</th>\n",
       "      <th>S-PLGF</th>\n",
       "      <th>sFLT/PLGF</th>\n",
       "      <th>class</th>\n",
       "    </tr>\n",
       "  </thead>\n",
       "  <tbody>\n",
       "    <tr>\n",
       "      <td>0</td>\n",
       "      <td>37</td>\n",
       "      <td>58.0</td>\n",
       "      <td>1.70</td>\n",
       "      <td>20.069204</td>\n",
       "      <td>0.43</td>\n",
       "      <td>0.56</td>\n",
       "      <td>65.3</td>\n",
       "      <td>0.49</td>\n",
       "      <td>0.60</td>\n",
       "      <td>53.9</td>\n",
       "      <td>...</td>\n",
       "      <td>0.580</td>\n",
       "      <td>59.60</td>\n",
       "      <td>0</td>\n",
       "      <td>37.285714</td>\n",
       "      <td>1</td>\n",
       "      <td>3060</td>\n",
       "      <td>11511.0</td>\n",
       "      <td>102.80</td>\n",
       "      <td>111.974708</td>\n",
       "      <td>Control</td>\n",
       "    </tr>\n",
       "    <tr>\n",
       "      <td>1</td>\n",
       "      <td>35</td>\n",
       "      <td>46.0</td>\n",
       "      <td>1.64</td>\n",
       "      <td>17.102915</td>\n",
       "      <td>0.40</td>\n",
       "      <td>0.54</td>\n",
       "      <td>62.5</td>\n",
       "      <td>0.67</td>\n",
       "      <td>0.73</td>\n",
       "      <td>72.9</td>\n",
       "      <td>...</td>\n",
       "      <td>0.635</td>\n",
       "      <td>67.70</td>\n",
       "      <td>0</td>\n",
       "      <td>36.714286</td>\n",
       "      <td>3</td>\n",
       "      <td>2780</td>\n",
       "      <td>3146.0</td>\n",
       "      <td>752.80</td>\n",
       "      <td>4.179065</td>\n",
       "      <td>Control</td>\n",
       "    </tr>\n",
       "    <tr>\n",
       "      <td>2</td>\n",
       "      <td>34</td>\n",
       "      <td>64.0</td>\n",
       "      <td>1.75</td>\n",
       "      <td>20.897959</td>\n",
       "      <td>0.41</td>\n",
       "      <td>0.60</td>\n",
       "      <td>59.7</td>\n",
       "      <td>0.53</td>\n",
       "      <td>0.62</td>\n",
       "      <td>62.3</td>\n",
       "      <td>...</td>\n",
       "      <td>0.610</td>\n",
       "      <td>61.00</td>\n",
       "      <td>0</td>\n",
       "      <td>35.142857</td>\n",
       "      <td>1</td>\n",
       "      <td>2450</td>\n",
       "      <td>3858.0</td>\n",
       "      <td>203.20</td>\n",
       "      <td>18.986220</td>\n",
       "      <td>Control</td>\n",
       "    </tr>\n",
       "    <tr>\n",
       "      <td>3</td>\n",
       "      <td>31</td>\n",
       "      <td>49.0</td>\n",
       "      <td>1.52</td>\n",
       "      <td>21.208449</td>\n",
       "      <td>0.65</td>\n",
       "      <td>0.97</td>\n",
       "      <td>61.5</td>\n",
       "      <td>0.59</td>\n",
       "      <td>0.99</td>\n",
       "      <td>68.1</td>\n",
       "      <td>...</td>\n",
       "      <td>0.980</td>\n",
       "      <td>64.80</td>\n",
       "      <td>0</td>\n",
       "      <td>36.428571</td>\n",
       "      <td>2</td>\n",
       "      <td>2490</td>\n",
       "      <td>995.0</td>\n",
       "      <td>1051.00</td>\n",
       "      <td>0.946717</td>\n",
       "      <td>Control</td>\n",
       "    </tr>\n",
       "    <tr>\n",
       "      <td>4</td>\n",
       "      <td>31</td>\n",
       "      <td>66.0</td>\n",
       "      <td>1.60</td>\n",
       "      <td>25.781250</td>\n",
       "      <td>0.62</td>\n",
       "      <td>0.88</td>\n",
       "      <td>58.1</td>\n",
       "      <td>0.59</td>\n",
       "      <td>0.76</td>\n",
       "      <td>59.1</td>\n",
       "      <td>...</td>\n",
       "      <td>0.820</td>\n",
       "      <td>58.60</td>\n",
       "      <td>0</td>\n",
       "      <td>32.142857</td>\n",
       "      <td>1</td>\n",
       "      <td>1905</td>\n",
       "      <td>1667.0</td>\n",
       "      <td>1440.00</td>\n",
       "      <td>1.157639</td>\n",
       "      <td>Control</td>\n",
       "    </tr>\n",
       "    <tr>\n",
       "      <td>...</td>\n",
       "      <td>...</td>\n",
       "      <td>...</td>\n",
       "      <td>...</td>\n",
       "      <td>...</td>\n",
       "      <td>...</td>\n",
       "      <td>...</td>\n",
       "      <td>...</td>\n",
       "      <td>...</td>\n",
       "      <td>...</td>\n",
       "      <td>...</td>\n",
       "      <td>...</td>\n",
       "      <td>...</td>\n",
       "      <td>...</td>\n",
       "      <td>...</td>\n",
       "      <td>...</td>\n",
       "      <td>...</td>\n",
       "      <td>...</td>\n",
       "      <td>...</td>\n",
       "      <td>...</td>\n",
       "      <td>...</td>\n",
       "      <td>...</td>\n",
       "    </tr>\n",
       "    <tr>\n",
       "      <td>90</td>\n",
       "      <td>29</td>\n",
       "      <td>52.0</td>\n",
       "      <td>1.63</td>\n",
       "      <td>19.571681</td>\n",
       "      <td>0.61</td>\n",
       "      <td>1.02</td>\n",
       "      <td>70.4</td>\n",
       "      <td>0.55</td>\n",
       "      <td>0.85</td>\n",
       "      <td>57.7</td>\n",
       "      <td>...</td>\n",
       "      <td>0.935</td>\n",
       "      <td>64.05</td>\n",
       "      <td>0</td>\n",
       "      <td>35.714286</td>\n",
       "      <td>1</td>\n",
       "      <td>2440</td>\n",
       "      <td>22354.0</td>\n",
       "      <td>75.26</td>\n",
       "      <td>297.023651</td>\n",
       "      <td>PE</td>\n",
       "    </tr>\n",
       "    <tr>\n",
       "      <td>91</td>\n",
       "      <td>27</td>\n",
       "      <td>52.0</td>\n",
       "      <td>1.66</td>\n",
       "      <td>18.870663</td>\n",
       "      <td>0.83</td>\n",
       "      <td>2.27</td>\n",
       "      <td>72.5</td>\n",
       "      <td>0.80</td>\n",
       "      <td>2.12</td>\n",
       "      <td>70.3</td>\n",
       "      <td>...</td>\n",
       "      <td>2.195</td>\n",
       "      <td>71.40</td>\n",
       "      <td>1</td>\n",
       "      <td>22.000000</td>\n",
       "      <td>1</td>\n",
       "      <td>427</td>\n",
       "      <td>12401.0</td>\n",
       "      <td>31.95</td>\n",
       "      <td>388.137715</td>\n",
       "      <td>PE</td>\n",
       "    </tr>\n",
       "    <tr>\n",
       "      <td>92</td>\n",
       "      <td>33</td>\n",
       "      <td>70.0</td>\n",
       "      <td>1.73</td>\n",
       "      <td>23.388687</td>\n",
       "      <td>0.62</td>\n",
       "      <td>0.72</td>\n",
       "      <td>58.4</td>\n",
       "      <td>0.59</td>\n",
       "      <td>0.79</td>\n",
       "      <td>56.9</td>\n",
       "      <td>...</td>\n",
       "      <td>0.755</td>\n",
       "      <td>57.65</td>\n",
       "      <td>0</td>\n",
       "      <td>36.857143</td>\n",
       "      <td>1</td>\n",
       "      <td>2930</td>\n",
       "      <td>18015.0</td>\n",
       "      <td>96.39</td>\n",
       "      <td>186.896981</td>\n",
       "      <td>PE</td>\n",
       "    </tr>\n",
       "    <tr>\n",
       "      <td>93</td>\n",
       "      <td>30</td>\n",
       "      <td>53.0</td>\n",
       "      <td>1.57</td>\n",
       "      <td>21.501886</td>\n",
       "      <td>0.49</td>\n",
       "      <td>0.52</td>\n",
       "      <td>60.4</td>\n",
       "      <td>0.51</td>\n",
       "      <td>0.56</td>\n",
       "      <td>58.1</td>\n",
       "      <td>...</td>\n",
       "      <td>0.540</td>\n",
       "      <td>NaN</td>\n",
       "      <td>0</td>\n",
       "      <td>34.142857</td>\n",
       "      <td>1</td>\n",
       "      <td>1570</td>\n",
       "      <td>10535.0</td>\n",
       "      <td>34.97</td>\n",
       "      <td>301.258221</td>\n",
       "      <td>PE</td>\n",
       "    </tr>\n",
       "    <tr>\n",
       "      <td>94</td>\n",
       "      <td>26</td>\n",
       "      <td>74.0</td>\n",
       "      <td>1.65</td>\n",
       "      <td>27.180900</td>\n",
       "      <td>0.69</td>\n",
       "      <td>0.62</td>\n",
       "      <td>54.9</td>\n",
       "      <td>0.73</td>\n",
       "      <td>0.71</td>\n",
       "      <td>60.5</td>\n",
       "      <td>...</td>\n",
       "      <td>0.665</td>\n",
       "      <td>NaN</td>\n",
       "      <td>2</td>\n",
       "      <td>30.428571</td>\n",
       "      <td>1</td>\n",
       "      <td>1180</td>\n",
       "      <td>12154.0</td>\n",
       "      <td>15.84</td>\n",
       "      <td>767.297980</td>\n",
       "      <td>PE</td>\n",
       "    </tr>\n",
       "  </tbody>\n",
       "</table>\n",
       "<p>95 rows × 21 columns</p>\n",
       "</div>"
      ],
      "text/plain": [
       "    age  weight  height        BMI  R-RI  R-PI  R-PSV  L-RI  L-PI  L-PSV  ...  \\\n",
       "0    37    58.0    1.70  20.069204  0.43  0.56   65.3  0.49  0.60   53.9  ...   \n",
       "1    35    46.0    1.64  17.102915  0.40  0.54   62.5  0.67  0.73   72.9  ...   \n",
       "2    34    64.0    1.75  20.897959  0.41  0.60   59.7  0.53  0.62   62.3  ...   \n",
       "3    31    49.0    1.52  21.208449  0.65  0.97   61.5  0.59  0.99   68.1  ...   \n",
       "4    31    66.0    1.60  25.781250  0.62  0.88   58.1  0.59  0.76   59.1  ...   \n",
       "..  ...     ...     ...        ...   ...   ...    ...   ...   ...    ...  ...   \n",
       "90   29    52.0    1.63  19.571681  0.61  1.02   70.4  0.55  0.85   57.7  ...   \n",
       "91   27    52.0    1.66  18.870663  0.83  2.27   72.5  0.80  2.12   70.3  ...   \n",
       "92   33    70.0    1.73  23.388687  0.62  0.72   58.4  0.59  0.79   56.9  ...   \n",
       "93   30    53.0    1.57  21.501886  0.49  0.52   60.4  0.51  0.56   58.1  ...   \n",
       "94   26    74.0    1.65  27.180900  0.69  0.62   54.9  0.73  0.71   60.5  ...   \n",
       "\n",
       "    meanPI  meanPSV  bilateralNotch  age_delivery  parity  birth_weight  \\\n",
       "0    0.580    59.60               0     37.285714       1          3060   \n",
       "1    0.635    67.70               0     36.714286       3          2780   \n",
       "2    0.610    61.00               0     35.142857       1          2450   \n",
       "3    0.980    64.80               0     36.428571       2          2490   \n",
       "4    0.820    58.60               0     32.142857       1          1905   \n",
       "..     ...      ...             ...           ...     ...           ...   \n",
       "90   0.935    64.05               0     35.714286       1          2440   \n",
       "91   2.195    71.40               1     22.000000       1           427   \n",
       "92   0.755    57.65               0     36.857143       1          2930   \n",
       "93   0.540      NaN               0     34.142857       1          1570   \n",
       "94   0.665      NaN               2     30.428571       1          1180   \n",
       "\n",
       "     S-Flt1   S-PLGF   sFLT/PLGF    class  \n",
       "0   11511.0   102.80  111.974708  Control  \n",
       "1    3146.0   752.80    4.179065  Control  \n",
       "2    3858.0   203.20   18.986220  Control  \n",
       "3     995.0  1051.00    0.946717  Control  \n",
       "4    1667.0  1440.00    1.157639  Control  \n",
       "..      ...      ...         ...      ...  \n",
       "90  22354.0    75.26  297.023651       PE  \n",
       "91  12401.0    31.95  388.137715       PE  \n",
       "92  18015.0    96.39  186.896981       PE  \n",
       "93  10535.0    34.97  301.258221       PE  \n",
       "94  12154.0    15.84  767.297980       PE  \n",
       "\n",
       "[95 rows x 21 columns]"
      ]
     },
     "execution_count": 119,
     "metadata": {},
     "output_type": "execute_result"
    }
   ],
   "source": [
    "data"
   ]
  },
  {
   "cell_type": "code",
   "execution_count": 158,
   "metadata": {},
   "outputs": [
    {
     "data": {
      "text/plain": [
       "<seaborn.axisgrid.FacetGrid at 0x28e2c378788>"
      ]
     },
     "execution_count": 158,
     "metadata": {},
     "output_type": "execute_result"
    },
    {
     "data": {
      "image/png": "[encoded data removed]",
      "text/plain": [
       "<Figure size 438.125x360 with 1 Axes>"
      ]
     },
     "metadata": {
      "needs_background": "light"
     },
     "output_type": "display_data"
    }
   ],
   "source": [
    "sns.catplot(x=\"bilateralNotch\", hue=\"class\", kind=\"count\",  data=data)\n"
   ]
  },
  {
   "cell_type": "code",
   "execution_count": 151,
   "metadata": {},
   "outputs": [
    {
     "data": {
      "image/png": "[encoded data removed]",
      "text/plain": [
       "<Figure size 438.125x360 with 1 Axes>"
      ]
     },
     "metadata": {
      "needs_background": "light"
     },
     "output_type": "display_data"
    }
   ],
   "source": [
    "sns.relplot(x=\"age_delivery\", y=\"birth_weight\", hue=\"class\", data=data);"
   ]
  },
  {
   "cell_type": "code",
   "execution_count": 141,
   "metadata": {},
   "outputs": [
    {
     "data": {
      "text/plain": [
       "<seaborn.axisgrid.FacetGrid at 0x28e2be3ce88>"
      ]
     },
     "execution_count": 141,
     "metadata": {},
     "output_type": "execute_result"
    },
    {
     "data": {
      "image/png": "[encoded data removed]",
      "text/plain": [
       "<Figure size 360x360 with 1 Axes>"
      ]
     },
     "metadata": {
      "needs_background": "light"
     },
     "output_type": "display_data"
    }
   ],
   "source": [
    "sns.catplot(y= \"sFLT/PLGF\" , x='class', data=data, orient=\"v\", kind=\"box\")\n",
    "\n"
   ]
  },
  {
   "cell_type": "code",
   "execution_count": 146,
   "metadata": {},
   "outputs": [
    {
     "data": {
      "text/plain": [
       "<seaborn.axisgrid.FacetGrid at 0x28e2bfd91c8>"
      ]
     },
     "execution_count": 146,
     "metadata": {},
     "output_type": "execute_result"
    },
    {
     "data": {
      "image/png": "[encoded data removed]",
      "text/plain": [
       "<Figure size 360x360 with 1 Axes>"
      ]
     },
     "metadata": {
      "needs_background": "light"
     },
     "output_type": "display_data"
    }
   ],
   "source": [
    "sns.catplot(y= \"S-Flt1\" , x='class', data=data, orient=\"v\", kind=\"box\")"
   ]
  },
  {
   "cell_type": "code",
   "execution_count": 147,
   "metadata": {},
   "outputs": [
    {
     "data": {
      "text/plain": [
       "<seaborn.axisgrid.FacetGrid at 0x28e2c05e1c8>"
      ]
     },
     "execution_count": 147,
     "metadata": {},
     "output_type": "execute_result"
    },
    {
     "data": {
      "image/png": "[encoded data removed]",
      "text/plain": [
       "<Figure size 360x360 with 1 Axes>"
      ]
     },
     "metadata": {
      "needs_background": "light"
     },
     "output_type": "display_data"
    }
   ],
   "source": [
    "sns.catplot(y= \"S-PLGF\" , x='class', data=data, orient=\"v\", kind=\"box\")\n"
   ]
  },
  {
   "cell_type": "code",
   "execution_count": null,
   "metadata": {},
   "outputs": [],
   "source": []
  }
 ],
 "metadata": {
  "kernelspec": {
   "display_name": "Python 3",
   "language": "python",
   "name": "python3"
  },
  "language_info": {
   "codemirror_mode": {
    "name": "ipython",
    "version": 3
   },
   "file_extension": ".py",
   "mimetype": "text/x-python",
   "name": "python",
   "nbconvert_exporter": "python",
   "pygments_lexer": "ipython3",
   "version": "3.7.4"
  }
 },
 "nbformat": 4,
 "nbformat_minor": 2
}
