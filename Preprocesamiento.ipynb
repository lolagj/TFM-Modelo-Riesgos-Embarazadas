{
 "cells": [
  {
   "cell_type": "markdown",
   "metadata": {},
   "source": [
    "# Preprocesamiento"
   ]
  },
  {
   "cell_type": "markdown",
   "metadata": {},
   "source": [
    "Antes de comenzar, cargamos todas las librerías que vamos a utilizar a lo largo del notebook."
   ]
  },
  {
   "cell_type": "code",
   "execution_count": 229,
   "metadata": {},
   "outputs": [],
   "source": [
    "import pandas as pd\n",
    "import random\n",
    "import numpy as np\n",
    "import matplotlib.pyplot as plt\n",
    "import seaborn as sns\n",
    "from sklearn.model_selection import cross_val_score, cross_val_predict, train_test_split, GridSearchCV\n",
    "from sklearn.preprocessing import MinMaxScaler\n",
    "from imblearn.over_sampling import SMOTE \n",
    "from sklearn.model_selection import train_test_split\n",
    "from imblearn.over_sampling import ADASYN\n",
    "from imblearn.over_sampling import BorderlineSMOTE\n",
    "from imblearn.over_sampling import SVMSMOTE \n",
    "\n",
    "from sklearn.neighbors import KNeighborsClassifier\n",
    "from sklearn.tree import DecisionTreeClassifier\n",
    "from sklearn.ensemble import RandomForestClassifier\n",
    "\n",
    "from collections import Counter\n",
    "np.random.seed(43)\n",
    "random.seed(43)"
   ]
  },
  {
   "cell_type": "markdown",
   "metadata": {},
   "source": [
    "## 1. Lectura de datos"
   ]
  },
  {
   "cell_type": "markdown",
   "metadata": {},
   "source": [
    "El dataset que vamos a utilizar se encuentra disponible en el siguiente enlace: https://data.mendeley.com/datasets/zsjhvy9ytx/1.  \n",
    "Cargamos el dataset en un dataframe de pandas:"
   ]
  },
  {
   "cell_type": "code",
   "execution_count": 3,
   "metadata": {},
   "outputs": [
    {
     "data": {
      "text/html": [
       "<div>\n",
       "<style scoped>\n",
       "    .dataframe tbody tr th:only-of-type {\n",
       "        vertical-align: middle;\n",
       "    }\n",
       "\n",
       "    .dataframe tbody tr th {\n",
       "        vertical-align: top;\n",
       "    }\n",
       "\n",
       "    .dataframe thead th {\n",
       "        text-align: right;\n",
       "    }\n",
       "</style>\n",
       "<table border=\"1\" class=\"dataframe\">\n",
       "  <thead>\n",
       "    <tr style=\"text-align: right;\">\n",
       "      <th></th>\n",
       "      <th>Patient nuber</th>\n",
       "      <th>Materna age [years]</th>\n",
       "      <th>Pre-pregnancy weight [kg]</th>\n",
       "      <th>Maternal hight [m]</th>\n",
       "      <th>BMI [kg/m²]</th>\n",
       "      <th>Art ut. D-resistance index [RI]</th>\n",
       "      <th>Art ut. D-pulsatility index [PI]</th>\n",
       "      <th>Art ut. D-Peak Systolic Velocity [PSV]</th>\n",
       "      <th>Art ut. L-resistance index [RI]</th>\n",
       "      <th>Art ut. L-pulsatility index [PI]</th>\n",
       "      <th>...</th>\n",
       "      <th>Mean PI</th>\n",
       "      <th>Mean PSV</th>\n",
       "      <th>Bilateral notch</th>\n",
       "      <th>Gestational age at delivery [weeks]</th>\n",
       "      <th>Parity</th>\n",
       "      <th>Birth weight [g]</th>\n",
       "      <th>S-Flt1 [µg/L]</th>\n",
       "      <th>S-PLGF [µg/L]</th>\n",
       "      <th>sFLT/PLGF</th>\n",
       "      <th>Class</th>\n",
       "    </tr>\n",
       "  </thead>\n",
       "  <tbody>\n",
       "    <tr>\n",
       "      <td>0</td>\n",
       "      <td>2 DM</td>\n",
       "      <td>37</td>\n",
       "      <td>58.0</td>\n",
       "      <td>1.70</td>\n",
       "      <td>20.069204</td>\n",
       "      <td>0.43</td>\n",
       "      <td>0.56</td>\n",
       "      <td>65.3</td>\n",
       "      <td>0.49</td>\n",
       "      <td>0.60</td>\n",
       "      <td>...</td>\n",
       "      <td>0.580</td>\n",
       "      <td>59.6</td>\n",
       "      <td>0</td>\n",
       "      <td>37.285714</td>\n",
       "      <td>1</td>\n",
       "      <td>3060</td>\n",
       "      <td>11511</td>\n",
       "      <td>102.8</td>\n",
       "      <td>111.974708</td>\n",
       "      <td>Control</td>\n",
       "    </tr>\n",
       "    <tr>\n",
       "      <td>1</td>\n",
       "      <td>650387</td>\n",
       "      <td>35</td>\n",
       "      <td>46.0</td>\n",
       "      <td>1.64</td>\n",
       "      <td>17.102915</td>\n",
       "      <td>0.40</td>\n",
       "      <td>0.54</td>\n",
       "      <td>62.5</td>\n",
       "      <td>0.67</td>\n",
       "      <td>0.73</td>\n",
       "      <td>...</td>\n",
       "      <td>0.635</td>\n",
       "      <td>67.7</td>\n",
       "      <td>0</td>\n",
       "      <td>36.714286</td>\n",
       "      <td>3</td>\n",
       "      <td>2780</td>\n",
       "      <td>3146</td>\n",
       "      <td>752.8</td>\n",
       "      <td>4.179065</td>\n",
       "      <td>Control</td>\n",
       "    </tr>\n",
       "    <tr>\n",
       "      <td>2</td>\n",
       "      <td>650394</td>\n",
       "      <td>34</td>\n",
       "      <td>64.0</td>\n",
       "      <td>1.75</td>\n",
       "      <td>20.897959</td>\n",
       "      <td>0.41</td>\n",
       "      <td>0.60</td>\n",
       "      <td>59.7</td>\n",
       "      <td>0.53</td>\n",
       "      <td>0.62</td>\n",
       "      <td>...</td>\n",
       "      <td>0.610</td>\n",
       "      <td>61.0</td>\n",
       "      <td>0</td>\n",
       "      <td>35.142857</td>\n",
       "      <td>1</td>\n",
       "      <td>2450</td>\n",
       "      <td>3858</td>\n",
       "      <td>203.2</td>\n",
       "      <td>18.986220</td>\n",
       "      <td>Control</td>\n",
       "    </tr>\n",
       "    <tr>\n",
       "      <td>3</td>\n",
       "      <td>678474</td>\n",
       "      <td>31</td>\n",
       "      <td>49.0</td>\n",
       "      <td>1.52</td>\n",
       "      <td>21.208449</td>\n",
       "      <td>0.65</td>\n",
       "      <td>0.97</td>\n",
       "      <td>61.5</td>\n",
       "      <td>0.59</td>\n",
       "      <td>0.99</td>\n",
       "      <td>...</td>\n",
       "      <td>0.980</td>\n",
       "      <td>64.8</td>\n",
       "      <td>0</td>\n",
       "      <td>36.428571</td>\n",
       "      <td>2</td>\n",
       "      <td>2490</td>\n",
       "      <td>995</td>\n",
       "      <td>1051.0</td>\n",
       "      <td>0.946717</td>\n",
       "      <td>Control</td>\n",
       "    </tr>\n",
       "    <tr>\n",
       "      <td>4</td>\n",
       "      <td>653633</td>\n",
       "      <td>31</td>\n",
       "      <td>66.0</td>\n",
       "      <td>1.60</td>\n",
       "      <td>25.781250</td>\n",
       "      <td>0.62</td>\n",
       "      <td>0.88</td>\n",
       "      <td>58.1</td>\n",
       "      <td>0.59</td>\n",
       "      <td>0.76</td>\n",
       "      <td>...</td>\n",
       "      <td>0.820</td>\n",
       "      <td>58.6</td>\n",
       "      <td>0</td>\n",
       "      <td>32.142857</td>\n",
       "      <td>1</td>\n",
       "      <td>1905</td>\n",
       "      <td>1667</td>\n",
       "      <td>1440.0</td>\n",
       "      <td>1.157639</td>\n",
       "      <td>Control</td>\n",
       "    </tr>\n",
       "  </tbody>\n",
       "</table>\n",
       "<p>5 rows × 22 columns</p>\n",
       "</div>"
      ],
      "text/plain": [
       "  Patient nuber  Materna age [years]  Pre-pregnancy weight [kg]  \\\n",
       "0          2 DM                   37                       58.0   \n",
       "1        650387                   35                       46.0   \n",
       "2        650394                   34                       64.0   \n",
       "3        678474                   31                       49.0   \n",
       "4        653633                   31                       66.0   \n",
       "\n",
       "    Maternal hight [m]  BMI [kg/m²]  Art ut. D-resistance index [RI]  \\\n",
       "0                 1.70    20.069204                             0.43   \n",
       "1                 1.64    17.102915                             0.40   \n",
       "2                 1.75    20.897959                             0.41   \n",
       "3                 1.52    21.208449                             0.65   \n",
       "4                 1.60    25.781250                             0.62   \n",
       "\n",
       "   Art ut. D-pulsatility index [PI]  Art ut. D-Peak Systolic Velocity [PSV]  \\\n",
       "0                              0.56                                    65.3   \n",
       "1                              0.54                                    62.5   \n",
       "2                              0.60                                    59.7   \n",
       "3                              0.97                                    61.5   \n",
       "4                              0.88                                    58.1   \n",
       "\n",
       "   Art ut. L-resistance index [RI]  Art ut. L-pulsatility index [PI]  ...  \\\n",
       "0                             0.49                              0.60  ...   \n",
       "1                             0.67                              0.73  ...   \n",
       "2                             0.53                              0.62  ...   \n",
       "3                             0.59                              0.99  ...   \n",
       "4                             0.59                              0.76  ...   \n",
       "\n",
       "   Mean PI  Mean PSV  Bilateral notch  Gestational age at delivery [weeks]  \\\n",
       "0    0.580      59.6                0                            37.285714   \n",
       "1    0.635      67.7                0                            36.714286   \n",
       "2    0.610      61.0                0                            35.142857   \n",
       "3    0.980      64.8                0                            36.428571   \n",
       "4    0.820      58.6                0                            32.142857   \n",
       "\n",
       "   Parity  Birth weight [g]  S-Flt1 [µg/L] S-PLGF [µg/L]   sFLT/PLGF    Class  \n",
       "0       1              3060          11511         102.8  111.974708  Control  \n",
       "1       3              2780           3146         752.8    4.179065  Control  \n",
       "2       1              2450           3858         203.2   18.986220  Control  \n",
       "3       2              2490            995        1051.0    0.946717  Control  \n",
       "4       1              1905           1667        1440.0    1.157639  Control  \n",
       "\n",
       "[5 rows x 22 columns]"
      ]
     },
     "execution_count": 3,
     "metadata": {},
     "output_type": "execute_result"
    }
   ],
   "source": [
    "data = pd.read_excel(\"data/datos.xlsx\" )\n",
    "data.head()"
   ]
  },
  {
   "cell_type": "markdown",
   "metadata": {},
   "source": [
    "Vamos a renombrar las columnas para que sea más sencillo acceder a ellas."
   ]
  },
  {
   "cell_type": "code",
   "execution_count": 4,
   "metadata": {},
   "outputs": [
    {
     "data": {
      "text/html": [
       "<div>\n",
       "<style scoped>\n",
       "    .dataframe tbody tr th:only-of-type {\n",
       "        vertical-align: middle;\n",
       "    }\n",
       "\n",
       "    .dataframe tbody tr th {\n",
       "        vertical-align: top;\n",
       "    }\n",
       "\n",
       "    .dataframe thead th {\n",
       "        text-align: right;\n",
       "    }\n",
       "</style>\n",
       "<table border=\"1\" class=\"dataframe\">\n",
       "  <thead>\n",
       "    <tr style=\"text-align: right;\">\n",
       "      <th></th>\n",
       "      <th>ID</th>\n",
       "      <th>age</th>\n",
       "      <th>weight</th>\n",
       "      <th>height</th>\n",
       "      <th>BMI</th>\n",
       "      <th>R-RI</th>\n",
       "      <th>R-PI</th>\n",
       "      <th>R-PSV</th>\n",
       "      <th>L-RI</th>\n",
       "      <th>L-PI</th>\n",
       "      <th>...</th>\n",
       "      <th>meanPI</th>\n",
       "      <th>meanPSV</th>\n",
       "      <th>bilateralNotch</th>\n",
       "      <th>age_delivery</th>\n",
       "      <th>parity</th>\n",
       "      <th>birth_weight</th>\n",
       "      <th>S-Flt1</th>\n",
       "      <th>S-PLGF</th>\n",
       "      <th>sFLT/PLGF</th>\n",
       "      <th>class</th>\n",
       "    </tr>\n",
       "  </thead>\n",
       "  <tbody>\n",
       "    <tr>\n",
       "      <td>0</td>\n",
       "      <td>2 DM</td>\n",
       "      <td>37</td>\n",
       "      <td>58.0</td>\n",
       "      <td>1.70</td>\n",
       "      <td>20.069204</td>\n",
       "      <td>0.43</td>\n",
       "      <td>0.56</td>\n",
       "      <td>65.3</td>\n",
       "      <td>0.49</td>\n",
       "      <td>0.60</td>\n",
       "      <td>...</td>\n",
       "      <td>0.580</td>\n",
       "      <td>59.6</td>\n",
       "      <td>0</td>\n",
       "      <td>37.285714</td>\n",
       "      <td>1</td>\n",
       "      <td>3060</td>\n",
       "      <td>11511</td>\n",
       "      <td>102.8</td>\n",
       "      <td>111.974708</td>\n",
       "      <td>Control</td>\n",
       "    </tr>\n",
       "    <tr>\n",
       "      <td>1</td>\n",
       "      <td>650387</td>\n",
       "      <td>35</td>\n",
       "      <td>46.0</td>\n",
       "      <td>1.64</td>\n",
       "      <td>17.102915</td>\n",
       "      <td>0.40</td>\n",
       "      <td>0.54</td>\n",
       "      <td>62.5</td>\n",
       "      <td>0.67</td>\n",
       "      <td>0.73</td>\n",
       "      <td>...</td>\n",
       "      <td>0.635</td>\n",
       "      <td>67.7</td>\n",
       "      <td>0</td>\n",
       "      <td>36.714286</td>\n",
       "      <td>3</td>\n",
       "      <td>2780</td>\n",
       "      <td>3146</td>\n",
       "      <td>752.8</td>\n",
       "      <td>4.179065</td>\n",
       "      <td>Control</td>\n",
       "    </tr>\n",
       "    <tr>\n",
       "      <td>2</td>\n",
       "      <td>650394</td>\n",
       "      <td>34</td>\n",
       "      <td>64.0</td>\n",
       "      <td>1.75</td>\n",
       "      <td>20.897959</td>\n",
       "      <td>0.41</td>\n",
       "      <td>0.60</td>\n",
       "      <td>59.7</td>\n",
       "      <td>0.53</td>\n",
       "      <td>0.62</td>\n",
       "      <td>...</td>\n",
       "      <td>0.610</td>\n",
       "      <td>61.0</td>\n",
       "      <td>0</td>\n",
       "      <td>35.142857</td>\n",
       "      <td>1</td>\n",
       "      <td>2450</td>\n",
       "      <td>3858</td>\n",
       "      <td>203.2</td>\n",
       "      <td>18.986220</td>\n",
       "      <td>Control</td>\n",
       "    </tr>\n",
       "    <tr>\n",
       "      <td>3</td>\n",
       "      <td>678474</td>\n",
       "      <td>31</td>\n",
       "      <td>49.0</td>\n",
       "      <td>1.52</td>\n",
       "      <td>21.208449</td>\n",
       "      <td>0.65</td>\n",
       "      <td>0.97</td>\n",
       "      <td>61.5</td>\n",
       "      <td>0.59</td>\n",
       "      <td>0.99</td>\n",
       "      <td>...</td>\n",
       "      <td>0.980</td>\n",
       "      <td>64.8</td>\n",
       "      <td>0</td>\n",
       "      <td>36.428571</td>\n",
       "      <td>2</td>\n",
       "      <td>2490</td>\n",
       "      <td>995</td>\n",
       "      <td>1051.0</td>\n",
       "      <td>0.946717</td>\n",
       "      <td>Control</td>\n",
       "    </tr>\n",
       "    <tr>\n",
       "      <td>4</td>\n",
       "      <td>653633</td>\n",
       "      <td>31</td>\n",
       "      <td>66.0</td>\n",
       "      <td>1.60</td>\n",
       "      <td>25.781250</td>\n",
       "      <td>0.62</td>\n",
       "      <td>0.88</td>\n",
       "      <td>58.1</td>\n",
       "      <td>0.59</td>\n",
       "      <td>0.76</td>\n",
       "      <td>...</td>\n",
       "      <td>0.820</td>\n",
       "      <td>58.6</td>\n",
       "      <td>0</td>\n",
       "      <td>32.142857</td>\n",
       "      <td>1</td>\n",
       "      <td>1905</td>\n",
       "      <td>1667</td>\n",
       "      <td>1440.0</td>\n",
       "      <td>1.157639</td>\n",
       "      <td>Control</td>\n",
       "    </tr>\n",
       "  </tbody>\n",
       "</table>\n",
       "<p>5 rows × 22 columns</p>\n",
       "</div>"
      ],
      "text/plain": [
       "       ID  age  weight  height        BMI  R-RI  R-PI  R-PSV  L-RI  L-PI  ...  \\\n",
       "0    2 DM   37    58.0    1.70  20.069204  0.43  0.56   65.3  0.49  0.60  ...   \n",
       "1  650387   35    46.0    1.64  17.102915  0.40  0.54   62.5  0.67  0.73  ...   \n",
       "2  650394   34    64.0    1.75  20.897959  0.41  0.60   59.7  0.53  0.62  ...   \n",
       "3  678474   31    49.0    1.52  21.208449  0.65  0.97   61.5  0.59  0.99  ...   \n",
       "4  653633   31    66.0    1.60  25.781250  0.62  0.88   58.1  0.59  0.76  ...   \n",
       "\n",
       "   meanPI  meanPSV  bilateralNotch  age_delivery  parity  birth_weight  \\\n",
       "0   0.580     59.6               0     37.285714       1          3060   \n",
       "1   0.635     67.7               0     36.714286       3          2780   \n",
       "2   0.610     61.0               0     35.142857       1          2450   \n",
       "3   0.980     64.8               0     36.428571       2          2490   \n",
       "4   0.820     58.6               0     32.142857       1          1905   \n",
       "\n",
       "   S-Flt1  S-PLGF   sFLT/PLGF    class  \n",
       "0   11511   102.8  111.974708  Control  \n",
       "1    3146   752.8    4.179065  Control  \n",
       "2    3858   203.2   18.986220  Control  \n",
       "3     995  1051.0    0.946717  Control  \n",
       "4    1667  1440.0    1.157639  Control  \n",
       "\n",
       "[5 rows x 22 columns]"
      ]
     },
     "execution_count": 4,
     "metadata": {},
     "output_type": "execute_result"
    }
   ],
   "source": [
    "data.columns=[\"ID\",\"age\", \"weight\", \"height\", \"BMI\", \"R-RI\", \"R-PI\", \"R-PSV\", \"L-RI\", \"L-PI\", \"L-PSV\", \"meanRI\", \"meanPI\", \"meanPSV\", \"bilateralNotch\", \"age_delivery\", \"parity\", \"birth_weight\", \"S-Flt1\", \"S-PLGF\", \"sFLT/PLGF\", \"class\"] \n",
    "data.head()"
   ]
  },
  {
   "cell_type": "markdown",
   "metadata": {},
   "source": [
    "Algunas de las columnas del dataframe no son de interés para este problema de clasificación. Estas columnas son:  \n",
    "* **ID**: se trata de un número identificador de paciente que no aporta ningún tipo de interés.\n",
    "* **Age_delivery**: representa la edad gestacional, es decir, el número de semanas de la embarazada en el momento de dar a luz. Esta información no aporta información ya que la finalidad del modelo es detectar riesgos durante el embarazo.\n",
    "* **Birth_weight**: peso del bebe al nacer. Igual que el campo *age_delivery*, no aporta información para predecir un riesgo durante el embarazo.\n",
    "\n",
    "Por ello, se van a eliminar dichas columnas del dataset."
   ]
  },
  {
   "cell_type": "code",
   "execution_count": 5,
   "metadata": {},
   "outputs": [],
   "source": [
    "data.drop(['ID', 'age_delivery', 'birth_weight'], axis=1, inplace=True)"
   ]
  },
  {
   "cell_type": "code",
   "execution_count": 6,
   "metadata": {},
   "outputs": [
    {
     "data": {
      "text/plain": [
       "Index(['age', 'weight', 'height', 'BMI', 'R-RI', 'R-PI', 'R-PSV', 'L-RI',\n",
       "       'L-PI', 'L-PSV', 'meanRI', 'meanPI', 'meanPSV', 'bilateralNotch',\n",
       "       'parity', 'S-Flt1', 'S-PLGF', 'sFLT/PLGF', 'class'],\n",
       "      dtype='object')"
      ]
     },
     "execution_count": 6,
     "metadata": {},
     "output_type": "execute_result"
    }
   ],
   "source": [
    "data.columns"
   ]
  },
  {
   "cell_type": "markdown",
   "metadata": {},
   "source": [
    "## 2. Valores ausentes"
   ]
  },
  {
   "cell_type": "markdown",
   "metadata": {},
   "source": [
    "Comenzaremos calculando el número de valores ausentes en cada columna"
   ]
  },
  {
   "cell_type": "code",
   "execution_count": 7,
   "metadata": {},
   "outputs": [
    {
     "data": {
      "text/plain": [
       "age               0\n",
       "weight            1\n",
       "height            1\n",
       "BMI               3\n",
       "R-RI              0\n",
       "R-PI              0\n",
       "R-PSV             0\n",
       "L-RI              0\n",
       "L-PI              0\n",
       "L-PSV             0\n",
       "meanRI            0\n",
       "meanPI            0\n",
       "meanPSV           2\n",
       "bilateralNotch    0\n",
       "parity            0\n",
       "S-Flt1            0\n",
       "S-PLGF            0\n",
       "sFLT/PLGF         0\n",
       "class             0\n",
       "dtype: int64"
      ]
     },
     "execution_count": 7,
     "metadata": {},
     "output_type": "execute_result"
    }
   ],
   "source": [
    "data.isnull().sum()"
   ]
  },
  {
   "cell_type": "markdown",
   "metadata": {},
   "source": [
    "En total, tenemos 7 valores ausentes repartidos entre 5 columnas distintas. Antes de optar por despreciar dichas columnas, vamos a estudiar cómo podríamos rellenar esos huecos. Como tenemos pocos valores nulos, vamos a crear un dataframe que contengan todas las filas con valores ausentes. "
   ]
  },
  {
   "cell_type": "code",
   "execution_count": 8,
   "metadata": {},
   "outputs": [
    {
     "name": "stdout",
     "output_type": "stream",
     "text": [
      "Tenemos 5 filas con valores nulos\n"
     ]
    },
    {
     "data": {
      "text/html": [
       "<div>\n",
       "<style scoped>\n",
       "    .dataframe tbody tr th:only-of-type {\n",
       "        vertical-align: middle;\n",
       "    }\n",
       "\n",
       "    .dataframe tbody tr th {\n",
       "        vertical-align: top;\n",
       "    }\n",
       "\n",
       "    .dataframe thead th {\n",
       "        text-align: right;\n",
       "    }\n",
       "</style>\n",
       "<table border=\"1\" class=\"dataframe\">\n",
       "  <thead>\n",
       "    <tr style=\"text-align: right;\">\n",
       "      <th></th>\n",
       "      <th>age</th>\n",
       "      <th>weight</th>\n",
       "      <th>height</th>\n",
       "      <th>BMI</th>\n",
       "      <th>R-RI</th>\n",
       "      <th>R-PI</th>\n",
       "      <th>R-PSV</th>\n",
       "      <th>L-RI</th>\n",
       "      <th>L-PI</th>\n",
       "      <th>L-PSV</th>\n",
       "      <th>meanRI</th>\n",
       "      <th>meanPI</th>\n",
       "      <th>meanPSV</th>\n",
       "      <th>bilateralNotch</th>\n",
       "      <th>parity</th>\n",
       "      <th>S-Flt1</th>\n",
       "      <th>S-PLGF</th>\n",
       "      <th>sFLT/PLGF</th>\n",
       "      <th>class</th>\n",
       "    </tr>\n",
       "  </thead>\n",
       "  <tbody>\n",
       "    <tr>\n",
       "      <td>58</td>\n",
       "      <td>43</td>\n",
       "      <td>66.0</td>\n",
       "      <td>1.52</td>\n",
       "      <td>NaN</td>\n",
       "      <td>0.63</td>\n",
       "      <td>0.60</td>\n",
       "      <td>67.4</td>\n",
       "      <td>0.59</td>\n",
       "      <td>0.67</td>\n",
       "      <td>62.9</td>\n",
       "      <td>0.610</td>\n",
       "      <td>0.635</td>\n",
       "      <td>65.15</td>\n",
       "      <td>0</td>\n",
       "      <td>1</td>\n",
       "      <td>27390</td>\n",
       "      <td>153.60</td>\n",
       "      <td>178.320312</td>\n",
       "      <td>IUGR_PE</td>\n",
       "    </tr>\n",
       "    <tr>\n",
       "      <td>59</td>\n",
       "      <td>36</td>\n",
       "      <td>52.0</td>\n",
       "      <td>1.64</td>\n",
       "      <td>NaN</td>\n",
       "      <td>0.67</td>\n",
       "      <td>0.81</td>\n",
       "      <td>57.9</td>\n",
       "      <td>0.69</td>\n",
       "      <td>0.89</td>\n",
       "      <td>61.4</td>\n",
       "      <td>0.680</td>\n",
       "      <td>0.850</td>\n",
       "      <td>59.65</td>\n",
       "      <td>1</td>\n",
       "      <td>1</td>\n",
       "      <td>29805</td>\n",
       "      <td>79.73</td>\n",
       "      <td>373.824157</td>\n",
       "      <td>IUGR_PE</td>\n",
       "    </tr>\n",
       "    <tr>\n",
       "      <td>61</td>\n",
       "      <td>26</td>\n",
       "      <td>NaN</td>\n",
       "      <td>NaN</td>\n",
       "      <td>NaN</td>\n",
       "      <td>0.84</td>\n",
       "      <td>2.02</td>\n",
       "      <td>68.8</td>\n",
       "      <td>0.83</td>\n",
       "      <td>2.28</td>\n",
       "      <td>59.4</td>\n",
       "      <td>0.835</td>\n",
       "      <td>2.150</td>\n",
       "      <td>64.10</td>\n",
       "      <td>1</td>\n",
       "      <td>1</td>\n",
       "      <td>10015</td>\n",
       "      <td>42.64</td>\n",
       "      <td>234.873358</td>\n",
       "      <td>IUGR</td>\n",
       "    </tr>\n",
       "    <tr>\n",
       "      <td>93</td>\n",
       "      <td>30</td>\n",
       "      <td>53.0</td>\n",
       "      <td>1.57</td>\n",
       "      <td>21.501886</td>\n",
       "      <td>0.49</td>\n",
       "      <td>0.52</td>\n",
       "      <td>60.4</td>\n",
       "      <td>0.51</td>\n",
       "      <td>0.56</td>\n",
       "      <td>58.1</td>\n",
       "      <td>0.500</td>\n",
       "      <td>0.540</td>\n",
       "      <td>NaN</td>\n",
       "      <td>0</td>\n",
       "      <td>1</td>\n",
       "      <td>10535</td>\n",
       "      <td>34.97</td>\n",
       "      <td>301.258221</td>\n",
       "      <td>PE</td>\n",
       "    </tr>\n",
       "    <tr>\n",
       "      <td>94</td>\n",
       "      <td>26</td>\n",
       "      <td>74.0</td>\n",
       "      <td>1.65</td>\n",
       "      <td>27.180900</td>\n",
       "      <td>0.69</td>\n",
       "      <td>0.62</td>\n",
       "      <td>54.9</td>\n",
       "      <td>0.73</td>\n",
       "      <td>0.71</td>\n",
       "      <td>60.5</td>\n",
       "      <td>0.710</td>\n",
       "      <td>0.665</td>\n",
       "      <td>NaN</td>\n",
       "      <td>2</td>\n",
       "      <td>1</td>\n",
       "      <td>12154</td>\n",
       "      <td>15.84</td>\n",
       "      <td>767.297980</td>\n",
       "      <td>PE</td>\n",
       "    </tr>\n",
       "  </tbody>\n",
       "</table>\n",
       "</div>"
      ],
      "text/plain": [
       "    age  weight  height        BMI  R-RI  R-PI  R-PSV  L-RI  L-PI  L-PSV  \\\n",
       "58   43    66.0    1.52        NaN  0.63  0.60   67.4  0.59  0.67   62.9   \n",
       "59   36    52.0    1.64        NaN  0.67  0.81   57.9  0.69  0.89   61.4   \n",
       "61   26     NaN     NaN        NaN  0.84  2.02   68.8  0.83  2.28   59.4   \n",
       "93   30    53.0    1.57  21.501886  0.49  0.52   60.4  0.51  0.56   58.1   \n",
       "94   26    74.0    1.65  27.180900  0.69  0.62   54.9  0.73  0.71   60.5   \n",
       "\n",
       "    meanRI  meanPI  meanPSV  bilateralNotch  parity  S-Flt1  S-PLGF  \\\n",
       "58   0.610   0.635    65.15               0       1   27390  153.60   \n",
       "59   0.680   0.850    59.65               1       1   29805   79.73   \n",
       "61   0.835   2.150    64.10               1       1   10015   42.64   \n",
       "93   0.500   0.540      NaN               0       1   10535   34.97   \n",
       "94   0.710   0.665      NaN               2       1   12154   15.84   \n",
       "\n",
       "     sFLT/PLGF    class  \n",
       "58  178.320312  IUGR_PE  \n",
       "59  373.824157  IUGR_PE  \n",
       "61  234.873358     IUGR  \n",
       "93  301.258221       PE  \n",
       "94  767.297980       PE  "
      ]
     },
     "execution_count": 8,
     "metadata": {},
     "output_type": "execute_result"
    }
   ],
   "source": [
    "nulos = data[data.isnull().any(1)]\n",
    "print('Tenemos {} filas con valores nulos'.format(nulos.shape[0]))\n",
    "nulos"
   ]
  },
  {
   "cell_type": "markdown",
   "metadata": {},
   "source": [
    "En las filas **58** y **59** falta el valor de la columna BMI. El BMI representa el índice de masa corporal (IMC), valor que se calcula dividiendo el peso entre la altura al cuadrado. Estos dos valores ausentes pueden ser calculados usando las columnas weight y height.  \n",
    "\n",
    "$$IMC = peso \\cdot altura^2$$ \n",
    "\n",
    "En la fila **61**, falta tanto el BMI como weight y height. Para las columnas weight y height, sustituiremos el valor nulo por el valor medio. En cuanto el valor ausente del BMI, lo calcularemos como en el primer caso calculando el IMC usando el valor de weight y height correspondiente.  \n",
    "\n",
    "Por último, en la fila **93** y **94** falta el valor de meanPSV. Esta columna contiene la media de las columnas R-PSV y L-PSV. Calcularemos la media para rellenar este valor ausente."
   ]
  },
  {
   "cell_type": "code",
   "execution_count": 9,
   "metadata": {},
   "outputs": [],
   "source": [
    "#cálculo peso medio\n",
    "mean_weight = data[\"weight\"].mean()\n",
    "data[\"weight\"]= data[\"weight\"].fillna(mean_weight)"
   ]
  },
  {
   "cell_type": "code",
   "execution_count": 10,
   "metadata": {},
   "outputs": [],
   "source": [
    "#Cálculo de altura media\n",
    "mean_height = data[\"height\"].mean()\n",
    "data[\"height\"]= data[\"height\"].fillna(mean_height)"
   ]
  },
  {
   "cell_type": "code",
   "execution_count": 11,
   "metadata": {},
   "outputs": [],
   "source": [
    "#cálculo de IMC\n",
    "data[\"BMI\"]= data[\"BMI\"].fillna(data[\"weight\"]/(data[\"height\"]*data[\"height\"]))"
   ]
  },
  {
   "cell_type": "code",
   "execution_count": 12,
   "metadata": {},
   "outputs": [
    {
     "data": {
      "text/html": [
       "<div>\n",
       "<style scoped>\n",
       "    .dataframe tbody tr th:only-of-type {\n",
       "        vertical-align: middle;\n",
       "    }\n",
       "\n",
       "    .dataframe tbody tr th {\n",
       "        vertical-align: top;\n",
       "    }\n",
       "\n",
       "    .dataframe thead th {\n",
       "        text-align: right;\n",
       "    }\n",
       "</style>\n",
       "<table border=\"1\" class=\"dataframe\">\n",
       "  <thead>\n",
       "    <tr style=\"text-align: right;\">\n",
       "      <th></th>\n",
       "      <th>weight</th>\n",
       "      <th>height</th>\n",
       "      <th>BMI</th>\n",
       "    </tr>\n",
       "  </thead>\n",
       "  <tbody>\n",
       "    <tr>\n",
       "      <td>58</td>\n",
       "      <td>66.000000</td>\n",
       "      <td>1.520000</td>\n",
       "      <td>28.566482</td>\n",
       "    </tr>\n",
       "    <tr>\n",
       "      <td>59</td>\n",
       "      <td>52.000000</td>\n",
       "      <td>1.640000</td>\n",
       "      <td>19.333730</td>\n",
       "    </tr>\n",
       "    <tr>\n",
       "      <td>61</td>\n",
       "      <td>67.531915</td>\n",
       "      <td>1.655638</td>\n",
       "      <td>24.636450</td>\n",
       "    </tr>\n",
       "  </tbody>\n",
       "</table>\n",
       "</div>"
      ],
      "text/plain": [
       "       weight    height        BMI\n",
       "58  66.000000  1.520000  28.566482\n",
       "59  52.000000  1.640000  19.333730\n",
       "61  67.531915  1.655638  24.636450"
      ]
     },
     "execution_count": 12,
     "metadata": {},
     "output_type": "execute_result"
    }
   ],
   "source": [
    "whb = pd.DataFrame([data.loc[58], data.loc[59],data.loc[61]])\n",
    "whb[[\"weight\", \"height\", \"BMI\"]]"
   ]
  },
  {
   "cell_type": "code",
   "execution_count": 13,
   "metadata": {},
   "outputs": [],
   "source": [
    "#Cálculo de media entre r-psv y l-psv\n",
    "data[\"meanPSV\"]= data[\"meanPSV\"].fillna((data[\"R-PSV\"]+data[\"L-PSV\"])/2)"
   ]
  },
  {
   "cell_type": "code",
   "execution_count": 14,
   "metadata": {},
   "outputs": [
    {
     "data": {
      "text/html": [
       "<div>\n",
       "<style scoped>\n",
       "    .dataframe tbody tr th:only-of-type {\n",
       "        vertical-align: middle;\n",
       "    }\n",
       "\n",
       "    .dataframe tbody tr th {\n",
       "        vertical-align: top;\n",
       "    }\n",
       "\n",
       "    .dataframe thead th {\n",
       "        text-align: right;\n",
       "    }\n",
       "</style>\n",
       "<table border=\"1\" class=\"dataframe\">\n",
       "  <thead>\n",
       "    <tr style=\"text-align: right;\">\n",
       "      <th></th>\n",
       "      <th>R-PSV</th>\n",
       "      <th>L-PSV</th>\n",
       "      <th>meanPSV</th>\n",
       "    </tr>\n",
       "  </thead>\n",
       "  <tbody>\n",
       "    <tr>\n",
       "      <td>93</td>\n",
       "      <td>60.4</td>\n",
       "      <td>58.1</td>\n",
       "      <td>59.25</td>\n",
       "    </tr>\n",
       "    <tr>\n",
       "      <td>94</td>\n",
       "      <td>54.9</td>\n",
       "      <td>60.5</td>\n",
       "      <td>57.70</td>\n",
       "    </tr>\n",
       "  </tbody>\n",
       "</table>\n",
       "</div>"
      ],
      "text/plain": [
       "    R-PSV  L-PSV  meanPSV\n",
       "93   60.4   58.1    59.25\n",
       "94   54.9   60.5    57.70"
      ]
     },
     "execution_count": 14,
     "metadata": {},
     "output_type": "execute_result"
    }
   ],
   "source": [
    "psv = pd.DataFrame([data.loc[93], data.loc[94]])\n",
    "psv[[\"R-PSV\", \"L-PSV\", \"meanPSV\"]]"
   ]
  },
  {
   "cell_type": "code",
   "execution_count": 15,
   "metadata": {},
   "outputs": [
    {
     "data": {
      "text/plain": [
       "age               0\n",
       "weight            0\n",
       "height            0\n",
       "BMI               0\n",
       "R-RI              0\n",
       "R-PI              0\n",
       "R-PSV             0\n",
       "L-RI              0\n",
       "L-PI              0\n",
       "L-PSV             0\n",
       "meanRI            0\n",
       "meanPI            0\n",
       "meanPSV           0\n",
       "bilateralNotch    0\n",
       "parity            0\n",
       "S-Flt1            0\n",
       "S-PLGF            0\n",
       "sFLT/PLGF         0\n",
       "class             0\n",
       "dtype: int64"
      ]
     },
     "execution_count": 15,
     "metadata": {},
     "output_type": "execute_result"
    }
   ],
   "source": [
    "data.isnull().sum()"
   ]
  },
  {
   "cell_type": "code",
   "execution_count": 16,
   "metadata": {},
   "outputs": [
    {
     "name": "stdout",
     "output_type": "stream",
     "text": [
      "Hay 0 valores nulos en el dataframe\n"
     ]
    }
   ],
   "source": [
    "print(\"Hay {} valores nulos en el dataframe\".format(data.isnull().sum().sum()))"
   ]
  },
  {
   "cell_type": "markdown",
   "metadata": {},
   "source": [
    "## 3. Normalización"
   ]
  },
  {
   "cell_type": "markdown",
   "metadata": {},
   "source": [
    "El dataset presenta distintos rangos entre sus atributos (por ejemplo, la columna L-RI tiene un valor medio de **0,655895**, mientras que el valor medio de S-Plt1 es **13156,2**)"
   ]
  },
  {
   "cell_type": "code",
   "execution_count": 17,
   "metadata": {},
   "outputs": [
    {
     "data": {
      "text/html": [
       "<div>\n",
       "<style scoped>\n",
       "    .dataframe tbody tr th:only-of-type {\n",
       "        vertical-align: middle;\n",
       "    }\n",
       "\n",
       "    .dataframe tbody tr th {\n",
       "        vertical-align: top;\n",
       "    }\n",
       "\n",
       "    .dataframe thead th {\n",
       "        text-align: right;\n",
       "    }\n",
       "</style>\n",
       "<table border=\"1\" class=\"dataframe\">\n",
       "  <thead>\n",
       "    <tr style=\"text-align: right;\">\n",
       "      <th></th>\n",
       "      <th>age</th>\n",
       "      <th>weight</th>\n",
       "      <th>height</th>\n",
       "      <th>BMI</th>\n",
       "      <th>R-RI</th>\n",
       "      <th>R-PI</th>\n",
       "      <th>R-PSV</th>\n",
       "      <th>L-RI</th>\n",
       "      <th>L-PI</th>\n",
       "      <th>L-PSV</th>\n",
       "      <th>meanRI</th>\n",
       "      <th>meanPI</th>\n",
       "      <th>meanPSV</th>\n",
       "      <th>bilateralNotch</th>\n",
       "      <th>parity</th>\n",
       "      <th>S-Flt1</th>\n",
       "      <th>S-PLGF</th>\n",
       "      <th>sFLT/PLGF</th>\n",
       "    </tr>\n",
       "  </thead>\n",
       "  <tbody>\n",
       "    <tr>\n",
       "      <td>count</td>\n",
       "      <td>95.000000</td>\n",
       "      <td>95.000000</td>\n",
       "      <td>95.000000</td>\n",
       "      <td>95.000000</td>\n",
       "      <td>95.000000</td>\n",
       "      <td>95.000000</td>\n",
       "      <td>95.000000</td>\n",
       "      <td>95.000000</td>\n",
       "      <td>95.000000</td>\n",
       "      <td>95.000000</td>\n",
       "      <td>95.000000</td>\n",
       "      <td>95.00000</td>\n",
       "      <td>95.000000</td>\n",
       "      <td>95.000000</td>\n",
       "      <td>95.000000</td>\n",
       "      <td>95.000000</td>\n",
       "      <td>95.000000</td>\n",
       "      <td>95.000000</td>\n",
       "    </tr>\n",
       "    <tr>\n",
       "      <td>mean</td>\n",
       "      <td>32.147368</td>\n",
       "      <td>67.531915</td>\n",
       "      <td>1.655638</td>\n",
       "      <td>24.603079</td>\n",
       "      <td>0.639474</td>\n",
       "      <td>1.063158</td>\n",
       "      <td>60.809053</td>\n",
       "      <td>0.655895</td>\n",
       "      <td>1.102842</td>\n",
       "      <td>61.128000</td>\n",
       "      <td>0.647684</td>\n",
       "      <td>1.08300</td>\n",
       "      <td>60.968526</td>\n",
       "      <td>0.600000</td>\n",
       "      <td>1.536842</td>\n",
       "      <td>13156.200000</td>\n",
       "      <td>302.825789</td>\n",
       "      <td>243.129174</td>\n",
       "    </tr>\n",
       "    <tr>\n",
       "      <td>std</td>\n",
       "      <td>5.084328</td>\n",
       "      <td>14.278165</td>\n",
       "      <td>0.062221</td>\n",
       "      <td>4.772114</td>\n",
       "      <td>0.126444</td>\n",
       "      <td>0.501891</td>\n",
       "      <td>6.709441</td>\n",
       "      <td>0.108437</td>\n",
       "      <td>0.470865</td>\n",
       "      <td>6.076082</td>\n",
       "      <td>0.112455</td>\n",
       "      <td>0.47324</td>\n",
       "      <td>5.657344</td>\n",
       "      <td>0.674773</td>\n",
       "      <td>0.920344</td>\n",
       "      <td>13824.935398</td>\n",
       "      <td>383.390465</td>\n",
       "      <td>351.790952</td>\n",
       "    </tr>\n",
       "    <tr>\n",
       "      <td>min</td>\n",
       "      <td>21.000000</td>\n",
       "      <td>46.000000</td>\n",
       "      <td>1.500000</td>\n",
       "      <td>17.102915</td>\n",
       "      <td>0.400000</td>\n",
       "      <td>0.450000</td>\n",
       "      <td>47.800000</td>\n",
       "      <td>0.430000</td>\n",
       "      <td>0.520000</td>\n",
       "      <td>46.800000</td>\n",
       "      <td>0.420000</td>\n",
       "      <td>0.54000</td>\n",
       "      <td>50.200000</td>\n",
       "      <td>0.000000</td>\n",
       "      <td>1.000000</td>\n",
       "      <td>995.000000</td>\n",
       "      <td>10.050000</td>\n",
       "      <td>0.946717</td>\n",
       "    </tr>\n",
       "    <tr>\n",
       "      <td>25%</td>\n",
       "      <td>29.000000</td>\n",
       "      <td>58.000000</td>\n",
       "      <td>1.620000</td>\n",
       "      <td>21.380195</td>\n",
       "      <td>0.560000</td>\n",
       "      <td>0.645000</td>\n",
       "      <td>56.700000</td>\n",
       "      <td>0.590000</td>\n",
       "      <td>0.695000</td>\n",
       "      <td>57.800000</td>\n",
       "      <td>0.570000</td>\n",
       "      <td>0.67000</td>\n",
       "      <td>57.625000</td>\n",
       "      <td>0.000000</td>\n",
       "      <td>1.000000</td>\n",
       "      <td>3623.500000</td>\n",
       "      <td>54.020000</td>\n",
       "      <td>7.367625</td>\n",
       "    </tr>\n",
       "    <tr>\n",
       "      <td>50%</td>\n",
       "      <td>32.000000</td>\n",
       "      <td>65.000000</td>\n",
       "      <td>1.660000</td>\n",
       "      <td>23.529412</td>\n",
       "      <td>0.670000</td>\n",
       "      <td>0.870000</td>\n",
       "      <td>59.100000</td>\n",
       "      <td>0.670000</td>\n",
       "      <td>0.890000</td>\n",
       "      <td>60.200000</td>\n",
       "      <td>0.670000</td>\n",
       "      <td>0.93500</td>\n",
       "      <td>60.050000</td>\n",
       "      <td>0.000000</td>\n",
       "      <td>1.000000</td>\n",
       "      <td>9530.000000</td>\n",
       "      <td>105.900000</td>\n",
       "      <td>119.728305</td>\n",
       "    </tr>\n",
       "    <tr>\n",
       "      <td>75%</td>\n",
       "      <td>36.000000</td>\n",
       "      <td>74.000000</td>\n",
       "      <td>1.700000</td>\n",
       "      <td>26.260131</td>\n",
       "      <td>0.735000</td>\n",
       "      <td>1.485000</td>\n",
       "      <td>63.250000</td>\n",
       "      <td>0.755000</td>\n",
       "      <td>1.530000</td>\n",
       "      <td>64.100000</td>\n",
       "      <td>0.750000</td>\n",
       "      <td>1.46750</td>\n",
       "      <td>62.425000</td>\n",
       "      <td>1.000000</td>\n",
       "      <td>2.000000</td>\n",
       "      <td>17947.000000</td>\n",
       "      <td>448.550000</td>\n",
       "      <td>362.884861</td>\n",
       "    </tr>\n",
       "    <tr>\n",
       "      <td>max</td>\n",
       "      <td>47.000000</td>\n",
       "      <td>113.000000</td>\n",
       "      <td>1.800000</td>\n",
       "      <td>39.682540</td>\n",
       "      <td>0.840000</td>\n",
       "      <td>2.490000</td>\n",
       "      <td>89.800000</td>\n",
       "      <td>0.830000</td>\n",
       "      <td>2.280000</td>\n",
       "      <td>89.800000</td>\n",
       "      <td>0.835000</td>\n",
       "      <td>2.21500</td>\n",
       "      <td>88.650000</td>\n",
       "      <td>2.000000</td>\n",
       "      <td>6.000000</td>\n",
       "      <td>74283.000000</td>\n",
       "      <td>1607.000000</td>\n",
       "      <td>2297.421203</td>\n",
       "    </tr>\n",
       "  </tbody>\n",
       "</table>\n",
       "</div>"
      ],
      "text/plain": [
       "             age      weight     height        BMI       R-RI       R-PI  \\\n",
       "count  95.000000   95.000000  95.000000  95.000000  95.000000  95.000000   \n",
       "mean   32.147368   67.531915   1.655638  24.603079   0.639474   1.063158   \n",
       "std     5.084328   14.278165   0.062221   4.772114   0.126444   0.501891   \n",
       "min    21.000000   46.000000   1.500000  17.102915   0.400000   0.450000   \n",
       "25%    29.000000   58.000000   1.620000  21.380195   0.560000   0.645000   \n",
       "50%    32.000000   65.000000   1.660000  23.529412   0.670000   0.870000   \n",
       "75%    36.000000   74.000000   1.700000  26.260131   0.735000   1.485000   \n",
       "max    47.000000  113.000000   1.800000  39.682540   0.840000   2.490000   \n",
       "\n",
       "           R-PSV       L-RI       L-PI      L-PSV     meanRI    meanPI  \\\n",
       "count  95.000000  95.000000  95.000000  95.000000  95.000000  95.00000   \n",
       "mean   60.809053   0.655895   1.102842  61.128000   0.647684   1.08300   \n",
       "std     6.709441   0.108437   0.470865   6.076082   0.112455   0.47324   \n",
       "min    47.800000   0.430000   0.520000  46.800000   0.420000   0.54000   \n",
       "25%    56.700000   0.590000   0.695000  57.800000   0.570000   0.67000   \n",
       "50%    59.100000   0.670000   0.890000  60.200000   0.670000   0.93500   \n",
       "75%    63.250000   0.755000   1.530000  64.100000   0.750000   1.46750   \n",
       "max    89.800000   0.830000   2.280000  89.800000   0.835000   2.21500   \n",
       "\n",
       "         meanPSV  bilateralNotch     parity        S-Flt1       S-PLGF  \\\n",
       "count  95.000000       95.000000  95.000000     95.000000    95.000000   \n",
       "mean   60.968526        0.600000   1.536842  13156.200000   302.825789   \n",
       "std     5.657344        0.674773   0.920344  13824.935398   383.390465   \n",
       "min    50.200000        0.000000   1.000000    995.000000    10.050000   \n",
       "25%    57.625000        0.000000   1.000000   3623.500000    54.020000   \n",
       "50%    60.050000        0.000000   1.000000   9530.000000   105.900000   \n",
       "75%    62.425000        1.000000   2.000000  17947.000000   448.550000   \n",
       "max    88.650000        2.000000   6.000000  74283.000000  1607.000000   \n",
       "\n",
       "         sFLT/PLGF  \n",
       "count    95.000000  \n",
       "mean    243.129174  \n",
       "std     351.790952  \n",
       "min       0.946717  \n",
       "25%       7.367625  \n",
       "50%     119.728305  \n",
       "75%     362.884861  \n",
       "max    2297.421203  "
      ]
     },
     "execution_count": 17,
     "metadata": {},
     "output_type": "execute_result"
    }
   ],
   "source": [
    "data.describe()"
   ]
  },
  {
   "cell_type": "markdown",
   "metadata": {},
   "source": [
    "Por eso, vamos a normalizar los valores numéricos del dataset. La estrategia elegida ha sido la normalización min-max. Esto consiste en que a cada valor le resta el valor mínimo y lo divide por la diferencia entre el máximo y el mínimo (produce valores entre 0 y 1)"
   ]
  },
  {
   "cell_type": "code",
   "execution_count": 18,
   "metadata": {},
   "outputs": [],
   "source": [
    "num_var = [var for var in data.columns if data[var].dtype != 'object']"
   ]
  },
  {
   "cell_type": "code",
   "execution_count": 19,
   "metadata": {},
   "outputs": [],
   "source": [
    "scaler =MinMaxScaler()\n",
    "data[num_var]=scaler.fit_transform(data[num_var])"
   ]
  },
  {
   "cell_type": "code",
   "execution_count": 20,
   "metadata": {},
   "outputs": [
    {
     "data": {
      "text/html": [
       "<div>\n",
       "<style scoped>\n",
       "    .dataframe tbody tr th:only-of-type {\n",
       "        vertical-align: middle;\n",
       "    }\n",
       "\n",
       "    .dataframe tbody tr th {\n",
       "        vertical-align: top;\n",
       "    }\n",
       "\n",
       "    .dataframe thead th {\n",
       "        text-align: right;\n",
       "    }\n",
       "</style>\n",
       "<table border=\"1\" class=\"dataframe\">\n",
       "  <thead>\n",
       "    <tr style=\"text-align: right;\">\n",
       "      <th></th>\n",
       "      <th>age</th>\n",
       "      <th>weight</th>\n",
       "      <th>height</th>\n",
       "      <th>BMI</th>\n",
       "      <th>R-RI</th>\n",
       "      <th>R-PI</th>\n",
       "      <th>R-PSV</th>\n",
       "      <th>L-RI</th>\n",
       "      <th>L-PI</th>\n",
       "      <th>L-PSV</th>\n",
       "      <th>meanRI</th>\n",
       "      <th>meanPI</th>\n",
       "      <th>meanPSV</th>\n",
       "      <th>bilateralNotch</th>\n",
       "      <th>parity</th>\n",
       "      <th>S-Flt1</th>\n",
       "      <th>S-PLGF</th>\n",
       "      <th>sFLT/PLGF</th>\n",
       "      <th>class</th>\n",
       "    </tr>\n",
       "  </thead>\n",
       "  <tbody>\n",
       "    <tr>\n",
       "      <td>0</td>\n",
       "      <td>0.615385</td>\n",
       "      <td>0.179104</td>\n",
       "      <td>0.666667</td>\n",
       "      <td>0.131370</td>\n",
       "      <td>0.068182</td>\n",
       "      <td>0.053922</td>\n",
       "      <td>0.416667</td>\n",
       "      <td>0.15</td>\n",
       "      <td>0.045455</td>\n",
       "      <td>0.165116</td>\n",
       "      <td>0.096386</td>\n",
       "      <td>0.023881</td>\n",
       "      <td>0.244473</td>\n",
       "      <td>0.0</td>\n",
       "      <td>0.0</td>\n",
       "      <td>0.143489</td>\n",
       "      <td>0.058079</td>\n",
       "      <td>0.048347</td>\n",
       "      <td>Control</td>\n",
       "    </tr>\n",
       "    <tr>\n",
       "      <td>1</td>\n",
       "      <td>0.538462</td>\n",
       "      <td>0.000000</td>\n",
       "      <td>0.466667</td>\n",
       "      <td>0.000000</td>\n",
       "      <td>0.000000</td>\n",
       "      <td>0.044118</td>\n",
       "      <td>0.350000</td>\n",
       "      <td>0.60</td>\n",
       "      <td>0.119318</td>\n",
       "      <td>0.606977</td>\n",
       "      <td>0.277108</td>\n",
       "      <td>0.056716</td>\n",
       "      <td>0.455137</td>\n",
       "      <td>0.0</td>\n",
       "      <td>0.4</td>\n",
       "      <td>0.029350</td>\n",
       "      <td>0.465105</td>\n",
       "      <td>0.001408</td>\n",
       "      <td>Control</td>\n",
       "    </tr>\n",
       "    <tr>\n",
       "      <td>2</td>\n",
       "      <td>0.500000</td>\n",
       "      <td>0.268657</td>\n",
       "      <td>0.833333</td>\n",
       "      <td>0.168074</td>\n",
       "      <td>0.022727</td>\n",
       "      <td>0.073529</td>\n",
       "      <td>0.283333</td>\n",
       "      <td>0.25</td>\n",
       "      <td>0.056818</td>\n",
       "      <td>0.360465</td>\n",
       "      <td>0.120482</td>\n",
       "      <td>0.041791</td>\n",
       "      <td>0.280884</td>\n",
       "      <td>0.0</td>\n",
       "      <td>0.0</td>\n",
       "      <td>0.039065</td>\n",
       "      <td>0.120949</td>\n",
       "      <td>0.007855</td>\n",
       "      <td>Control</td>\n",
       "    </tr>\n",
       "    <tr>\n",
       "      <td>3</td>\n",
       "      <td>0.384615</td>\n",
       "      <td>0.044776</td>\n",
       "      <td>0.066667</td>\n",
       "      <td>0.181825</td>\n",
       "      <td>0.568182</td>\n",
       "      <td>0.254902</td>\n",
       "      <td>0.326190</td>\n",
       "      <td>0.40</td>\n",
       "      <td>0.267045</td>\n",
       "      <td>0.495349</td>\n",
       "      <td>0.481928</td>\n",
       "      <td>0.262687</td>\n",
       "      <td>0.379714</td>\n",
       "      <td>0.0</td>\n",
       "      <td>0.2</td>\n",
       "      <td>0.000000</td>\n",
       "      <td>0.651836</td>\n",
       "      <td>0.000000</td>\n",
       "      <td>Control</td>\n",
       "    </tr>\n",
       "    <tr>\n",
       "      <td>4</td>\n",
       "      <td>0.384615</td>\n",
       "      <td>0.298507</td>\n",
       "      <td>0.333333</td>\n",
       "      <td>0.384344</td>\n",
       "      <td>0.500000</td>\n",
       "      <td>0.210784</td>\n",
       "      <td>0.245238</td>\n",
       "      <td>0.40</td>\n",
       "      <td>0.136364</td>\n",
       "      <td>0.286047</td>\n",
       "      <td>0.445783</td>\n",
       "      <td>0.167164</td>\n",
       "      <td>0.218466</td>\n",
       "      <td>0.0</td>\n",
       "      <td>0.0</td>\n",
       "      <td>0.009169</td>\n",
       "      <td>0.895426</td>\n",
       "      <td>0.000092</td>\n",
       "      <td>Control</td>\n",
       "    </tr>\n",
       "  </tbody>\n",
       "</table>\n",
       "</div>"
      ],
      "text/plain": [
       "        age    weight    height       BMI      R-RI      R-PI     R-PSV  L-RI  \\\n",
       "0  0.615385  0.179104  0.666667  0.131370  0.068182  0.053922  0.416667  0.15   \n",
       "1  0.538462  0.000000  0.466667  0.000000  0.000000  0.044118  0.350000  0.60   \n",
       "2  0.500000  0.268657  0.833333  0.168074  0.022727  0.073529  0.283333  0.25   \n",
       "3  0.384615  0.044776  0.066667  0.181825  0.568182  0.254902  0.326190  0.40   \n",
       "4  0.384615  0.298507  0.333333  0.384344  0.500000  0.210784  0.245238  0.40   \n",
       "\n",
       "       L-PI     L-PSV    meanRI    meanPI   meanPSV  bilateralNotch  parity  \\\n",
       "0  0.045455  0.165116  0.096386  0.023881  0.244473             0.0     0.0   \n",
       "1  0.119318  0.606977  0.277108  0.056716  0.455137             0.0     0.4   \n",
       "2  0.056818  0.360465  0.120482  0.041791  0.280884             0.0     0.0   \n",
       "3  0.267045  0.495349  0.481928  0.262687  0.379714             0.0     0.2   \n",
       "4  0.136364  0.286047  0.445783  0.167164  0.218466             0.0     0.0   \n",
       "\n",
       "     S-Flt1    S-PLGF  sFLT/PLGF    class  \n",
       "0  0.143489  0.058079   0.048347  Control  \n",
       "1  0.029350  0.465105   0.001408  Control  \n",
       "2  0.039065  0.120949   0.007855  Control  \n",
       "3  0.000000  0.651836   0.000000  Control  \n",
       "4  0.009169  0.895426   0.000092  Control  "
      ]
     },
     "execution_count": 20,
     "metadata": {},
     "output_type": "execute_result"
    }
   ],
   "source": [
    "data.head()"
   ]
  },
  {
   "cell_type": "markdown",
   "metadata": {},
   "source": [
    "## 4. División de dataset"
   ]
  },
  {
   "cell_type": "markdown",
   "metadata": {},
   "source": [
    "Sacamos clase:"
   ]
  },
  {
   "cell_type": "code",
   "execution_count": 21,
   "metadata": {},
   "outputs": [],
   "source": [
    "X= data.drop('class', axis=1)\n",
    "y= data['class']"
   ]
  },
  {
   "cell_type": "markdown",
   "metadata": {},
   "source": [
    "Dividimos el dataset en train/test:"
   ]
  },
  {
   "cell_type": "code",
   "execution_count": 22,
   "metadata": {},
   "outputs": [],
   "source": [
    "X_train, X_test, y_train, y_test = train_test_split(X, y, test_size=0.2)"
   ]
  },
  {
   "cell_type": "markdown",
   "metadata": {},
   "source": [
    "## 5. Balanceo del dataset "
   ]
  },
  {
   "cell_type": "markdown",
   "metadata": {},
   "source": [
    "Comenzamos con la técnica SMOTE estándar."
   ]
  },
  {
   "cell_type": "code",
   "execution_count": 23,
   "metadata": {},
   "outputs": [],
   "source": [
    "sm = SMOTE()\n",
    "X_sm, y_sm = sm.fit_resample(X_train, y_train)"
   ]
  },
  {
   "cell_type": "code",
   "execution_count": 24,
   "metadata": {},
   "outputs": [
    {
     "name": "stdout",
     "output_type": "stream",
     "text": [
      "Original dataset shape Counter({'IUGR_PE': 28, 'PE': 19, 'Control': 19, 'IUGR': 10})\n",
      "Resampled dataset shape Counter({'PE': 28, 'IUGR_PE': 28, 'Control': 28, 'IUGR': 28})\n"
     ]
    }
   ],
   "source": [
    "print('Original dataset shape %s' % Counter(y_train))\n",
    "print('Resampled dataset shape %s' % Counter(y_sm))"
   ]
  },
  {
   "cell_type": "markdown",
   "metadata": {},
   "source": [
    "Continuamos con BorderlineSMOTE, variante de SMOTE"
   ]
  },
  {
   "cell_type": "code",
   "execution_count": 26,
   "metadata": {},
   "outputs": [
    {
     "name": "stdout",
     "output_type": "stream",
     "text": [
      "Original dataset shape Counter({'IUGR_PE': 28, 'PE': 19, 'Control': 19, 'IUGR': 10})\n",
      "Resampled dataset shape Counter({'PE': 28, 'IUGR_PE': 28, 'Control': 28, 'IUGR': 28})\n"
     ]
    }
   ],
   "source": [
    "bsm = BorderlineSMOTE()\n",
    "X_bsm, y_bsm = bsm.fit_resample(X_train, y_train)\n",
    "print('Original dataset shape %s' % Counter(y_train))\n",
    "print('Resampled dataset shape %s' % Counter(y_bsm))"
   ]
  },
  {
   "cell_type": "markdown",
   "metadata": {},
   "source": [
    "SVMSMOTE"
   ]
  },
  {
   "cell_type": "code",
   "execution_count": 27,
   "metadata": {},
   "outputs": [
    {
     "name": "stdout",
     "output_type": "stream",
     "text": [
      "Original dataset shape Counter({'IUGR_PE': 28, 'PE': 19, 'Control': 19, 'IUGR': 10})\n",
      "Resampled dataset shape Counter({'IUGR_PE': 28, 'Control': 28, 'PE': 23, 'IUGR': 18})\n"
     ]
    }
   ],
   "source": [
    "svsm = SVMSMOTE()\n",
    "X_svsm, y_svsm = svsm.fit_resample(X_train, y_train)\n",
    "print('Original dataset shape %s' % Counter(y_train))\n",
    "print('Resampled dataset shape %s' % Counter(y_svsm))"
   ]
  },
  {
   "cell_type": "markdown",
   "metadata": {},
   "source": [
    "ADASYN"
   ]
  },
  {
   "cell_type": "code",
   "execution_count": 28,
   "metadata": {},
   "outputs": [
    {
     "name": "stdout",
     "output_type": "stream",
     "text": [
      "Original dataset shape Counter({'IUGR_PE': 28, 'PE': 19, 'Control': 19, 'IUGR': 10})\n",
      "Resampled dataset shape Counter({'IUGR': 29, 'IUGR_PE': 28, 'PE': 19, 'Control': 19})\n"
     ]
    }
   ],
   "source": [
    "ada = ADASYN(sampling_strategy='minority')\n",
    "X_ada, y_ada = ada.fit_resample(X_train, y_train)\n",
    "print('Original dataset shape %s' % Counter(y_train))\n",
    "print('Resampled dataset shape %s' % Counter(y_ada))"
   ]
  },
  {
   "cell_type": "code",
   "execution_count": 29,
   "metadata": {},
   "outputs": [],
   "source": [
    "train_data =[[X_sm, y_sm],[X_bsm,y_bsm],[X_svsm, y_svsm],[X_ada, y_ada]]"
   ]
  },
  {
   "cell_type": "markdown",
   "metadata": {},
   "source": [
    "----"
   ]
  },
  {
   "cell_type": "markdown",
   "metadata": {},
   "source": [
    "# Modelo predictrivo (Clasificación)"
   ]
  },
  {
   "cell_type": "markdown",
   "metadata": {},
   "source": [
    "## 1. Entrenamiento del modelo"
   ]
  },
  {
   "cell_type": "markdown",
   "metadata": {},
   "source": [
    "Contamos con un dataset con pocas instancias, por lo que vamos a optar por utilizar todo el dataset para hacer la evaluación del modelo, es decir, vamos a utilizar la técnica de *cross validation* --> **CAMBIARRRRR**"
   ]
  },
  {
   "cell_type": "markdown",
   "metadata": {},
   "source": [
    "Métricas que vamos a utilizar **EXPLICAR MEJOR**:\n",
    "* **Matriz de confusión**: La matriz de confusión muestra el número de veces que se han producido los distintos tipos de aciertos y fallos. Tenemos TP, TN, FP y FN.\n",
    "* **Precision**: Es el número de elementos identificados correctamente como positivo de un total de elementos identificados como positivos (TP/(TP+FP)) \n",
    "* **Recall** (cobertura): (TP/(TP+FN))\n",
    "* **F1-score**: media armónica de precisión y cobertura"
   ]
  },
  {
   "cell_type": "code",
   "execution_count": 193,
   "metadata": {},
   "outputs": [],
   "source": [
    "RESULTADOS= pd.DataFrame(columns=['Parametros', 'Recall'])"
   ]
  },
  {
   "cell_type": "code",
   "execution_count": null,
   "metadata": {},
   "outputs": [],
   "source": [
    "dt= [\"smote\", \"bordSmote\",\"svmSmote\",\"adasyn\"]"
   ]
  },
  {
   "cell_type": "code",
   "execution_count": 192,
   "metadata": {},
   "outputs": [],
   "source": [
    "def evalua_modelos(parametros,clasificador, nombre_modelo, train_data, nombre_train_data, res_df):\n",
    "    grid= GridSearchCV(clasificador, parametros, scoring= \"recall_macro\")\n",
    "    for i in range(len(nombre_train_data)):\n",
    "        grid.fit(train_data[i][0], train_data[i][1])\n",
    "        RESULTADOS.loc[nombre_modelo+\" - Datos: \"+dt[i]]= ( grid.best_params_,grid.best_score_)"
   ]
  },
  {
   "cell_type": "markdown",
   "metadata": {},
   "source": [
    "### KNeighbotsClassifier"
   ]
  },
  {
   "cell_type": "code",
   "execution_count": 195,
   "metadata": {},
   "outputs": [],
   "source": [
    "parametros= {\"n_neighbors\":[1,2,3,4,5,6,7,8,9,10], \"weights\":['uniform', 'distance'], \n",
    "\"algorithm\": ['auto', 'ball_tree', 'kd_tree', 'brute'] }"
   ]
  },
  {
   "cell_type": "code",
   "execution_count": 196,
   "metadata": {},
   "outputs": [
    {
     "data": {
      "text/html": [
       "<div>\n",
       "<style scoped>\n",
       "    .dataframe tbody tr th:only-of-type {\n",
       "        vertical-align: middle;\n",
       "    }\n",
       "\n",
       "    .dataframe tbody tr th {\n",
       "        vertical-align: top;\n",
       "    }\n",
       "\n",
       "    .dataframe thead th {\n",
       "        text-align: right;\n",
       "    }\n",
       "</style>\n",
       "<table border=\"1\" class=\"dataframe\">\n",
       "  <thead>\n",
       "    <tr style=\"text-align: right;\">\n",
       "      <th></th>\n",
       "      <th>Parametros</th>\n",
       "      <th>Recall</th>\n",
       "    </tr>\n",
       "  </thead>\n",
       "  <tbody>\n",
       "    <tr>\n",
       "      <td>KNeighborsClassifier - Datos: smote</td>\n",
       "      <td>{'algorithm': 'auto', 'n_neighbors': 10, 'weig...</td>\n",
       "      <td>0.435595</td>\n",
       "    </tr>\n",
       "    <tr>\n",
       "      <td>KNeighborsClassifier - Datos: bordSmote</td>\n",
       "      <td>{'algorithm': 'auto', 'n_neighbors': 1, 'weigh...</td>\n",
       "      <td>0.801667</td>\n",
       "    </tr>\n",
       "    <tr>\n",
       "      <td>KNeighborsClassifier - Datos: svmSmote</td>\n",
       "      <td>{'algorithm': 'auto', 'n_neighbors': 1, 'weigh...</td>\n",
       "      <td>0.773333</td>\n",
       "    </tr>\n",
       "    <tr>\n",
       "      <td>KNeighborsClassifier - Datos: adasyn</td>\n",
       "      <td>{'algorithm': 'auto', 'n_neighbors': 1, 'weigh...</td>\n",
       "      <td>0.712500</td>\n",
       "    </tr>\n",
       "  </tbody>\n",
       "</table>\n",
       "</div>"
      ],
      "text/plain": [
       "                                                                                Parametros  \\\n",
       "KNeighborsClassifier - Datos: smote      {'algorithm': 'auto', 'n_neighbors': 10, 'weig...   \n",
       "KNeighborsClassifier - Datos: bordSmote  {'algorithm': 'auto', 'n_neighbors': 1, 'weigh...   \n",
       "KNeighborsClassifier - Datos: svmSmote   {'algorithm': 'auto', 'n_neighbors': 1, 'weigh...   \n",
       "KNeighborsClassifier - Datos: adasyn     {'algorithm': 'auto', 'n_neighbors': 1, 'weigh...   \n",
       "\n",
       "                                           Recall  \n",
       "KNeighborsClassifier - Datos: smote      0.435595  \n",
       "KNeighborsClassifier - Datos: bordSmote  0.801667  \n",
       "KNeighborsClassifier - Datos: svmSmote   0.773333  \n",
       "KNeighborsClassifier - Datos: adasyn     0.712500  "
      ]
     },
     "execution_count": 196,
     "metadata": {},
     "output_type": "execute_result"
    }
   ],
   "source": [
    "evalua_modelos(parametros,KNeighborsClassifier(),\"KNeighborsClassifier\", train_data, dt, RESULTADOS)\n",
    "RESULTADOS"
   ]
  },
  {
   "cell_type": "code",
   "execution_count": 207,
   "metadata": {},
   "outputs": [
    {
     "data": {
      "text/html": [
       "<div>\n",
       "<style scoped>\n",
       "    .dataframe tbody tr th:only-of-type {\n",
       "        vertical-align: middle;\n",
       "    }\n",
       "\n",
       "    .dataframe tbody tr th {\n",
       "        vertical-align: top;\n",
       "    }\n",
       "\n",
       "    .dataframe thead th {\n",
       "        text-align: right;\n",
       "    }\n",
       "</style>\n",
       "<table border=\"1\" class=\"dataframe\">\n",
       "  <thead>\n",
       "    <tr style=\"text-align: right;\">\n",
       "      <th></th>\n",
       "      <th>Parametros</th>\n",
       "      <th>Recall</th>\n",
       "    </tr>\n",
       "  </thead>\n",
       "  <tbody>\n",
       "    <tr>\n",
       "      <td>KNeighborsClassifier - Datos: bordSmote</td>\n",
       "      <td>{'algorithm': 'auto', 'n_neighbors': 1, 'weigh...</td>\n",
       "      <td>0.801667</td>\n",
       "    </tr>\n",
       "    <tr>\n",
       "      <td>KNeighborsClassifier - Datos: svmSmote</td>\n",
       "      <td>{'algorithm': 'auto', 'n_neighbors': 1, 'weigh...</td>\n",
       "      <td>0.773333</td>\n",
       "    </tr>\n",
       "    <tr>\n",
       "      <td>KNeighborsClassifier - Datos: adasyn</td>\n",
       "      <td>{'algorithm': 'auto', 'n_neighbors': 1, 'weigh...</td>\n",
       "      <td>0.712500</td>\n",
       "    </tr>\n",
       "    <tr>\n",
       "      <td>KNeighborsClassifier - Datos: smote</td>\n",
       "      <td>{'algorithm': 'auto', 'n_neighbors': 10, 'weig...</td>\n",
       "      <td>0.435595</td>\n",
       "    </tr>\n",
       "  </tbody>\n",
       "</table>\n",
       "</div>"
      ],
      "text/plain": [
       "                                                                                Parametros  \\\n",
       "KNeighborsClassifier - Datos: bordSmote  {'algorithm': 'auto', 'n_neighbors': 1, 'weigh...   \n",
       "KNeighborsClassifier - Datos: svmSmote   {'algorithm': 'auto', 'n_neighbors': 1, 'weigh...   \n",
       "KNeighborsClassifier - Datos: adasyn     {'algorithm': 'auto', 'n_neighbors': 1, 'weigh...   \n",
       "KNeighborsClassifier - Datos: smote      {'algorithm': 'auto', 'n_neighbors': 10, 'weig...   \n",
       "\n",
       "                                           Recall  \n",
       "KNeighborsClassifier - Datos: bordSmote  0.801667  \n",
       "KNeighborsClassifier - Datos: svmSmote   0.773333  \n",
       "KNeighborsClassifier - Datos: adasyn     0.712500  \n",
       "KNeighborsClassifier - Datos: smote      0.435595  "
      ]
     },
     "execution_count": 207,
     "metadata": {},
     "output_type": "execute_result"
    }
   ],
   "source": [
    "RESULTADOS.sort_values(\"Recall\", ascending= False)"
   ]
  },
  {
   "cell_type": "code",
   "execution_count": 208,
   "metadata": {},
   "outputs": [
    {
     "data": {
      "text/plain": [
       "{'algorithm': 'auto', 'n_neighbors': 1, 'weights': 'uniform'}"
      ]
     },
     "execution_count": 208,
     "metadata": {},
     "output_type": "execute_result"
    }
   ],
   "source": [
    "RESULTADOS.loc[\"KNeighborsClassifier - Datos: bordSmote\"][\"Parametros\"]\n"
   ]
  },
  {
   "cell_type": "markdown",
   "metadata": {},
   "source": [
    "El mejor valor de Recall del algoritmo de KneighbotsClassifier se consigue usando los datos de Borderline Smote, y con los siguientes parámetros: {'algorithm': 'auto', 'n_neighbors': 1, 'weights': 'uniform'}"
   ]
  },
  {
   "cell_type": "markdown",
   "metadata": {},
   "source": [
    "### DecisionTreeClassifier"
   ]
  },
  {
   "cell_type": "code",
   "execution_count": 218,
   "metadata": {},
   "outputs": [],
   "source": [
    "parametros= {\"criterion\":[\"gini\", 'entropy'],\"splitter\":['best', 'random'] }"
   ]
  },
  {
   "cell_type": "code",
   "execution_count": 219,
   "metadata": {},
   "outputs": [
    {
     "data": {
      "text/html": [
       "<div>\n",
       "<style scoped>\n",
       "    .dataframe tbody tr th:only-of-type {\n",
       "        vertical-align: middle;\n",
       "    }\n",
       "\n",
       "    .dataframe tbody tr th {\n",
       "        vertical-align: top;\n",
       "    }\n",
       "\n",
       "    .dataframe thead th {\n",
       "        text-align: right;\n",
       "    }\n",
       "</style>\n",
       "<table border=\"1\" class=\"dataframe\">\n",
       "  <thead>\n",
       "    <tr style=\"text-align: right;\">\n",
       "      <th></th>\n",
       "      <th>Parametros</th>\n",
       "      <th>Recall</th>\n",
       "    </tr>\n",
       "  </thead>\n",
       "  <tbody>\n",
       "    <tr>\n",
       "      <td>KNeighborsClassifier - Datos: bordSmote</td>\n",
       "      <td>{'algorithm': 'auto', 'n_neighbors': 1, 'weigh...</td>\n",
       "      <td>0.801667</td>\n",
       "    </tr>\n",
       "    <tr>\n",
       "      <td>KNeighborsClassifier - Datos: svmSmote</td>\n",
       "      <td>{'algorithm': 'auto', 'n_neighbors': 1, 'weigh...</td>\n",
       "      <td>0.773333</td>\n",
       "    </tr>\n",
       "    <tr>\n",
       "      <td>KNeighborsClassifier - Datos: adasyn</td>\n",
       "      <td>{'algorithm': 'auto', 'n_neighbors': 1, 'weigh...</td>\n",
       "      <td>0.712500</td>\n",
       "    </tr>\n",
       "    <tr>\n",
       "      <td>KNeighborsClassifier - Datos: smote</td>\n",
       "      <td>{'algorithm': 'auto', 'n_neighbors': 10, 'weig...</td>\n",
       "      <td>0.435595</td>\n",
       "    </tr>\n",
       "    <tr>\n",
       "      <td>DecisionTreeClassifier - Datos: smote</td>\n",
       "      <td>{'criterion': 'entropy', 'splitter': 'random'}</td>\n",
       "      <td>0.562500</td>\n",
       "    </tr>\n",
       "    <tr>\n",
       "      <td>DecisionTreeClassifier - Datos: bordSmote</td>\n",
       "      <td>{'criterion': 'gini', 'splitter': 'best'}</td>\n",
       "      <td>0.756667</td>\n",
       "    </tr>\n",
       "    <tr>\n",
       "      <td>DecisionTreeClassifier - Datos: svmSmote</td>\n",
       "      <td>{'criterion': 'gini', 'splitter': 'best'}</td>\n",
       "      <td>0.738333</td>\n",
       "    </tr>\n",
       "    <tr>\n",
       "      <td>DecisionTreeClassifier - Datos: adasyn</td>\n",
       "      <td>{'criterion': 'entropy', 'splitter': 'best'}</td>\n",
       "      <td>0.680000</td>\n",
       "    </tr>\n",
       "  </tbody>\n",
       "</table>\n",
       "</div>"
      ],
      "text/plain": [
       "                                                                                  Parametros  \\\n",
       "KNeighborsClassifier - Datos: bordSmote    {'algorithm': 'auto', 'n_neighbors': 1, 'weigh...   \n",
       "KNeighborsClassifier - Datos: svmSmote     {'algorithm': 'auto', 'n_neighbors': 1, 'weigh...   \n",
       "KNeighborsClassifier - Datos: adasyn       {'algorithm': 'auto', 'n_neighbors': 1, 'weigh...   \n",
       "KNeighborsClassifier - Datos: smote        {'algorithm': 'auto', 'n_neighbors': 10, 'weig...   \n",
       "DecisionTreeClassifier - Datos: smote         {'criterion': 'entropy', 'splitter': 'random'}   \n",
       "DecisionTreeClassifier - Datos: bordSmote          {'criterion': 'gini', 'splitter': 'best'}   \n",
       "DecisionTreeClassifier - Datos: svmSmote           {'criterion': 'gini', 'splitter': 'best'}   \n",
       "DecisionTreeClassifier - Datos: adasyn          {'criterion': 'entropy', 'splitter': 'best'}   \n",
       "\n",
       "                                             Recall  \n",
       "KNeighborsClassifier - Datos: bordSmote    0.801667  \n",
       "KNeighborsClassifier - Datos: svmSmote     0.773333  \n",
       "KNeighborsClassifier - Datos: adasyn       0.712500  \n",
       "KNeighborsClassifier - Datos: smote        0.435595  \n",
       "DecisionTreeClassifier - Datos: smote      0.562500  \n",
       "DecisionTreeClassifier - Datos: bordSmote  0.756667  \n",
       "DecisionTreeClassifier - Datos: svmSmote   0.738333  \n",
       "DecisionTreeClassifier - Datos: adasyn     0.680000  "
      ]
     },
     "execution_count": 219,
     "metadata": {},
     "output_type": "execute_result"
    }
   ],
   "source": [
    "evalua_modelos(parametros,DecisionTreeClassifier(),\"DecisionTreeClassifier\", train_data, dt, RESULTADOS)\n",
    "RESULTADOS"
   ]
  },
  {
   "cell_type": "code",
   "execution_count": 220,
   "metadata": {},
   "outputs": [
    {
     "data": {
      "text/plain": [
       "{'criterion': 'gini', 'splitter': 'best'}"
      ]
     },
     "execution_count": 220,
     "metadata": {},
     "output_type": "execute_result"
    }
   ],
   "source": [
    "RESULTADOS.loc[\"DecisionTreeClassifier - Datos: bordSmote\"][\"Parametros\"]"
   ]
  },
  {
   "cell_type": "markdown",
   "metadata": {},
   "source": [
    "El mejor valor de Recall del algoritmo de DecisionTreeClassifier se consigue usando los datos de Borderline Smote, y con los siguientes parámetros: {'criterion': 'gini', 'splitter': 'best'}"
   ]
  },
  {
   "cell_type": "markdown",
   "metadata": {},
   "source": [
    "### RandomForestClassifier"
   ]
  },
  {
   "cell_type": "code",
   "execution_count": 230,
   "metadata": {},
   "outputs": [
    {
     "data": {
      "text/html": [
       "<div>\n",
       "<style scoped>\n",
       "    .dataframe tbody tr th:only-of-type {\n",
       "        vertical-align: middle;\n",
       "    }\n",
       "\n",
       "    .dataframe tbody tr th {\n",
       "        vertical-align: top;\n",
       "    }\n",
       "\n",
       "    .dataframe thead th {\n",
       "        text-align: right;\n",
       "    }\n",
       "</style>\n",
       "<table border=\"1\" class=\"dataframe\">\n",
       "  <thead>\n",
       "    <tr style=\"text-align: right;\">\n",
       "      <th></th>\n",
       "      <th>Parametros</th>\n",
       "      <th>Recall</th>\n",
       "    </tr>\n",
       "  </thead>\n",
       "  <tbody>\n",
       "    <tr>\n",
       "      <td>KNeighborsClassifier - Datos: bordSmote</td>\n",
       "      <td>{'algorithm': 'auto', 'n_neighbors': 1, 'weigh...</td>\n",
       "      <td>0.801667</td>\n",
       "    </tr>\n",
       "    <tr>\n",
       "      <td>KNeighborsClassifier - Datos: svmSmote</td>\n",
       "      <td>{'algorithm': 'auto', 'n_neighbors': 1, 'weigh...</td>\n",
       "      <td>0.773333</td>\n",
       "    </tr>\n",
       "    <tr>\n",
       "      <td>KNeighborsClassifier - Datos: adasyn</td>\n",
       "      <td>{'algorithm': 'auto', 'n_neighbors': 1, 'weigh...</td>\n",
       "      <td>0.712500</td>\n",
       "    </tr>\n",
       "    <tr>\n",
       "      <td>KNeighborsClassifier - Datos: smote</td>\n",
       "      <td>{'algorithm': 'auto', 'n_neighbors': 10, 'weig...</td>\n",
       "      <td>0.435595</td>\n",
       "    </tr>\n",
       "    <tr>\n",
       "      <td>DecisionTreeClassifier - Datos: smote</td>\n",
       "      <td>{'criterion': 'entropy', 'splitter': 'random'}</td>\n",
       "      <td>0.562500</td>\n",
       "    </tr>\n",
       "    <tr>\n",
       "      <td>DecisionTreeClassifier - Datos: bordSmote</td>\n",
       "      <td>{'criterion': 'gini', 'splitter': 'best'}</td>\n",
       "      <td>0.756667</td>\n",
       "    </tr>\n",
       "    <tr>\n",
       "      <td>DecisionTreeClassifier - Datos: svmSmote</td>\n",
       "      <td>{'criterion': 'gini', 'splitter': 'best'}</td>\n",
       "      <td>0.738333</td>\n",
       "    </tr>\n",
       "    <tr>\n",
       "      <td>DecisionTreeClassifier - Datos: adasyn</td>\n",
       "      <td>{'criterion': 'entropy', 'splitter': 'best'}</td>\n",
       "      <td>0.680000</td>\n",
       "    </tr>\n",
       "    <tr>\n",
       "      <td>RandomForestClassifier - Datos: smote</td>\n",
       "      <td>{'criterion': 'entropy', 'max_features': 'auto'}</td>\n",
       "      <td>0.540595</td>\n",
       "    </tr>\n",
       "    <tr>\n",
       "      <td>RandomForestClassifier - Datos: bordSmote</td>\n",
       "      <td>{'criterion': 'entropy', 'max_features': 'auto'}</td>\n",
       "      <td>0.773333</td>\n",
       "    </tr>\n",
       "    <tr>\n",
       "      <td>RandomForestClassifier - Datos: svmSmote</td>\n",
       "      <td>{'criterion': 'gini', 'max_features': 'sqrt'}</td>\n",
       "      <td>0.783333</td>\n",
       "    </tr>\n",
       "    <tr>\n",
       "      <td>RandomForestClassifier - Datos: adasyn</td>\n",
       "      <td>{'criterion': 'entropy', 'max_features': 'log2'}</td>\n",
       "      <td>0.734167</td>\n",
       "    </tr>\n",
       "  </tbody>\n",
       "</table>\n",
       "</div>"
      ],
      "text/plain": [
       "                                                                                  Parametros  \\\n",
       "KNeighborsClassifier - Datos: bordSmote    {'algorithm': 'auto', 'n_neighbors': 1, 'weigh...   \n",
       "KNeighborsClassifier - Datos: svmSmote     {'algorithm': 'auto', 'n_neighbors': 1, 'weigh...   \n",
       "KNeighborsClassifier - Datos: adasyn       {'algorithm': 'auto', 'n_neighbors': 1, 'weigh...   \n",
       "KNeighborsClassifier - Datos: smote        {'algorithm': 'auto', 'n_neighbors': 10, 'weig...   \n",
       "DecisionTreeClassifier - Datos: smote         {'criterion': 'entropy', 'splitter': 'random'}   \n",
       "DecisionTreeClassifier - Datos: bordSmote          {'criterion': 'gini', 'splitter': 'best'}   \n",
       "DecisionTreeClassifier - Datos: svmSmote           {'criterion': 'gini', 'splitter': 'best'}   \n",
       "DecisionTreeClassifier - Datos: adasyn          {'criterion': 'entropy', 'splitter': 'best'}   \n",
       "RandomForestClassifier - Datos: smote       {'criterion': 'entropy', 'max_features': 'auto'}   \n",
       "RandomForestClassifier - Datos: bordSmote   {'criterion': 'entropy', 'max_features': 'auto'}   \n",
       "RandomForestClassifier - Datos: svmSmote       {'criterion': 'gini', 'max_features': 'sqrt'}   \n",
       "RandomForestClassifier - Datos: adasyn      {'criterion': 'entropy', 'max_features': 'log2'}   \n",
       "\n",
       "                                             Recall  \n",
       "KNeighborsClassifier - Datos: bordSmote    0.801667  \n",
       "KNeighborsClassifier - Datos: svmSmote     0.773333  \n",
       "KNeighborsClassifier - Datos: adasyn       0.712500  \n",
       "KNeighborsClassifier - Datos: smote        0.435595  \n",
       "DecisionTreeClassifier - Datos: smote      0.562500  \n",
       "DecisionTreeClassifier - Datos: bordSmote  0.756667  \n",
       "DecisionTreeClassifier - Datos: svmSmote   0.738333  \n",
       "DecisionTreeClassifier - Datos: adasyn     0.680000  \n",
       "RandomForestClassifier - Datos: smote      0.540595  \n",
       "RandomForestClassifier - Datos: bordSmote  0.773333  \n",
       "RandomForestClassifier - Datos: svmSmote   0.783333  \n",
       "RandomForestClassifier - Datos: adasyn     0.734167  "
      ]
     },
     "execution_count": 230,
     "metadata": {},
     "output_type": "execute_result"
    }
   ],
   "source": [
    "parametros= {\"criterion\":[\"gini\", 'entropy'], \"max_features\":['auto', 'sqrt', 'log2'] }\n",
    "\n",
    "evalua_modelos(parametros,RandomForestClassifier(),\"RandomForestClassifier\", train_data, dt, RESULTADOS)\n",
    "RESULTADOS"
   ]
  },
  {
   "cell_type": "markdown",
   "metadata": {},
   "source": [
    "### Logistic Regresion (for multiclass)"
   ]
  },
  {
   "cell_type": "code",
   "execution_count": null,
   "metadata": {},
   "outputs": [],
   "source": []
  },
  {
   "cell_type": "code",
   "execution_count": null,
   "metadata": {},
   "outputs": [],
   "source": []
  },
  {
   "cell_type": "code",
   "execution_count": null,
   "metadata": {},
   "outputs": [],
   "source": []
  },
  {
   "cell_type": "code",
   "execution_count": null,
   "metadata": {},
   "outputs": [],
   "source": []
  },
  {
   "cell_type": "code",
   "execution_count": null,
   "metadata": {},
   "outputs": [],
   "source": []
  },
  {
   "cell_type": "code",
   "execution_count": null,
   "metadata": {},
   "outputs": [],
   "source": []
  },
  {
   "cell_type": "code",
   "execution_count": null,
   "metadata": {},
   "outputs": [],
   "source": []
  },
  {
   "cell_type": "code",
   "execution_count": null,
   "metadata": {},
   "outputs": [],
   "source": []
  },
  {
   "cell_type": "code",
   "execution_count": 30,
   "metadata": {},
   "outputs": [],
   "source": [
    "#varios score!!!!!!\n",
    "from sklearn.metrics import make_scorer, accuracy_score,precision_score,recall_score,f1_score\n",
    "from sklearn.model_selection import cross_validate\n",
    "\n",
    "scorings = ['accuracy', 'f1_micro', \"recall_micro\", \"precision_micro\"]\n"
   ]
  },
  {
   "cell_type": "code",
   "execution_count": 40,
   "metadata": {},
   "outputs": [],
   "source": [
    "from time import time\n",
    "from sklearn.metrics import classification_report #LIBRERÍA QUE TE HACE REPORT!!\n",
    "from sklearn.model_selection import train_test_split, cross_val_predict, cross_val_score\n",
    "def evaluacion_modelos(clas, train_data, scorings):\n",
    "    inicio= time()\n",
    "    score=[]\n",
    "    for i in scorings:\n",
    "        y_pred= cross_val_score(clas, train_data[0], train_data[1], scoring=i)\n",
    "        score.append({i:np.mean(y_pred)})\n",
    "\n",
    "    print(score)\n",
    "    "
   ]
  },
  {
   "cell_type": "code",
   "execution_count": 41,
   "metadata": {},
   "outputs": [
    {
     "name": "stdout",
     "output_type": "stream",
     "text": [
      "[{'accuracy': 0.5578947368421053}, {'f1_micro': 0.5578947368421053}, {'recall_micro': 0.5578947368421053}, {'precision_micro': 0.5578947368421053}]\n"
     ]
    }
   ],
   "source": [
    "from sklearn.neighbors import KNeighborsClassifier\n",
    "evaluacion_modelos(KNeighborsClassifier(), [X_ada,y_ada], scorings)"
   ]
  },
  {
   "cell_type": "code",
   "execution_count": 104,
   "metadata": {},
   "outputs": [
    {
     "name": "stdout",
     "output_type": "stream",
     "text": [
      "              precision    recall  f1-score   support\n",
      "\n",
      "     Control       0.70      0.92      0.79        25\n",
      "     IUGR_PE       0.48      0.84      0.61        25\n",
      "        IUGR       0.67      0.32      0.43        25\n",
      "          PE       0.64      0.28      0.39        25\n",
      "\n",
      "    accuracy                           0.59       100\n",
      "   macro avg       0.62      0.59      0.56       100\n",
      "weighted avg       0.62      0.59      0.56       100\n",
      "\n"
     ]
    }
   ],
   "source": [
    "from sklearn.neighbors import KNeighborsClassifier\n",
    "evaluacion_modelos(KNeighborsClassifier(), [X_sm,y_sm])"
   ]
  },
  {
   "cell_type": "code",
   "execution_count": 133,
   "metadata": {},
   "outputs": [
    {
     "data": {
      "text/plain": [
       "<matplotlib.axes._subplots.AxesSubplot at 0x173c6c88248>"
      ]
     },
     "execution_count": 133,
     "metadata": {},
     "output_type": "execute_result"
    },
    {
     "data": {
      "image/png": "[encoded data removed]",
      "text/plain": [
       "<Figure size 432x288 with 1 Axes>"
      ]
     },
     "metadata": {
      "needs_background": "light"
     },
     "output_type": "display_data"
    }
   ],
   "source": [
    "y_sm.hist()"
   ]
  },
  {
   "cell_type": "code",
   "execution_count": 37,
   "metadata": {},
   "outputs": [
    {
     "data": {
      "text/html": [
       "<div>\n",
       "<style scoped>\n",
       "    .dataframe tbody tr th:only-of-type {\n",
       "        vertical-align: middle;\n",
       "    }\n",
       "\n",
       "    .dataframe tbody tr th {\n",
       "        vertical-align: top;\n",
       "    }\n",
       "\n",
       "    .dataframe thead th {\n",
       "        text-align: right;\n",
       "    }\n",
       "</style>\n",
       "<table border=\"1\" class=\"dataframe\">\n",
       "  <thead>\n",
       "    <tr style=\"text-align: right;\">\n",
       "      <th></th>\n",
       "      <th>Tarea</th>\n",
       "      <th>Resultado</th>\n",
       "      <th>Tiempo</th>\n",
       "    </tr>\n",
       "  </thead>\n",
       "  <tbody>\n",
       "  </tbody>\n",
       "</table>\n",
       "</div>"
      ],
      "text/plain": [
       "Empty DataFrame\n",
       "Columns: [Tarea, Resultado, Tiempo]\n",
       "Index: []"
      ]
     },
     "execution_count": 37,
     "metadata": {},
     "output_type": "execute_result"
    }
   ],
   "source": [
    "from sklearn.tree import DecisionTreeClassifier\n",
    "RESULTADOS = pd.DataFrame(columns=['Tarea', 'Resultado', 'Tiempo'])\n",
    "RESULTADOS"
   ]
  },
  {
   "cell_type": "markdown",
   "metadata": {},
   "source": [
    "**ÁRBOL DE DECISIÓN** --> para visualizarlo: https://www.kaggle.com/prashant111/decision-tree-classifier-tutorial#16.-Classification-Report-"
   ]
  },
  {
   "cell_type": "code",
   "execution_count": 158,
   "metadata": {},
   "outputs": [],
   "source": [
    "from sklearn.tree import DecisionTreeClassifier\n",
    "from sklearn.preprocessing import LabelEncoder"
   ]
  },
  {
   "cell_type": "code",
   "execution_count": 189,
   "metadata": {},
   "outputs": [],
   "source": [
    "X = data.drop('class', axis=1)\n",
    "y= data['class']\n"
   ]
  },
  {
   "cell_type": "code",
   "execution_count": 207,
   "metadata": {},
   "outputs": [],
   "source": [
    "X = data.drop(['class', \"class2\"], axis=1)\n",
    "y= data['class2']"
   ]
  },
  {
   "cell_type": "code",
   "execution_count": 147,
   "metadata": {},
   "outputs": [
    {
     "name": "stdout",
     "output_type": "stream",
     "text": [
      "{'algorithm': 'auto', 'n_neighbors': 1, 'weights': 'uniform'}\n",
      "[{'algorithm': 'auto', 'n_neighbors': 1, 'weights': 'uniform'}, {'algorithm': 'auto', 'n_neighbors': 1, 'weights': 'distance'}, {'algorithm': 'auto', 'n_neighbors': 2, 'weights': 'uniform'}, {'algorithm': 'auto', 'n_neighbors': 2, 'weights': 'distance'}, {'algorithm': 'auto', 'n_neighbors': 3, 'weights': 'uniform'}, {'algorithm': 'auto', 'n_neighbors': 3, 'weights': 'distance'}, {'algorithm': 'auto', 'n_neighbors': 4, 'weights': 'uniform'}, {'algorithm': 'auto', 'n_neighbors': 4, 'weights': 'distance'}, {'algorithm': 'auto', 'n_neighbors': 5, 'weights': 'uniform'}, {'algorithm': 'auto', 'n_neighbors': 5, 'weights': 'distance'}, {'algorithm': 'auto', 'n_neighbors': 6, 'weights': 'uniform'}, {'algorithm': 'auto', 'n_neighbors': 6, 'weights': 'distance'}, {'algorithm': 'auto', 'n_neighbors': 7, 'weights': 'uniform'}, {'algorithm': 'auto', 'n_neighbors': 7, 'weights': 'distance'}, {'algorithm': 'auto', 'n_neighbors': 8, 'weights': 'uniform'}, {'algorithm': 'auto', 'n_neighbors': 8, 'weights': 'distance'}, {'algorithm': 'auto', 'n_neighbors': 9, 'weights': 'uniform'}, {'algorithm': 'auto', 'n_neighbors': 9, 'weights': 'distance'}, {'algorithm': 'auto', 'n_neighbors': 10, 'weights': 'uniform'}, {'algorithm': 'auto', 'n_neighbors': 10, 'weights': 'distance'}, {'algorithm': 'ball_tree', 'n_neighbors': 1, 'weights': 'uniform'}, {'algorithm': 'ball_tree', 'n_neighbors': 1, 'weights': 'distance'}, {'algorithm': 'ball_tree', 'n_neighbors': 2, 'weights': 'uniform'}, {'algorithm': 'ball_tree', 'n_neighbors': 2, 'weights': 'distance'}, {'algorithm': 'ball_tree', 'n_neighbors': 3, 'weights': 'uniform'}, {'algorithm': 'ball_tree', 'n_neighbors': 3, 'weights': 'distance'}, {'algorithm': 'ball_tree', 'n_neighbors': 4, 'weights': 'uniform'}, {'algorithm': 'ball_tree', 'n_neighbors': 4, 'weights': 'distance'}, {'algorithm': 'ball_tree', 'n_neighbors': 5, 'weights': 'uniform'}, {'algorithm': 'ball_tree', 'n_neighbors': 5, 'weights': 'distance'}, {'algorithm': 'ball_tree', 'n_neighbors': 6, 'weights': 'uniform'}, {'algorithm': 'ball_tree', 'n_neighbors': 6, 'weights': 'distance'}, {'algorithm': 'ball_tree', 'n_neighbors': 7, 'weights': 'uniform'}, {'algorithm': 'ball_tree', 'n_neighbors': 7, 'weights': 'distance'}, {'algorithm': 'ball_tree', 'n_neighbors': 8, 'weights': 'uniform'}, {'algorithm': 'ball_tree', 'n_neighbors': 8, 'weights': 'distance'}, {'algorithm': 'ball_tree', 'n_neighbors': 9, 'weights': 'uniform'}, {'algorithm': 'ball_tree', 'n_neighbors': 9, 'weights': 'distance'}, {'algorithm': 'ball_tree', 'n_neighbors': 10, 'weights': 'uniform'}, {'algorithm': 'ball_tree', 'n_neighbors': 10, 'weights': 'distance'}, {'algorithm': 'kd_tree', 'n_neighbors': 1, 'weights': 'uniform'}, {'algorithm': 'kd_tree', 'n_neighbors': 1, 'weights': 'distance'}, {'algorithm': 'kd_tree', 'n_neighbors': 2, 'weights': 'uniform'}, {'algorithm': 'kd_tree', 'n_neighbors': 2, 'weights': 'distance'}, {'algorithm': 'kd_tree', 'n_neighbors': 3, 'weights': 'uniform'}, {'algorithm': 'kd_tree', 'n_neighbors': 3, 'weights': 'distance'}, {'algorithm': 'kd_tree', 'n_neighbors': 4, 'weights': 'uniform'}, {'algorithm': 'kd_tree', 'n_neighbors': 4, 'weights': 'distance'}, {'algorithm': 'kd_tree', 'n_neighbors': 5, 'weights': 'uniform'}, {'algorithm': 'kd_tree', 'n_neighbors': 5, 'weights': 'distance'}, {'algorithm': 'kd_tree', 'n_neighbors': 6, 'weights': 'uniform'}, {'algorithm': 'kd_tree', 'n_neighbors': 6, 'weights': 'distance'}, {'algorithm': 'kd_tree', 'n_neighbors': 7, 'weights': 'uniform'}, {'algorithm': 'kd_tree', 'n_neighbors': 7, 'weights': 'distance'}, {'algorithm': 'kd_tree', 'n_neighbors': 8, 'weights': 'uniform'}, {'algorithm': 'kd_tree', 'n_neighbors': 8, 'weights': 'distance'}, {'algorithm': 'kd_tree', 'n_neighbors': 9, 'weights': 'uniform'}, {'algorithm': 'kd_tree', 'n_neighbors': 9, 'weights': 'distance'}, {'algorithm': 'kd_tree', 'n_neighbors': 10, 'weights': 'uniform'}, {'algorithm': 'kd_tree', 'n_neighbors': 10, 'weights': 'distance'}, {'algorithm': 'brute', 'n_neighbors': 1, 'weights': 'uniform'}, {'algorithm': 'brute', 'n_neighbors': 1, 'weights': 'distance'}, {'algorithm': 'brute', 'n_neighbors': 2, 'weights': 'uniform'}, {'algorithm': 'brute', 'n_neighbors': 2, 'weights': 'distance'}, {'algorithm': 'brute', 'n_neighbors': 3, 'weights': 'uniform'}, {'algorithm': 'brute', 'n_neighbors': 3, 'weights': 'distance'}, {'algorithm': 'brute', 'n_neighbors': 4, 'weights': 'uniform'}, {'algorithm': 'brute', 'n_neighbors': 4, 'weights': 'distance'}, {'algorithm': 'brute', 'n_neighbors': 5, 'weights': 'uniform'}, {'algorithm': 'brute', 'n_neighbors': 5, 'weights': 'distance'}, {'algorithm': 'brute', 'n_neighbors': 6, 'weights': 'uniform'}, {'algorithm': 'brute', 'n_neighbors': 6, 'weights': 'distance'}, {'algorithm': 'brute', 'n_neighbors': 7, 'weights': 'uniform'}, {'algorithm': 'brute', 'n_neighbors': 7, 'weights': 'distance'}, {'algorithm': 'brute', 'n_neighbors': 8, 'weights': 'uniform'}, {'algorithm': 'brute', 'n_neighbors': 8, 'weights': 'distance'}, {'algorithm': 'brute', 'n_neighbors': 9, 'weights': 'uniform'}, {'algorithm': 'brute', 'n_neighbors': 9, 'weights': 'distance'}, {'algorithm': 'brute', 'n_neighbors': 10, 'weights': 'uniform'}, {'algorithm': 'brute', 'n_neighbors': 10, 'weights': 'distance'}]\n",
      "KNeighborsClassifier(n_neighbors=1)\n"
     ]
    },
    {
     "data": {
      "text/html": [
       "<div>\n",
       "<style scoped>\n",
       "    .dataframe tbody tr th:only-of-type {\n",
       "        vertical-align: middle;\n",
       "    }\n",
       "\n",
       "    .dataframe tbody tr th {\n",
       "        vertical-align: top;\n",
       "    }\n",
       "\n",
       "    .dataframe thead th {\n",
       "        text-align: right;\n",
       "    }\n",
       "</style>\n",
       "<table border=\"1\" class=\"dataframe\">\n",
       "  <thead>\n",
       "    <tr style=\"text-align: right;\">\n",
       "      <th></th>\n",
       "      <th>Tarea</th>\n",
       "      <th>Resultado</th>\n",
       "      <th>Tiempo</th>\n",
       "    </tr>\n",
       "  </thead>\n",
       "  <tbody>\n",
       "    <tr>\n",
       "      <td>7</td>\n",
       "      <td>knn</td>\n",
       "      <td>0.794862</td>\n",
       "      <td>2.62446</td>\n",
       "    </tr>\n",
       "    <tr>\n",
       "      <td>8</td>\n",
       "      <td>8</td>\n",
       "      <td>0.801667</td>\n",
       "      <td>2.47500</td>\n",
       "    </tr>\n",
       "  </tbody>\n",
       "</table>\n",
       "</div>"
      ],
      "text/plain": [
       "  Tarea  Resultado   Tiempo\n",
       "7   knn   0.794862  2.62446\n",
       "8     8   0.801667  2.47500"
      ]
     },
     "execution_count": 147,
     "metadata": {},
     "output_type": "execute_result"
    }
   ],
   "source": [
    " \n",
    "from time import time\n",
    "from sklearn.model_selection import GridSearchCV\n",
    "inicio=time()\n",
    "\n",
    "parametros= {\"n_neighbors\":[1,2,3,4,5,6,7,8,9,10], \"weights\":['uniform', 'distance'], \n",
    "\"algorithm\": ['auto', 'ball_tree', 'kd_tree', 'brute'] }\n",
    "\n",
    "clasificador= KNeighborsClassifier()\n",
    "grid= GridSearchCV(clasificador, parametros, scoring= \"recall_macro\")\n",
    "\n",
    "grid.fit(X_sm, y_sm)\n",
    "\n",
    "RESULTADOS.loc['8']= ('8', grid.best_score_, time()-inicio)\n",
    "\n",
    "print(grid.best_params_)\n",
    "print(grid.cv_results_['params'])\n",
    "print(grid.best_estimator_)\n",
    "RESULTADOS"
   ]
  },
  {
   "cell_type": "code",
   "execution_count": 78,
   "metadata": {},
   "outputs": [
    {
     "data": {
      "text/plain": [
       "'              precision    recall  f1-score   support\\n\\n     Control       0.66      0.89      0.76        28\\n        IUGR       0.53      0.82      0.65        28\\n     IUGR_PE       0.56      0.18      0.27        28\\n          PE       0.55      0.43      0.48        28\\n\\n    accuracy                           0.58       112\\n   macro avg       0.57      0.58      0.54       112\\nweighted avg       0.57      0.58      0.54       112\\n'"
      ]
     },
     "execution_count": 78,
     "metadata": {},
     "output_type": "execute_result"
    }
   ],
   "source": [
    "from imblearn.pipeline import Pipeline\n",
    "from sklearn.metrics import classification_report #LIBRERÍA QUE TE HACE REPORT!!\n",
    "\n",
    "classification_report(y_sm, y_pred)"
   ]
  },
  {
   "cell_type": "code",
   "execution_count": 137,
   "metadata": {},
   "outputs": [
    {
     "name": "stdout",
     "output_type": "stream",
     "text": [
      "              precision    recall  f1-score   support\n",
      "\n",
      "     Control    0.65789   0.89286   0.75758        28\n",
      "        IUGR    0.53488   0.82143   0.64789        28\n",
      "     IUGR_PE    0.55556   0.17857   0.27027        28\n",
      "          PE    0.54545   0.42857   0.48000        28\n",
      "\n",
      "    accuracy                        0.58036       112\n",
      "   macro avg    0.57345   0.58036   0.53893       112\n",
      "weighted avg    0.57345   0.58036   0.53893       112\n",
      "\n"
     ]
    }
   ],
   "source": [
    "print(metrics.classification_report(y_sm, y_pred, digits=5))"
   ]
  },
  {
   "cell_type": "code",
   "execution_count": 154,
   "metadata": {},
   "outputs": [],
   "source": [
    "clas= KNeighborsClassifier(algorithm=\"auto\", n_neighbors= 1, weights= 'uniform')\n",
    "\n",
    "\n",
    "y_pred =cross_val_predict(clas,X_sm,y_sm)\n",
    "\n",
    "a=metrics.classification_report(y_sm, y_pred, digits=16,output_dict= True)"
   ]
  },
  {
   "cell_type": "code",
   "execution_count": 155,
   "metadata": {},
   "outputs": [],
   "source": [
    "df = pd.DataFrame(a).transpose()"
   ]
  },
  {
   "cell_type": "code",
   "execution_count": 156,
   "metadata": {},
   "outputs": [
    {
     "data": {
      "text/plain": [
       "precision    0.796016\n",
       "recall       0.794643\n",
       "f1-score     0.791526\n",
       "dtype: float64"
      ]
     },
     "execution_count": 156,
     "metadata": {},
     "output_type": "execute_result"
    }
   ],
   "source": [
    "df=df.drop(\"support\", axis=1)\n",
    "df=df.drop(df.index[[5,6]])\n",
    "df.mean()"
   ]
  },
  {
   "cell_type": "code",
   "execution_count": 146,
   "metadata": {},
   "outputs": [
    {
     "data": {
      "text/plain": [
       "0.5803571428571429"
      ]
     },
     "execution_count": 146,
     "metadata": {},
     "output_type": "execute_result"
    }
   ],
   "source": [
    "metrics.recall_score(y_sm,y_pred, average=\"macro\")"
   ]
  },
  {
   "cell_type": "code",
   "execution_count": null,
   "metadata": {},
   "outputs": [],
   "source": []
  },
  {
   "cell_type": "code",
   "execution_count": 154,
   "metadata": {},
   "outputs": [
    {
     "name": "stdout",
     "output_type": "stream",
     "text": [
      "{}\n",
      "[{}]\n",
      "DecisionTreeClassifier()\n"
     ]
    }
   ],
   "source": [
    "inicio=time()\n",
    "X = data.drop('class', axis=1)\n",
    "y= data['class']\n",
    "parametros= {}\n",
    "\n",
    "clasificador= DecisionTreeClassifier()\n",
    "\n",
    "clasificador.fit(X,y)\n",
    "\n",
    "RESULTADOS.loc['Relog-c']= ('Clasificación', grid.best_score_, time()-inicio)\n",
    "\n",
    "print(grid.best_params_)\n",
    "print(grid.cv_results_['params'])\n",
    "print(grid.best_estimator_)"
   ]
  },
  {
   "cell_type": "code",
   "execution_count": 155,
   "metadata": {},
   "outputs": [
    {
     "data": {
      "text/html": [
       "<div>\n",
       "<style scoped>\n",
       "    .dataframe tbody tr th:only-of-type {\n",
       "        vertical-align: middle;\n",
       "    }\n",
       "\n",
       "    .dataframe tbody tr th {\n",
       "        vertical-align: top;\n",
       "    }\n",
       "\n",
       "    .dataframe thead th {\n",
       "        text-align: right;\n",
       "    }\n",
       "</style>\n",
       "<table border=\"1\" class=\"dataframe\">\n",
       "  <thead>\n",
       "    <tr style=\"text-align: right;\">\n",
       "      <th></th>\n",
       "      <th>Tarea</th>\n",
       "      <th>Resultado</th>\n",
       "      <th>Tiempo</th>\n",
       "    </tr>\n",
       "  </thead>\n",
       "  <tbody>\n",
       "    <tr>\n",
       "      <td>Relog-c</td>\n",
       "      <td>Clasificación</td>\n",
       "      <td>0.547368</td>\n",
       "      <td>0.004</td>\n",
       "    </tr>\n",
       "  </tbody>\n",
       "</table>\n",
       "</div>"
      ],
      "text/plain": [
       "                 Tarea  Resultado  Tiempo\n",
       "Relog-c  Clasificación   0.547368   0.004"
      ]
     },
     "execution_count": 155,
     "metadata": {},
     "output_type": "execute_result"
    }
   ],
   "source": [
    "RESULTADOS"
   ]
  },
  {
   "cell_type": "code",
   "execution_count": 135,
   "metadata": {},
   "outputs": [
    {
     "name": "stdout",
     "output_type": "stream",
     "text": [
      "Fitting 5 folds for each of 14 candidates, totalling 70 fits\n",
      "{'C': 0.1, 'penalty': 'l2'}\n",
      "[{'C': 0.001, 'penalty': 'l1'}, {'C': 0.001, 'penalty': 'l2'}, {'C': 0.01, 'penalty': 'l1'}, {'C': 0.01, 'penalty': 'l2'}, {'C': 0.1, 'penalty': 'l1'}, {'C': 0.1, 'penalty': 'l2'}, {'C': 1, 'penalty': 'l1'}, {'C': 1, 'penalty': 'l2'}, {'C': 10, 'penalty': 'l1'}, {'C': 10, 'penalty': 'l2'}, {'C': 10, 'penalty': 'l1'}, {'C': 10, 'penalty': 'l2'}, {'C': 100, 'penalty': 'l1'}, {'C': 100, 'penalty': 'l2'}]\n",
      "LogisticRegression(C=0.1, solver='liblinear')\n"
     ]
    }
   ],
   "source": [
    "inicio =time()\n",
    "parametros = {'C':[0.001,0.01, 0.1, 1, 10, 10, 100], 'penalty':['l1','l2']}\n",
    "\n",
    "clasificador= LogisticRegression(solver='liblinear')\n",
    "grid= GridSearchCV(clasificador, parametros, cv=5, verbose=1, n_jobs=-1)\n",
    "grid.fit(X,y)\n",
    "\n",
    "RESULTADOS.loc['Relog-c-penalty']= ('Clasificación', grid.best_score_, time()-inicio)\n",
    "\n",
    "print(grid.best_params_)\n",
    "print(grid.cv_results_['params'])\n",
    "print(grid.best_estimator_)"
   ]
  },
  {
   "cell_type": "code",
   "execution_count": 60,
   "metadata": {},
   "outputs": [
    {
     "data": {
      "text/html": [
       "<div>\n",
       "<style scoped>\n",
       "    .dataframe tbody tr th:only-of-type {\n",
       "        vertical-align: middle;\n",
       "    }\n",
       "\n",
       "    .dataframe tbody tr th {\n",
       "        vertical-align: top;\n",
       "    }\n",
       "\n",
       "    .dataframe thead th {\n",
       "        text-align: right;\n",
       "    }\n",
       "</style>\n",
       "<table border=\"1\" class=\"dataframe\">\n",
       "  <thead>\n",
       "    <tr style=\"text-align: right;\">\n",
       "      <th></th>\n",
       "      <th>ACCURACY</th>\n",
       "      <th>F1</th>\n",
       "      <th>ROC-AUC</th>\n",
       "      <th>TIEMPO</th>\n",
       "    </tr>\n",
       "  </thead>\n",
       "  <tbody>\n",
       "  </tbody>\n",
       "</table>\n",
       "</div>"
      ],
      "text/plain": [
       "Empty DataFrame\n",
       "Columns: [ACCURACY, F1, ROC-AUC, TIEMPO]\n",
       "Index: []"
      ]
     },
     "execution_count": 60,
     "metadata": {},
     "output_type": "execute_result"
    }
   ],
   "source": [
    "RESULTADOS = pd.DataFrame(columns=['ACCURACY', 'F1', 'ROC-AUC', 'TIEMPO'])\n",
    "RESULTADOS"
   ]
  },
  {
   "cell_type": "code",
   "execution_count": 79,
   "metadata": {},
   "outputs": [],
   "source": [
    "def clasificador(clasificador, data, clase ):\n",
    "    X = data.drop(clase, axis=1)\n",
    "    y = data[clase]\n",
    "    clasificador.fit(X, y)\n",
    "    \n",
    "    y_pred= cross_val_predict(clasificador, X, y, cv=10)\n",
    "    return y_pred"
   ]
  },
  {
   "cell_type": "code",
   "execution_count": 81,
   "metadata": {},
   "outputs": [
    {
     "data": {
      "text/plain": [
       "<matplotlib.axes._subplots.AxesSubplot at 0x1d1f247db88>"
      ]
     },
     "execution_count": 81,
     "metadata": {},
     "output_type": "execute_result"
    },
    {
     "data": {
      "image/png": "[encoded data removed]",
      "text/plain": [
       "<Figure size 432x288 with 2 Axes>"
      ]
     },
     "metadata": {
      "needs_background": "light"
     },
     "output_type": "display_data"
    }
   ],
   "source": [
    "from sklearn.linear_model import LogisticRegression\n",
    "from sklearn.model_selection import train_test_split, cross_val_predict, cross_val_score, learning_curve\n",
    "clas1= LogisticRegression()\n",
    "y_pred=clasificador(clas1, data, 'class' )\n",
    "\n",
    "from sklearn.metrics import confusion_matrix\n",
    "\n",
    "c_matrix = confusion_matrix(data['class'], y_pred)\n",
    "\n",
    "sns.heatmap(c_matrix, annot=True, fmt='d', cmap='Reds')"
   ]
  },
  {
   "cell_type": "code",
   "execution_count": 201,
   "metadata": {},
   "outputs": [],
   "source": [
    "data[\"class2\"]= data['class'].map({'Control': 0, 'IUGR_PE': 1, 'IUGR': 1, 'PE': 1})"
   ]
  },
  {
   "cell_type": "code",
   "execution_count": 200,
   "metadata": {},
   "outputs": [
    {
     "data": {
      "text/plain": [
       "array(['Control', 'IUGR_PE', 'IUGR', 'PE'], dtype=object)"
      ]
     },
     "execution_count": 200,
     "metadata": {},
     "output_type": "execute_result"
    }
   ],
   "source": [
    "data['class'].unique()"
   ]
  },
  {
   "cell_type": "code",
   "execution_count": 204,
   "metadata": {},
   "outputs": [
    {
     "data": {
      "text/plain": [
       "<matplotlib.axes._subplots.AxesSubplot at 0x1d1f30bf708>"
      ]
     },
     "execution_count": 204,
     "metadata": {},
     "output_type": "execute_result"
    },
    {
     "data": {
      "image/png": "[encoded data removed]",
      "text/plain": [
       "<Figure size 432x288 with 1 Axes>"
      ]
     },
     "metadata": {
      "needs_background": "light"
     },
     "output_type": "display_data"
    }
   ],
   "source": [
    "data[\"class2\"].hist()"
   ]
  },
  {
   "cell_type": "code",
   "execution_count": 107,
   "metadata": {},
   "outputs": [],
   "source": [
    "\n",
    "from sklearn import linear_model\n",
    "from sklearn import model_selection\n",
    "from sklearn.metrics import classification_report\n",
    "from sklearn.metrics import confusion_matrix\n",
    "from sklearn.metrics import accuracy_score\n",
    "\n",
    "%matplotlib inline"
   ]
  },
  {
   "cell_type": "code",
   "execution_count": null,
   "metadata": {},
   "outputs": [],
   "source": []
  },
  {
   "cell_type": "code",
   "execution_count": null,
   "metadata": {},
   "outputs": [],
   "source": []
  },
  {
   "cell_type": "markdown",
   "metadata": {},
   "source": [
    "Algoritmos que voy a utilizar\n",
    "* Regresión logística extendida\n",
    "* Arboles de decisión\n",
    "* Randowm Forest -> ver explicabilidad\n",
    "* SVM\n",
    "* KNN"
   ]
  },
  {
   "cell_type": "markdown",
   "metadata": {},
   "source": [
    "https://medium.com/datos-y-ciencia/aprendizaje-supervisado-introducci%C3%B3n-a-la-clasificaci%C3%B3n-y-principales-algoritmos-dadee99c9407"
   ]
  },
  {
   "cell_type": "markdown",
   "metadata": {},
   "source": [
    "## 4. Matriz de Correlación"
   ]
  },
  {
   "cell_type": "code",
   "execution_count": 21,
   "metadata": {},
   "outputs": [
    {
     "data": {
      "image/png": "[encoded data removed]",
      "text/plain": [
       "<Figure size 720x720 with 2 Axes>"
      ]
     },
     "metadata": {
      "needs_background": "light"
     },
     "output_type": "display_data"
    }
   ],
   "source": [
    "fig, ax = plt.subplots(figsize=(10, 10))# plot heatmap\n",
    "corr = data.corr()\n",
    "graph=sns.heatmap(corr, cmap=\"Blues\", linewidth=3, square= True,cbar_kws={\"shrink\": .8})\n",
    "\n",
    "title = 'Matriz de correlación\\n'\n",
    "bottom, top = graph.get_ylim()\n",
    "ax.set_ylim(bottom + 0.5, top - 0.5)\n",
    "plt.title(title, fontsize=18)\n",
    "plt.show()"
   ]
  },
  {
   "cell_type": "code",
   "execution_count": 22,
   "metadata": {},
   "outputs": [],
   "source": [
    "corr_matrix = data.corr().abs()\n",
    "\n",
    "#the matrix is symmetric so we need to extract upper triangle matrix without diagonal (k = 1)\n",
    "\n",
    "sol = (corr_matrix.where(np.triu(np.ones(corr_matrix.shape), k=1).astype(np.bool))\n",
    "                  .stack()\n",
    "                  .sort_values(ascending=False))"
   ]
  },
  {
   "cell_type": "code",
   "execution_count": 23,
   "metadata": {},
   "outputs": [
    {
     "data": {
      "text/html": [
       "<div>\n",
       "<style scoped>\n",
       "    .dataframe tbody tr th:only-of-type {\n",
       "        vertical-align: middle;\n",
       "    }\n",
       "\n",
       "    .dataframe tbody tr th {\n",
       "        vertical-align: top;\n",
       "    }\n",
       "\n",
       "    .dataframe thead th {\n",
       "        text-align: right;\n",
       "    }\n",
       "</style>\n",
       "<table border=\"1\" class=\"dataframe\">\n",
       "  <thead>\n",
       "    <tr style=\"text-align: right;\">\n",
       "      <th></th>\n",
       "      <th></th>\n",
       "      <th>Correlación</th>\n",
       "    </tr>\n",
       "  </thead>\n",
       "  <tbody>\n",
       "    <tr>\n",
       "      <td>R-PI</td>\n",
       "      <td>meanPI</td>\n",
       "      <td>0.974681</td>\n",
       "    </tr>\n",
       "    <tr>\n",
       "      <td>L-PI</td>\n",
       "      <td>meanPI</td>\n",
       "      <td>0.971184</td>\n",
       "    </tr>\n",
       "    <tr>\n",
       "      <td>R-RI</td>\n",
       "      <td>meanRI</td>\n",
       "      <td>0.963732</td>\n",
       "    </tr>\n",
       "    <tr>\n",
       "      <td>L-RI</td>\n",
       "      <td>meanRI</td>\n",
       "      <td>0.950348</td>\n",
       "    </tr>\n",
       "    <tr>\n",
       "      <td>weight</td>\n",
       "      <td>BMI</td>\n",
       "      <td>0.927886</td>\n",
       "    </tr>\n",
       "    <tr>\n",
       "      <td>age_delivery</td>\n",
       "      <td>birth_weight</td>\n",
       "      <td>0.911202</td>\n",
       "    </tr>\n",
       "    <tr>\n",
       "      <td>R-PSV</td>\n",
       "      <td>meanPSV</td>\n",
       "      <td>0.896526</td>\n",
       "    </tr>\n",
       "    <tr>\n",
       "      <td>R-PI</td>\n",
       "      <td>L-PI</td>\n",
       "      <td>0.893303</td>\n",
       "    </tr>\n",
       "    <tr>\n",
       "      <td>L-PSV</td>\n",
       "      <td>meanPSV</td>\n",
       "      <td>0.872190</td>\n",
       "    </tr>\n",
       "    <tr>\n",
       "      <td>R-RI</td>\n",
       "      <td>L-RI</td>\n",
       "      <td>0.832834</td>\n",
       "    </tr>\n",
       "    <tr>\n",
       "      <td>meanRI</td>\n",
       "      <td>meanPI</td>\n",
       "      <td>0.830788</td>\n",
       "    </tr>\n",
       "    <tr>\n",
       "      <td>L-PI</td>\n",
       "      <td>meanRI</td>\n",
       "      <td>0.823635</td>\n",
       "    </tr>\n",
       "    <tr>\n",
       "      <td>L-RI</td>\n",
       "      <td>L-PI</td>\n",
       "      <td>0.820391</td>\n",
       "    </tr>\n",
       "    <tr>\n",
       "      <td rowspan=\"2\" valign=\"top\">R-RI</td>\n",
       "      <td>R-PI</td>\n",
       "      <td>0.808331</td>\n",
       "    </tr>\n",
       "    <tr>\n",
       "      <td>meanPI</td>\n",
       "      <td>0.807461</td>\n",
       "    </tr>\n",
       "  </tbody>\n",
       "</table>\n",
       "</div>"
      ],
      "text/plain": [
       "                           Correlación\n",
       "R-PI         meanPI           0.974681\n",
       "L-PI         meanPI           0.971184\n",
       "R-RI         meanRI           0.963732\n",
       "L-RI         meanRI           0.950348\n",
       "weight       BMI              0.927886\n",
       "age_delivery birth_weight     0.911202\n",
       "R-PSV        meanPSV          0.896526\n",
       "R-PI         L-PI             0.893303\n",
       "L-PSV        meanPSV          0.872190\n",
       "R-RI         L-RI             0.832834\n",
       "meanRI       meanPI           0.830788\n",
       "L-PI         meanRI           0.823635\n",
       "L-RI         L-PI             0.820391\n",
       "R-RI         R-PI             0.808331\n",
       "             meanPI           0.807461"
      ]
     },
     "execution_count": 23,
     "metadata": {},
     "output_type": "execute_result"
    }
   ],
   "source": [
    "correlacion = pd.DataFrame(sol, columns=[\"Correlación\"])\n",
    "correlacion.head(15)"
   ]
  },
  {
   "cell_type": "code",
   "execution_count": null,
   "metadata": {},
   "outputs": [],
   "source": [
    "\n",
    "fig, ax = plt.subplots(figsize=(10, 10))# plot heatmap\n",
    "corr = data.corr()\n",
    "graph=sns.heatmap(corr, cmap=\"Blues\", linewidth=3, square= True,cbar_kws={\"shrink\": .8})\n",
    "\n",
    "title = 'Matriz de correlación\\n'\n",
    "bottom, top = graph.get_ylim()\n",
    "ax.set_ylim(bottom + 0.5, top - 0.5)\n",
    "plt.title(title, fontsize=18)\n",
    "plt.show()"
   ]
  },
  {
   "cell_type": "markdown",
   "metadata": {},
   "source": [
    "ELIMINAR COLUMNAS DE GESTATIONAL AGE AT DELIVERY Y WEIGHT!! -> SON DATOS DESPUÉS DE HABER DADO A LUZ!!!"
   ]
  },
  {
   "cell_type": "code",
   "execution_count": 48,
   "metadata": {},
   "outputs": [],
   "source": [
    "from time import time\n",
    "from sklearn.metrics import classification_report #LIBRERÍA QUE TE HACE REPORT!!\n",
    "from sklearn.model_selection import train_test_split, cross_val_predict, cross_val_score\n",
    "def evaluacion_modelos2(clas, train_data):\n",
    "    inicio= time()\n",
    "    score=[]\n",
    "\n",
    "    y_pred= cross_val_predict(clas, train_data[0], train_data[1])\n",
    "       \n",
    "\n",
    "    return y_pred"
   ]
  },
  {
   "cell_type": "code",
   "execution_count": 49,
   "metadata": {},
   "outputs": [],
   "source": [
    "y_pred=evaluacion_modelos2(KNeighborsClassifier(), [X_sm,y_sm])"
   ]
  },
  {
   "cell_type": "code",
   "execution_count": 57,
   "metadata": {},
   "outputs": [],
   "source": [
    "from sklearn.metrics import confusion_matrix\n",
    "\n",
    "c_matrix = confusion_matrix(y_sm, y_pred)"
   ]
  },
  {
   "cell_type": "code",
   "execution_count": 58,
   "metadata": {},
   "outputs": [
    {
     "data": {
      "text/plain": [
       "array([[25,  1,  0,  2],\n",
       "       [ 1, 23,  2,  2],\n",
       "       [ 3, 14,  5,  6],\n",
       "       [ 9,  5,  2, 12]], dtype=int64)"
      ]
     },
     "execution_count": 58,
     "metadata": {},
     "output_type": "execute_result"
    }
   ],
   "source": [
    "c_matrix"
   ]
  },
  {
   "cell_type": "code",
   "execution_count": 76,
   "metadata": {},
   "outputs": [
    {
     "data": {
      "image/png": "[encoded data removed]",
      "text/plain": [
       "<Figure size 576x360 with 2 Axes>"
      ]
     },
     "metadata": {
      "needs_background": "light"
     },
     "output_type": "display_data"
    }
   ],
   "source": [
    "fig, ax = plt.subplots(figsize=(8, 5))# plot heatmap\n",
    "graph=sns.heatmap(c_matrix, annot=True, fmt='d', cmap='Reds')\n",
    "bottom, top = graph.get_ylim()\n",
    "ax.set_ylim(bottom + 0.5, top - 0.5)\n",
    "\n",
    "plt.show()"
   ]
  },
  {
   "cell_type": "code",
   "execution_count": 77,
   "metadata": {},
   "outputs": [
    {
     "name": "stdout",
     "output_type": "stream",
     "text": [
      "0.5803571428571429\n",
      "0.5803571428571429\n",
      "0.5803571428571429\n",
      "0.5803571428571429\n"
     ]
    }
   ],
   "source": [
    "print(metrics.accuracy_score(y_sm, y_pred))\n",
    "print(metrics.f1_score(y_sm, y_pred, average='micro'))\n",
    "print(metrics.recall_score(y_sm, y_pred, average='micro'))\n",
    "print(metrics.precision_score(y_sm, y_pred, average='micro'))"
   ]
  },
  {
   "cell_type": "code",
   "execution_count": 69,
   "metadata": {},
   "outputs": [],
   "source": [
    "from sklearn import metrics"
   ]
  },
  {
   "cell_type": "code",
   "execution_count": null,
   "metadata": {},
   "outputs": [],
   "source": []
  }
 ],
 "metadata": {
  "kernelspec": {
   "display_name": "Python 3",
   "language": "python",
   "name": "python3"
  },
  "language_info": {
   "codemirror_mode": {
    "name": "ipython",
    "version": 3
   },
   "file_extension": ".py",
   "mimetype": "text/x-python",
   "name": "python",
   "nbconvert_exporter": "python",
   "pygments_lexer": "ipython3",
   "version": "3.7.4"
  }
 },
 "nbformat": 4,
 "nbformat_minor": 2
}
