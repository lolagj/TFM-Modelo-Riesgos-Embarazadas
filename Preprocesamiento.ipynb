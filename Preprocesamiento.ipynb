{
 "cells": [
  {
   "cell_type": "markdown",
   "metadata": {},
   "source": [
    "# Preprocesamiento"
   ]
  },
  {
   "cell_type": "code",
   "execution_count": 42,
   "metadata": {},
   "outputs": [],
   "source": [
    "import pandas as pd\n",
    "import numpy as np\n",
    "import matplotlib.pyplot as plt\n",
    "import seaborn as sns"
   ]
  },
  {
   "cell_type": "code",
   "execution_count": 43,
   "metadata": {},
   "outputs": [],
   "source": [
    "data = pd.read_excel(\"data/datos.xlsx\" )\n",
    "data.drop('Patient nuber', axis=1, inplace=True)\n",
    "data.columns=[\"age\", \"weight\", \"height\", \"BMI\", \"R-RI\", \"R-PI\", \"R-PSV\", \"L-RI\", \"L-PI\", \"L-PSV\", \"meanRI\", \"meanPI\", \"meanPSV\", \"bilateralNotch\", \"age_delivery\", \"parity\", \"birth_weight\", \"S-Flt1\", \"S-PLGF\", \"sFLT/PLGF\", \"class\"] "
   ]
  },
  {
   "cell_type": "markdown",
   "metadata": {},
   "source": [
    "## 1. Valores ausentes"
   ]
  },
  {
   "cell_type": "code",
   "execution_count": 44,
   "metadata": {},
   "outputs": [
    {
     "data": {
      "text/plain": [
       "age               0\n",
       "weight            1\n",
       "height            1\n",
       "BMI               3\n",
       "R-RI              0\n",
       "R-PI              0\n",
       "R-PSV             0\n",
       "L-RI              0\n",
       "L-PI              0\n",
       "L-PSV             0\n",
       "meanRI            0\n",
       "meanPI            0\n",
       "meanPSV           2\n",
       "bilateralNotch    0\n",
       "age_delivery      0\n",
       "parity            0\n",
       "birth_weight      0\n",
       "S-Flt1            0\n",
       "S-PLGF            0\n",
       "sFLT/PLGF         0\n",
       "class             0\n",
       "dtype: int64"
      ]
     },
     "execution_count": 44,
     "metadata": {},
     "output_type": "execute_result"
    }
   ],
   "source": [
    "data.isnull().sum()"
   ]
  },
  {
   "cell_type": "code",
   "execution_count": 45,
   "metadata": {},
   "outputs": [
    {
     "data": {
      "text/html": [
       "<div>\n",
       "<style scoped>\n",
       "    .dataframe tbody tr th:only-of-type {\n",
       "        vertical-align: middle;\n",
       "    }\n",
       "\n",
       "    .dataframe tbody tr th {\n",
       "        vertical-align: top;\n",
       "    }\n",
       "\n",
       "    .dataframe thead th {\n",
       "        text-align: right;\n",
       "    }\n",
       "</style>\n",
       "<table border=\"1\" class=\"dataframe\">\n",
       "  <thead>\n",
       "    <tr style=\"text-align: right;\">\n",
       "      <th></th>\n",
       "      <th>age</th>\n",
       "      <th>weight</th>\n",
       "      <th>height</th>\n",
       "      <th>BMI</th>\n",
       "      <th>R-RI</th>\n",
       "      <th>R-PI</th>\n",
       "      <th>R-PSV</th>\n",
       "      <th>L-RI</th>\n",
       "      <th>L-PI</th>\n",
       "      <th>L-PSV</th>\n",
       "      <th>...</th>\n",
       "      <th>meanPI</th>\n",
       "      <th>meanPSV</th>\n",
       "      <th>bilateralNotch</th>\n",
       "      <th>age_delivery</th>\n",
       "      <th>parity</th>\n",
       "      <th>birth_weight</th>\n",
       "      <th>S-Flt1</th>\n",
       "      <th>S-PLGF</th>\n",
       "      <th>sFLT/PLGF</th>\n",
       "      <th>class</th>\n",
       "    </tr>\n",
       "  </thead>\n",
       "  <tbody>\n",
       "    <tr>\n",
       "      <td>58</td>\n",
       "      <td>43</td>\n",
       "      <td>66.0</td>\n",
       "      <td>1.52</td>\n",
       "      <td>NaN</td>\n",
       "      <td>0.63</td>\n",
       "      <td>0.60</td>\n",
       "      <td>67.4</td>\n",
       "      <td>0.59</td>\n",
       "      <td>0.67</td>\n",
       "      <td>62.9</td>\n",
       "      <td>...</td>\n",
       "      <td>0.635</td>\n",
       "      <td>65.15</td>\n",
       "      <td>0</td>\n",
       "      <td>32.714286</td>\n",
       "      <td>1</td>\n",
       "      <td>1480</td>\n",
       "      <td>27390</td>\n",
       "      <td>153.60</td>\n",
       "      <td>178.320312</td>\n",
       "      <td>IUGR_PE</td>\n",
       "    </tr>\n",
       "    <tr>\n",
       "      <td>59</td>\n",
       "      <td>36</td>\n",
       "      <td>52.0</td>\n",
       "      <td>1.64</td>\n",
       "      <td>NaN</td>\n",
       "      <td>0.67</td>\n",
       "      <td>0.81</td>\n",
       "      <td>57.9</td>\n",
       "      <td>0.69</td>\n",
       "      <td>0.89</td>\n",
       "      <td>61.4</td>\n",
       "      <td>...</td>\n",
       "      <td>0.850</td>\n",
       "      <td>59.65</td>\n",
       "      <td>1</td>\n",
       "      <td>34.714286</td>\n",
       "      <td>1</td>\n",
       "      <td>1280</td>\n",
       "      <td>29805</td>\n",
       "      <td>79.73</td>\n",
       "      <td>373.824157</td>\n",
       "      <td>IUGR_PE</td>\n",
       "    </tr>\n",
       "    <tr>\n",
       "      <td>61</td>\n",
       "      <td>26</td>\n",
       "      <td>NaN</td>\n",
       "      <td>NaN</td>\n",
       "      <td>NaN</td>\n",
       "      <td>0.84</td>\n",
       "      <td>2.02</td>\n",
       "      <td>68.8</td>\n",
       "      <td>0.83</td>\n",
       "      <td>2.28</td>\n",
       "      <td>59.4</td>\n",
       "      <td>...</td>\n",
       "      <td>2.150</td>\n",
       "      <td>64.10</td>\n",
       "      <td>1</td>\n",
       "      <td>28.000000</td>\n",
       "      <td>1</td>\n",
       "      <td>MFIU</td>\n",
       "      <td>10015</td>\n",
       "      <td>42.64</td>\n",
       "      <td>234.873358</td>\n",
       "      <td>IUGR</td>\n",
       "    </tr>\n",
       "    <tr>\n",
       "      <td>93</td>\n",
       "      <td>30</td>\n",
       "      <td>53.0</td>\n",
       "      <td>1.57</td>\n",
       "      <td>21.501886</td>\n",
       "      <td>0.49</td>\n",
       "      <td>0.52</td>\n",
       "      <td>60.4</td>\n",
       "      <td>0.51</td>\n",
       "      <td>0.56</td>\n",
       "      <td>58.1</td>\n",
       "      <td>...</td>\n",
       "      <td>0.540</td>\n",
       "      <td>NaN</td>\n",
       "      <td>0</td>\n",
       "      <td>34.142857</td>\n",
       "      <td>1</td>\n",
       "      <td>1570</td>\n",
       "      <td>10535</td>\n",
       "      <td>34.97</td>\n",
       "      <td>301.258221</td>\n",
       "      <td>PE</td>\n",
       "    </tr>\n",
       "    <tr>\n",
       "      <td>94</td>\n",
       "      <td>26</td>\n",
       "      <td>74.0</td>\n",
       "      <td>1.65</td>\n",
       "      <td>27.180900</td>\n",
       "      <td>0.69</td>\n",
       "      <td>0.62</td>\n",
       "      <td>54.9</td>\n",
       "      <td>0.73</td>\n",
       "      <td>0.71</td>\n",
       "      <td>60.5</td>\n",
       "      <td>...</td>\n",
       "      <td>0.665</td>\n",
       "      <td>NaN</td>\n",
       "      <td>2</td>\n",
       "      <td>30.428571</td>\n",
       "      <td>1</td>\n",
       "      <td>1180</td>\n",
       "      <td>12154</td>\n",
       "      <td>15.84</td>\n",
       "      <td>767.297980</td>\n",
       "      <td>PE</td>\n",
       "    </tr>\n",
       "  </tbody>\n",
       "</table>\n",
       "<p>5 rows × 21 columns</p>\n",
       "</div>"
      ],
      "text/plain": [
       "    age  weight  height        BMI  R-RI  R-PI  R-PSV  L-RI  L-PI  L-PSV  ...  \\\n",
       "58   43    66.0    1.52        NaN  0.63  0.60   67.4  0.59  0.67   62.9  ...   \n",
       "59   36    52.0    1.64        NaN  0.67  0.81   57.9  0.69  0.89   61.4  ...   \n",
       "61   26     NaN     NaN        NaN  0.84  2.02   68.8  0.83  2.28   59.4  ...   \n",
       "93   30    53.0    1.57  21.501886  0.49  0.52   60.4  0.51  0.56   58.1  ...   \n",
       "94   26    74.0    1.65  27.180900  0.69  0.62   54.9  0.73  0.71   60.5  ...   \n",
       "\n",
       "    meanPI  meanPSV  bilateralNotch  age_delivery  parity  birth_weight  \\\n",
       "58   0.635    65.15               0     32.714286       1          1480   \n",
       "59   0.850    59.65               1     34.714286       1          1280   \n",
       "61   2.150    64.10               1     28.000000       1          MFIU   \n",
       "93   0.540      NaN               0     34.142857       1          1570   \n",
       "94   0.665      NaN               2     30.428571       1          1180   \n",
       "\n",
       "   S-Flt1  S-PLGF   sFLT/PLGF    class  \n",
       "58  27390  153.60  178.320312  IUGR_PE  \n",
       "59  29805   79.73  373.824157  IUGR_PE  \n",
       "61  10015   42.64  234.873358     IUGR  \n",
       "93  10535   34.97  301.258221       PE  \n",
       "94  12154   15.84  767.297980       PE  \n",
       "\n",
       "[5 rows x 21 columns]"
      ]
     },
     "execution_count": 45,
     "metadata": {},
     "output_type": "execute_result"
    }
   ],
   "source": [
    "nulos = data[data.isnull().any(1)]\n",
    "nulos"
   ]
  },
  {
   "cell_type": "code",
   "execution_count": 46,
   "metadata": {},
   "outputs": [],
   "source": [
    "mean_weight = data[\"weight\"].mean()\n",
    "data[\"weight\"]= data[\"weight\"].fillna(mean_weight)"
   ]
  },
  {
   "cell_type": "code",
   "execution_count": 47,
   "metadata": {},
   "outputs": [],
   "source": [
    "mean_height = data[\"height\"].mean()\n",
    "data[\"height\"]= data[\"height\"].fillna(mean_height)"
   ]
  },
  {
   "cell_type": "code",
   "execution_count": 48,
   "metadata": {},
   "outputs": [],
   "source": [
    "data[\"BMI\"]= data[\"BMI\"].fillna(data[\"weight\"]/(data[\"height\"]*data[\"height\"]))"
   ]
  },
  {
   "cell_type": "code",
   "execution_count": 49,
   "metadata": {},
   "outputs": [
    {
     "data": {
      "text/html": [
       "<div>\n",
       "<style scoped>\n",
       "    .dataframe tbody tr th:only-of-type {\n",
       "        vertical-align: middle;\n",
       "    }\n",
       "\n",
       "    .dataframe tbody tr th {\n",
       "        vertical-align: top;\n",
       "    }\n",
       "\n",
       "    .dataframe thead th {\n",
       "        text-align: right;\n",
       "    }\n",
       "</style>\n",
       "<table border=\"1\" class=\"dataframe\">\n",
       "  <thead>\n",
       "    <tr style=\"text-align: right;\">\n",
       "      <th></th>\n",
       "      <th>weight</th>\n",
       "      <th>height</th>\n",
       "      <th>BMI</th>\n",
       "    </tr>\n",
       "  </thead>\n",
       "  <tbody>\n",
       "    <tr>\n",
       "      <td>58</td>\n",
       "      <td>66.000000</td>\n",
       "      <td>1.520000</td>\n",
       "      <td>28.566482</td>\n",
       "    </tr>\n",
       "    <tr>\n",
       "      <td>59</td>\n",
       "      <td>52.000000</td>\n",
       "      <td>1.640000</td>\n",
       "      <td>19.333730</td>\n",
       "    </tr>\n",
       "    <tr>\n",
       "      <td>61</td>\n",
       "      <td>67.531915</td>\n",
       "      <td>1.655638</td>\n",
       "      <td>24.636450</td>\n",
       "    </tr>\n",
       "  </tbody>\n",
       "</table>\n",
       "</div>"
      ],
      "text/plain": [
       "       weight    height        BMI\n",
       "58  66.000000  1.520000  28.566482\n",
       "59  52.000000  1.640000  19.333730\n",
       "61  67.531915  1.655638  24.636450"
      ]
     },
     "execution_count": 49,
     "metadata": {},
     "output_type": "execute_result"
    }
   ],
   "source": [
    "whb = pd.DataFrame([data.loc[58], data.loc[59],data.loc[61]])\n",
    "whb[[\"weight\", \"height\", \"BMI\"]]"
   ]
  },
  {
   "cell_type": "code",
   "execution_count": 50,
   "metadata": {},
   "outputs": [],
   "source": [
    "data[\"meanPSV\"]= data[\"meanPSV\"].fillna((data[\"R-PSV\"]+data[\"L-PSV\"])/2)"
   ]
  },
  {
   "cell_type": "code",
   "execution_count": 51,
   "metadata": {},
   "outputs": [
    {
     "data": {
      "text/html": [
       "<div>\n",
       "<style scoped>\n",
       "    .dataframe tbody tr th:only-of-type {\n",
       "        vertical-align: middle;\n",
       "    }\n",
       "\n",
       "    .dataframe tbody tr th {\n",
       "        vertical-align: top;\n",
       "    }\n",
       "\n",
       "    .dataframe thead th {\n",
       "        text-align: right;\n",
       "    }\n",
       "</style>\n",
       "<table border=\"1\" class=\"dataframe\">\n",
       "  <thead>\n",
       "    <tr style=\"text-align: right;\">\n",
       "      <th></th>\n",
       "      <th>R-PSV</th>\n",
       "      <th>L-PSV</th>\n",
       "      <th>meanPSV</th>\n",
       "    </tr>\n",
       "  </thead>\n",
       "  <tbody>\n",
       "    <tr>\n",
       "      <td>93</td>\n",
       "      <td>60.4</td>\n",
       "      <td>58.1</td>\n",
       "      <td>59.25</td>\n",
       "    </tr>\n",
       "    <tr>\n",
       "      <td>94</td>\n",
       "      <td>54.9</td>\n",
       "      <td>60.5</td>\n",
       "      <td>57.70</td>\n",
       "    </tr>\n",
       "  </tbody>\n",
       "</table>\n",
       "</div>"
      ],
      "text/plain": [
       "    R-PSV  L-PSV  meanPSV\n",
       "93   60.4   58.1    59.25\n",
       "94   54.9   60.5    57.70"
      ]
     },
     "execution_count": 51,
     "metadata": {},
     "output_type": "execute_result"
    }
   ],
   "source": [
    "psv = pd.DataFrame([data.loc[93], data.loc[94]])\n",
    "psv[[\"R-PSV\", \"L-PSV\", \"meanPSV\"]]"
   ]
  },
  {
   "cell_type": "code",
   "execution_count": 52,
   "metadata": {},
   "outputs": [
    {
     "data": {
      "text/plain": [
       "age               0\n",
       "weight            0\n",
       "height            0\n",
       "BMI               0\n",
       "R-RI              0\n",
       "R-PI              0\n",
       "R-PSV             0\n",
       "L-RI              0\n",
       "L-PI              0\n",
       "L-PSV             0\n",
       "meanRI            0\n",
       "meanPI            0\n",
       "meanPSV           0\n",
       "bilateralNotch    0\n",
       "age_delivery      0\n",
       "parity            0\n",
       "birth_weight      0\n",
       "S-Flt1            0\n",
       "S-PLGF            0\n",
       "sFLT/PLGF         0\n",
       "class             0\n",
       "dtype: int64"
      ]
     },
     "execution_count": 52,
     "metadata": {},
     "output_type": "execute_result"
    }
   ],
   "source": [
    "data.isnull().sum()"
   ]
  },
  {
   "cell_type": "markdown",
   "metadata": {},
   "source": [
    "## 2. Cambio tipo de variable"
   ]
  },
  {
   "cell_type": "code",
   "execution_count": 53,
   "metadata": {},
   "outputs": [
    {
     "data": {
      "text/plain": [
       "array([3060, 2780, 2450, 2490, 1905, 2180, 1910, 2600, 3110, 1510, 3550,\n",
       "       3310, 3600, 2860, 2650, 3575, 1890, 3090, 3700, 2890, 2430, 3890,\n",
       "       3750, 3250, 3560, 1790, 3610, 1250, 3500, 430, 1470, 2050, 1700,\n",
       "       1680, 1930, 500, 1760, 530, 1210, 985, 780, 1200, 980, 1140, 1950,\n",
       "       965, 830, 810, 2460, 1800, 1970, 2810, 2120, 3175, 1050, 1345,\n",
       "       1480, 1280, 1150, 'MFIU', 890, 2940, 1840, 720, 1135, 650, 2160,\n",
       "       930, 3070, 220, 4040, 3800, 1690, 3170, 3040, 37, 1610, 2100, 1020,\n",
       "       4000, 3030, 850, 3300, 2950, 2440, 427, 2930, 1570, 1180],\n",
       "      dtype=object)"
      ]
     },
     "execution_count": 53,
     "metadata": {},
     "output_type": "execute_result"
    }
   ],
   "source": [
    "data[\"birth_weight\"].unique()"
   ]
  },
  {
   "cell_type": "markdown",
   "metadata": {},
   "source": [
    "MFIU --> muerte intrauterina. Cambiaremos este valor por 0"
   ]
  },
  {
   "cell_type": "code",
   "execution_count": 54,
   "metadata": {},
   "outputs": [],
   "source": [
    "data.loc[data.birth_weight=='MFIU','birth_weight']=0"
   ]
  },
  {
   "cell_type": "code",
   "execution_count": 55,
   "metadata": {},
   "outputs": [],
   "source": [
    "data[\"birth_weight\"]= pd.to_numeric(data[\"birth_weight\"])"
   ]
  },
  {
   "cell_type": "code",
   "execution_count": 56,
   "metadata": {},
   "outputs": [
    {
     "name": "stdout",
     "output_type": "stream",
     "text": [
      "<class 'pandas.core.frame.DataFrame'>\n",
      "RangeIndex: 95 entries, 0 to 94\n",
      "Data columns (total 21 columns):\n",
      "age               95 non-null int64\n",
      "weight            95 non-null float64\n",
      "height            95 non-null float64\n",
      "BMI               95 non-null float64\n",
      "R-RI              95 non-null float64\n",
      "R-PI              95 non-null float64\n",
      "R-PSV             95 non-null float64\n",
      "L-RI              95 non-null float64\n",
      "L-PI              95 non-null float64\n",
      "L-PSV             95 non-null float64\n",
      "meanRI            95 non-null float64\n",
      "meanPI            95 non-null float64\n",
      "meanPSV           95 non-null float64\n",
      "bilateralNotch    95 non-null int64\n",
      "age_delivery      95 non-null float64\n",
      "parity            95 non-null int64\n",
      "birth_weight      95 non-null int64\n",
      "S-Flt1            95 non-null int64\n",
      "S-PLGF            95 non-null float64\n",
      "sFLT/PLGF         95 non-null float64\n",
      "class             95 non-null object\n",
      "dtypes: float64(15), int64(5), object(1)\n",
      "memory usage: 15.7+ KB\n"
     ]
    }
   ],
   "source": [
    "data.info()"
   ]
  },
  {
   "cell_type": "markdown",
   "metadata": {},
   "source": [
    "## 3. Normalización"
   ]
  },
  {
   "cell_type": "code",
   "execution_count": null,
   "metadata": {},
   "outputs": [],
   "source": []
  }
 ],
 "metadata": {
  "kernelspec": {
   "display_name": "Python 3",
   "language": "python",
   "name": "python3"
  },
  "language_info": {
   "codemirror_mode": {
    "name": "ipython",
    "version": 3
   },
   "file_extension": ".py",
   "mimetype": "text/x-python",
   "name": "python",
   "nbconvert_exporter": "python",
   "pygments_lexer": "ipython3",
   "version": "3.7.4"
  }
 },
 "nbformat": 4,
 "nbformat_minor": 2
}
